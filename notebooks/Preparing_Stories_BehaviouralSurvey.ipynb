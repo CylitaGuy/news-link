{
 "cells": [
  {
   "cell_type": "markdown",
   "metadata": {},
   "source": [
    "# Stories & Links for Behavioural Survey\n",
    "\n",
    "I was curious to understand if people would think that journalist inserted links, TF-IDF selected links, GloVe embeddings and cosine similarity selected links, or GloVe embeddings and WMD selected links would be more simialar to a given article. To accomplish this I decided to administer a short story where individuals had to read an article, and then select which story title the thought was most similar to a story of interest. The following notebook highlights how I selected the link options to be included. "
   ]
  },
  {
   "cell_type": "code",
   "execution_count": 1,
   "metadata": {},
   "outputs": [],
   "source": [
    "#Loading in required packages\n",
    "import pandas as pd\n",
    "import numpy as np\n",
    "import sys\n",
    "import pyemd\n",
    "import inspect\n",
    "from pathlib import Path\n",
    "\n",
    "#specifying the root path\n",
    "sys.path.insert(1, '../scripts/')\n",
    "\n",
    "#self written functions and scripts that will be needed\n",
    "import text_normalization_funs as TN\n",
    "import similiarity_funcs as SIM"
   ]
  },
  {
   "cell_type": "code",
   "execution_count": 2,
   "metadata": {},
   "outputs": [],
   "source": [
    "#Specifying root path and path to data and scripts\n",
    "root_path = Path('..')\n",
    "data_path = root_path/\"data\"\n",
    "scripts_path = data_path/\"scripts\""
   ]
  },
  {
   "cell_type": "code",
   "execution_count": 3,
   "metadata": {},
   "outputs": [],
   "source": [
    "#Loading in data \n",
    "news_corpus = pd.read_csv(data_path/\"cleaned\"/'Final_Cleaned_Corpus.txt')"
   ]
  },
  {
   "cell_type": "code",
   "execution_count": 4,
   "metadata": {},
   "outputs": [],
   "source": [
    "#Loading in three pre-selected test stories\n",
    "\n",
    "with open(data_path/\"cleaned\"/'TestStory_1.txt', 'r') as file:\n",
    "    TestStory1 = file.read().replace('\\n', '')\n",
    "\n",
    "with open(data_path/\"cleaned\"/'TestStory_2.txt', 'r') as file:\n",
    "    TestStory2 = file.read().replace('\\n', '')\n",
    "\n",
    "with open(data_path/\"cleaned\"/'TestStory_3.txt', 'r') as file:\n",
    "    TestStory3 = file.read().replace('\\n', '')\n"
   ]
  },
  {
   "cell_type": "code",
   "execution_count": 5,
   "metadata": {},
   "outputs": [],
   "source": [
    "#Cleaning the test stories to get them ready for comparison\n",
    "cleancomp1 = TN.normalize_Story(story = TestStory1)\n",
    "cleancomp2 = TN.normalize_Story(story = TestStory2)\n",
    "cleancomp3 = TN.normalize_Story(story = TestStory3)\n",
    "\n"
   ]
  },
  {
   "cell_type": "markdown",
   "metadata": {},
   "source": [
    "### TF-IDF Links"
   ]
  },
  {
   "cell_type": "code",
   "execution_count": 8,
   "metadata": {},
   "outputs": [],
   "source": [
    "#Computing similarity scores for given dataframe\n",
    "scores1 = SIM.SimCorpCreate(corpora = news_corpus['cleaned_text'], directory= str(scripts_path), \n",
    "                           querydoc = cleancomp1)\n",
    "scores2 = SIM.SimCorpCreate(corpora = news_corpus['cleaned_text'], directory= str(scripts_path), \n",
    "                           querydoc = cleancomp2)\n",
    "scores3 = SIM.SimCorpCreate(corpora = news_corpus['cleaned_text'], directory= str(scripts_path), \n",
    "                           querydoc = cleancomp3)\n",
    "\n",
    "#Getting top similar stories\n",
    "Top_Whole_Stories1 = SIM.StoryMatch(SimScores = scores1, originalDF = news_corpus)\n",
    "Top_Whole_Stories2 = SIM.StoryMatch(SimScores = scores2, originalDF = news_corpus)\n",
    "Top_Whole_Stories3 = SIM.StoryMatch(SimScores = scores3, originalDF = news_corpus)"
   ]
  },
  {
   "cell_type": "code",
   "execution_count": 48,
   "metadata": {},
   "outputs": [
    {
     "data": {
      "text/html": [
       "<div>\n",
       "<style scoped>\n",
       "    .dataframe tbody tr th:only-of-type {\n",
       "        vertical-align: middle;\n",
       "    }\n",
       "\n",
       "    .dataframe tbody tr th {\n",
       "        vertical-align: top;\n",
       "    }\n",
       "\n",
       "    .dataframe thead th {\n",
       "        text-align: right;\n",
       "    }\n",
       "</style>\n",
       "<table border=\"1\" class=\"dataframe\">\n",
       "  <thead>\n",
       "    <tr style=\"text-align: right;\">\n",
       "      <th></th>\n",
       "      <th>title</th>\n",
       "      <th>mainurl</th>\n",
       "      <th>sim_scores</th>\n",
       "    </tr>\n",
       "  </thead>\n",
       "  <tbody>\n",
       "    <tr>\n",
       "      <td>153</td>\n",
       "      <td>Oil and gas industry must do more to address c...</td>\n",
       "      <td>https://www.cbc.ca/news/business/oil-and-gas-i...</td>\n",
       "      <td>0.123619</td>\n",
       "    </tr>\n",
       "    <tr>\n",
       "      <td>1464</td>\n",
       "      <td>'No excitement at all' as oilpatch interest wa...</td>\n",
       "      <td>https://www.cbc.ca/news/canada/calgary/crown-d...</td>\n",
       "      <td>0.121086</td>\n",
       "    </tr>\n",
       "    <tr>\n",
       "      <td>1346</td>\n",
       "      <td>The new two solitudes: 'Alberta and the rest o...</td>\n",
       "      <td>https://www.cbc.ca/news/canada/calgary/angus-r...</td>\n",
       "      <td>0.094260</td>\n",
       "    </tr>\n",
       "    <tr>\n",
       "      <td>1447</td>\n",
       "      <td>P.E.I. immigration forecast to reach record le...</td>\n",
       "      <td>https://www.cbc.ca/news/canada/prince-edward-i...</td>\n",
       "      <td>0.090523</td>\n",
       "    </tr>\n",
       "    <tr>\n",
       "      <td>304</td>\n",
       "      <td>Another record year for SUV sales in Quebec as...</td>\n",
       "      <td>https://www.cbc.ca/news/canada/montreal/quebec...</td>\n",
       "      <td>0.088483</td>\n",
       "    </tr>\n",
       "    <tr>\n",
       "      <td>1553</td>\n",
       "      <td>Irving Oil refinery drops 2020 carbon cut pledge</td>\n",
       "      <td>https://www.cbc.ca/news/canada/new-brunswick/i...</td>\n",
       "      <td>0.087952</td>\n",
       "    </tr>\n",
       "    <tr>\n",
       "      <td>480</td>\n",
       "      <td>Bank of Canada holds interest rates steady</td>\n",
       "      <td>https://www.cbc.ca/news/business/bank-of-canad...</td>\n",
       "      <td>0.087437</td>\n",
       "    </tr>\n",
       "    <tr>\n",
       "      <td>481</td>\n",
       "      <td>Bank of Canada holds interest rates steady</td>\n",
       "      <td>https://www.cbc.cahttps://ici.radio-canada.ca/...</td>\n",
       "      <td>0.087437</td>\n",
       "    </tr>\n",
       "    <tr>\n",
       "      <td>288</td>\n",
       "      <td>China's economic growth sinks to lowest level ...</td>\n",
       "      <td>https://www.cbc.ca/news/world/china-economy-we...</td>\n",
       "      <td>0.085211</td>\n",
       "    </tr>\n",
       "    <tr>\n",
       "      <td>1264</td>\n",
       "      <td>Alberta leaders cheer court ruling against B.C...</td>\n",
       "      <td>https://www.cbc.ca/news/canada/calgary/trans-m...</td>\n",
       "      <td>0.083661</td>\n",
       "    </tr>\n",
       "  </tbody>\n",
       "</table>\n",
       "</div>"
      ],
      "text/plain": [
       "                                                  title  \\\n",
       "153   Oil and gas industry must do more to address c...   \n",
       "1464  'No excitement at all' as oilpatch interest wa...   \n",
       "1346  The new two solitudes: 'Alberta and the rest o...   \n",
       "1447  P.E.I. immigration forecast to reach record le...   \n",
       "304   Another record year for SUV sales in Quebec as...   \n",
       "1553  Irving Oil refinery drops 2020 carbon cut pledge    \n",
       "480         Bank of Canada holds interest rates steady    \n",
       "481         Bank of Canada holds interest rates steady    \n",
       "288   China's economic growth sinks to lowest level ...   \n",
       "1264  Alberta leaders cheer court ruling against B.C...   \n",
       "\n",
       "                                                mainurl  sim_scores  \n",
       "153   https://www.cbc.ca/news/business/oil-and-gas-i...    0.123619  \n",
       "1464  https://www.cbc.ca/news/canada/calgary/crown-d...    0.121086  \n",
       "1346  https://www.cbc.ca/news/canada/calgary/angus-r...    0.094260  \n",
       "1447  https://www.cbc.ca/news/canada/prince-edward-i...    0.090523  \n",
       "304   https://www.cbc.ca/news/canada/montreal/quebec...    0.088483  \n",
       "1553  https://www.cbc.ca/news/canada/new-brunswick/i...    0.087952  \n",
       "480   https://www.cbc.ca/news/business/bank-of-canad...    0.087437  \n",
       "481   https://www.cbc.cahttps://ici.radio-canada.ca/...    0.087437  \n",
       "288   https://www.cbc.ca/news/world/china-economy-we...    0.085211  \n",
       "1264  https://www.cbc.ca/news/canada/calgary/trans-m...    0.083661  "
      ]
     },
     "execution_count": 48,
     "metadata": {},
     "output_type": "execute_result"
    }
   ],
   "source": [
    "Top_Whole_Stories1"
   ]
  },
  {
   "cell_type": "code",
   "execution_count": null,
   "metadata": {},
   "outputs": [],
   "source": [
    "Top_Whole_Stories2"
   ]
  },
  {
   "cell_type": "code",
   "execution_count": null,
   "metadata": {},
   "outputs": [],
   "source": [
    "Top_Whole_Stories3"
   ]
  },
  {
   "cell_type": "markdown",
   "metadata": {},
   "source": [
    "### GloVe Embeddings & Cosine Similarity"
   ]
  },
  {
   "cell_type": "code",
   "execution_count": 60,
   "metadata": {},
   "outputs": [],
   "source": [
    "#Calculating embeddings\n",
    "embeds = GloveEmbeds (corpus = news_corpus)"
   ]
  },
  {
   "cell_type": "code",
   "execution_count": null,
   "metadata": {},
   "outputs": [],
   "source": [
    "#Computing the similar stories using embeddings\n",
    "glove1 = GloVeCosine(querydoc = cleancomp1, corpus_embeddings = embeds)\n",
    "glove2 = GloVeCosine(querydoc = cleancomp2, corpus_embeddings = embeds)\n",
    "glove3 = GloVeCosine(querydoc = cleancomp3, corpus_embeddings = embeds)"
   ]
  },
  {
   "cell_type": "code",
   "execution_count": 63,
   "metadata": {},
   "outputs": [],
   "source": [
    "#Getting most similar stories\n",
    "glovesim1 = SIM.StoryMatch_Val (SimScores = glove1, originalDF = news_corpus, NumLinks = 10)\n",
    "glovesim2 = SIM.StoryMatch_Val (SimScores = glove2, originalDF = news_corpus, NumLinks = 10)\n",
    "glovesim3 = SIM.StoryMatch_Val (SimScores = glove3, originalDF = news_corpus, NumLinks = 10)"
   ]
  },
  {
   "cell_type": "markdown",
   "metadata": {},
   "source": [
    "### GloVe Embeddings & WMD"
   ]
  },
  {
   "cell_type": "code",
   "execution_count": null,
   "metadata": {},
   "outputs": [],
   "source": [
    "w_embeds = WMDEmbeds(corpus = news_corpus)"
   ]
  },
  {
   "cell_type": "code",
   "execution_count": 35,
   "metadata": {},
   "outputs": [],
   "source": [
    "#Computing the similar stories using embeddings\n",
    "wmd1 = GloVeWMD(querydoc = cleancomp1, corpus_embeddings = w_embeds)\n",
    "wmd2 = GloVeWMD(querydoc = cleancomp2, corpus_embeddings = w_embeds)\n",
    "wmd3 = GloVeWMD(querydoc = cleancomp3, corpus_embeddings = w_embeds)"
   ]
  },
  {
   "cell_type": "code",
   "execution_count": 65,
   "metadata": {},
   "outputs": [],
   "source": [
    "#Getting the most similar stories \n",
    "wmdsim1 = EmbeddingMatch(scores = wmd1, originalDF = news_corpus, NumLinks=10)\n",
    "wmdsim2 = EmbeddingMatch(scores = wmd2, originalDF = news_corpus, NumLinks=10)\n",
    "wmdsim3 = EmbeddingMatch(scores = wmd3, originalDF = news_corpus, NumLinks=10)"
   ]
  }
 ],
 "metadata": {
  "kernelspec": {
   "display_name": "Python 3",
   "language": "python",
   "name": "python3"
  },
  "language_info": {
   "codemirror_mode": {
    "name": "ipython",
    "version": 3
   },
   "file_extension": ".py",
   "mimetype": "text/x-python",
   "name": "python",
   "nbconvert_exporter": "python",
   "pygments_lexer": "ipython3",
   "version": "3.7.4"
  }
 },
 "nbformat": 4,
 "nbformat_minor": 2
}
