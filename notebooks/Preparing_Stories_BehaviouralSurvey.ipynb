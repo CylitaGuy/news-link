{
 "cells": [
  {
   "cell_type": "code",
   "execution_count": 28,
   "metadata": {},
   "outputs": [],
   "source": [
    "#Loading in required packages\n",
    "import pandas as pd\n",
    "import numpy as np\n",
    "import sys\n",
    "import pyemd\n",
    "import inspect\n",
    "# importing all necessary modules \n",
    "from nltk.tokenize import sent_tokenize, word_tokenize \n",
    "import warnings \n",
    "\n",
    "#specifying local system path for remaining functions files\n",
    "sys.path.insert(1, '/Users/Cylita/Desktop/insight-ds-project_news-link/scripts')\n",
    "\n",
    "#self written functions and scripts that will be needed\n",
    "import text_normalization_funs as TN\n",
    "import similiarity_funcs as SIM\n",
    "\n",
    "#Importing functions\n",
    "import gensim \n",
    "from gensim.models import Word2Vec \n",
    "\n",
    "import spacy\n",
    "nlp = spacy.load(\"en_core_web_lg\")\n",
    "\n",
    "import wmd\n",
    "nlp2 = spacy.load('en_core_web_lg', create_pipeline=wmd.WMD.create_spacy_pipeline)\n",
    "nlp2.add_pipe(wmd.WMD.SpacySimilarityHook(nlp2), last=True)\n"
   ]
  },
  {
   "cell_type": "code",
   "execution_count": 2,
   "metadata": {},
   "outputs": [],
   "source": [
    "#Loading in data \n",
    "#Loading in the fully cleaned corpus and validation metrics\n",
    "sys.path.insert(1, '/Users/Cylita/Desktop/insight-ds-project_news-link/data/cleaned/')\n",
    "news_corpus = pd.read_csv('/Users/Cylita/Desktop/insight-ds-project_news-link/data/cleaned/Final_Cleaned_Corpus.txt')"
   ]
  },
  {
   "cell_type": "code",
   "execution_count": 4,
   "metadata": {},
   "outputs": [],
   "source": [
    "#Load Google's pre-trained Word2Vec model.\n",
    "model = gensim.models.KeyedVectors.load_word2vec_format('/Users/Cylita/Desktop/insight-ds-project_news-link/scripts/GoogleNews-vectors-negative300.bin', binary=True)\n"
   ]
  },
  {
   "cell_type": "code",
   "execution_count": 46,
   "metadata": {},
   "outputs": [],
   "source": [
    "#Creating a test story:\n",
    "\n",
    "with open('/Users/Cylita/Desktop/insight-ds-project_news-link/data/cleaned/TestStory_1.txt', 'r') as file:\n",
    "    TestStory1 = file.read().replace('\\n', '')\n",
    "with open('/Users/Cylita/Desktop/insight-ds-project_news-link/data/cleaned/TestStory_2.txt', 'r') as file:\n",
    "    TestStory2 = file.read().replace('\\n', '')\n",
    "with open('/Users/Cylita/Desktop/insight-ds-project_news-link/data/cleaned/TestStory_3.txt', 'r') as file:\n",
    "    TestStory3 = file.read().replace('\\n', '')\n"
   ]
  },
  {
   "cell_type": "code",
   "execution_count": 59,
   "metadata": {},
   "outputs": [],
   "source": [
    "#Cleaning the comptext to get it ready fo TF-IDF\n",
    "cleancomp = TN.normalize_Story(story = TestStory3)\n",
    "\n",
    "#Computing similarity scores for given dataframe\n",
    "scores = SIM.SimCorpCreate(corpora = news_corpus['cleaned_text'], directory= '/Users/Cylita/Desktop/insight-ds-project_news-link/scripts/', \n",
    "                           querydoc = cleancomp)\n",
    "\n",
    "#Top Stories\n",
    "Top_Whole_Stories = SIM.StoryMatch(SimScores = scores, originalDF = news_corpus)\n"
   ]
  },
  {
   "cell_type": "code",
   "execution_count": 48,
   "metadata": {},
   "outputs": [
    {
     "data": {
      "text/html": [
       "<div>\n",
       "<style scoped>\n",
       "    .dataframe tbody tr th:only-of-type {\n",
       "        vertical-align: middle;\n",
       "    }\n",
       "\n",
       "    .dataframe tbody tr th {\n",
       "        vertical-align: top;\n",
       "    }\n",
       "\n",
       "    .dataframe thead th {\n",
       "        text-align: right;\n",
       "    }\n",
       "</style>\n",
       "<table border=\"1\" class=\"dataframe\">\n",
       "  <thead>\n",
       "    <tr style=\"text-align: right;\">\n",
       "      <th></th>\n",
       "      <th>title</th>\n",
       "      <th>mainurl</th>\n",
       "      <th>sim_scores</th>\n",
       "    </tr>\n",
       "  </thead>\n",
       "  <tbody>\n",
       "    <tr>\n",
       "      <td>153</td>\n",
       "      <td>Oil and gas industry must do more to address c...</td>\n",
       "      <td>https://www.cbc.ca/news/business/oil-and-gas-i...</td>\n",
       "      <td>0.123619</td>\n",
       "    </tr>\n",
       "    <tr>\n",
       "      <td>1464</td>\n",
       "      <td>'No excitement at all' as oilpatch interest wa...</td>\n",
       "      <td>https://www.cbc.ca/news/canada/calgary/crown-d...</td>\n",
       "      <td>0.121086</td>\n",
       "    </tr>\n",
       "    <tr>\n",
       "      <td>1346</td>\n",
       "      <td>The new two solitudes: 'Alberta and the rest o...</td>\n",
       "      <td>https://www.cbc.ca/news/canada/calgary/angus-r...</td>\n",
       "      <td>0.094260</td>\n",
       "    </tr>\n",
       "    <tr>\n",
       "      <td>1447</td>\n",
       "      <td>P.E.I. immigration forecast to reach record le...</td>\n",
       "      <td>https://www.cbc.ca/news/canada/prince-edward-i...</td>\n",
       "      <td>0.090523</td>\n",
       "    </tr>\n",
       "    <tr>\n",
       "      <td>304</td>\n",
       "      <td>Another record year for SUV sales in Quebec as...</td>\n",
       "      <td>https://www.cbc.ca/news/canada/montreal/quebec...</td>\n",
       "      <td>0.088483</td>\n",
       "    </tr>\n",
       "    <tr>\n",
       "      <td>1553</td>\n",
       "      <td>Irving Oil refinery drops 2020 carbon cut pledge</td>\n",
       "      <td>https://www.cbc.ca/news/canada/new-brunswick/i...</td>\n",
       "      <td>0.087952</td>\n",
       "    </tr>\n",
       "    <tr>\n",
       "      <td>480</td>\n",
       "      <td>Bank of Canada holds interest rates steady</td>\n",
       "      <td>https://www.cbc.ca/news/business/bank-of-canad...</td>\n",
       "      <td>0.087437</td>\n",
       "    </tr>\n",
       "    <tr>\n",
       "      <td>481</td>\n",
       "      <td>Bank of Canada holds interest rates steady</td>\n",
       "      <td>https://www.cbc.cahttps://ici.radio-canada.ca/...</td>\n",
       "      <td>0.087437</td>\n",
       "    </tr>\n",
       "    <tr>\n",
       "      <td>288</td>\n",
       "      <td>China's economic growth sinks to lowest level ...</td>\n",
       "      <td>https://www.cbc.ca/news/world/china-economy-we...</td>\n",
       "      <td>0.085211</td>\n",
       "    </tr>\n",
       "    <tr>\n",
       "      <td>1264</td>\n",
       "      <td>Alberta leaders cheer court ruling against B.C...</td>\n",
       "      <td>https://www.cbc.ca/news/canada/calgary/trans-m...</td>\n",
       "      <td>0.083661</td>\n",
       "    </tr>\n",
       "  </tbody>\n",
       "</table>\n",
       "</div>"
      ],
      "text/plain": [
       "                                                  title  \\\n",
       "153   Oil and gas industry must do more to address c...   \n",
       "1464  'No excitement at all' as oilpatch interest wa...   \n",
       "1346  The new two solitudes: 'Alberta and the rest o...   \n",
       "1447  P.E.I. immigration forecast to reach record le...   \n",
       "304   Another record year for SUV sales in Quebec as...   \n",
       "1553  Irving Oil refinery drops 2020 carbon cut pledge    \n",
       "480         Bank of Canada holds interest rates steady    \n",
       "481         Bank of Canada holds interest rates steady    \n",
       "288   China's economic growth sinks to lowest level ...   \n",
       "1264  Alberta leaders cheer court ruling against B.C...   \n",
       "\n",
       "                                                mainurl  sim_scores  \n",
       "153   https://www.cbc.ca/news/business/oil-and-gas-i...    0.123619  \n",
       "1464  https://www.cbc.ca/news/canada/calgary/crown-d...    0.121086  \n",
       "1346  https://www.cbc.ca/news/canada/calgary/angus-r...    0.094260  \n",
       "1447  https://www.cbc.ca/news/canada/prince-edward-i...    0.090523  \n",
       "304   https://www.cbc.ca/news/canada/montreal/quebec...    0.088483  \n",
       "1553  https://www.cbc.ca/news/canada/new-brunswick/i...    0.087952  \n",
       "480   https://www.cbc.ca/news/business/bank-of-canad...    0.087437  \n",
       "481   https://www.cbc.cahttps://ici.radio-canada.ca/...    0.087437  \n",
       "288   https://www.cbc.ca/news/world/china-economy-we...    0.085211  \n",
       "1264  https://www.cbc.ca/news/canada/calgary/trans-m...    0.083661  "
      ]
     },
     "execution_count": 48,
     "metadata": {},
     "output_type": "execute_result"
    }
   ],
   "source": [
    "Top_Whole_Stories"
   ]
  },
  {
   "cell_type": "code",
   "execution_count": 49,
   "metadata": {},
   "outputs": [],
   "source": [
    "doc_vector = []\n",
    "\n",
    "for doc in news_corpus['cleaned_text']:\n",
    "    testing = nlp(doc)\n",
    "    doc_vector.append(testing)\n",
    "    "
   ]
  },
  {
   "cell_type": "code",
   "execution_count": 60,
   "metadata": {},
   "outputs": [],
   "source": [
    "#Cleaning the comptext to get it ready fo TF-IDF\n",
    "cleancomp = TN.normalize_Story(story = TestStory3)"
   ]
  },
  {
   "cell_type": "code",
   "execution_count": 61,
   "metadata": {},
   "outputs": [],
   "source": [
    "query = nlp(cleancomp)"
   ]
  },
  {
   "cell_type": "code",
   "execution_count": 62,
   "metadata": {},
   "outputs": [],
   "source": [
    "sim_scores = []\n",
    "\n",
    "for doc in doc_vector:\n",
    "    score = query.similarity(doc)\n",
    "    sim_scores.append(score)"
   ]
  },
  {
   "cell_type": "code",
   "execution_count": 63,
   "metadata": {},
   "outputs": [],
   "source": [
    "tryagain = SIM.StoryMatch_Val (SimScores = sim_scores, originalDF = news_corpus, NumLinks = 10)"
   ]
  },
  {
   "cell_type": "code",
   "execution_count": 64,
   "metadata": {
    "scrolled": true
   },
   "outputs": [],
   "source": [
    "tryagain.to_csv(\"behavor3.csv\")\n"
   ]
  },
  {
   "cell_type": "code",
   "execution_count": 35,
   "metadata": {},
   "outputs": [],
   "source": [
    "doc_vector2 = []\n",
    "\n",
    "for doc in news_corpus['cleaned_text']:\n",
    "    testing = nlp2(doc)\n",
    "    doc_vector2.append(testing)"
   ]
  },
  {
   "cell_type": "code",
   "execution_count": 65,
   "metadata": {},
   "outputs": [],
   "source": [
    "query2 = nlp2(cleancomp)"
   ]
  },
  {
   "cell_type": "code",
   "execution_count": 66,
   "metadata": {},
   "outputs": [],
   "source": [
    "sim_scores2 = []\n",
    "\n",
    "for doc in doc_vector2:\n",
    "    score = query2.similarity(doc)\n",
    "    sim_scores2.append(score)"
   ]
  },
  {
   "cell_type": "code",
   "execution_count": 67,
   "metadata": {},
   "outputs": [],
   "source": [
    "tryagain2 = SIM.EmbeddingMatch (scores = sim_scores2, originalDF = news_corpus, NumLinks=10)"
   ]
  },
  {
   "cell_type": "code",
   "execution_count": 68,
   "metadata": {},
   "outputs": [],
   "source": [
    "tryagain2.to_csv(\"Glove_WMD3.csv\")"
   ]
  },
  {
   "cell_type": "code",
   "execution_count": null,
   "metadata": {},
   "outputs": [],
   "source": []
  }
 ],
 "metadata": {
  "kernelspec": {
   "display_name": "Python 3",
   "language": "python",
   "name": "python3"
  },
  "language_info": {
   "codemirror_mode": {
    "name": "ipython",
    "version": 3
   },
   "file_extension": ".py",
   "mimetype": "text/x-python",
   "name": "python",
   "nbconvert_exporter": "python",
   "pygments_lexer": "ipython3",
   "version": "3.7.4"
  }
 },
 "nbformat": 4,
 "nbformat_minor": 2
}
