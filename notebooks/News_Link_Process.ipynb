{
 "cells": [
  {
   "cell_type": "markdown",
   "metadata": {},
   "source": [
    "News-link runs using several functions, written and stored in another folder. These functions must be uploaded prior to running."
   ]
  },
  {
   "cell_type": "code",
   "execution_count": 47,
   "metadata": {},
   "outputs": [],
   "source": [
    "#Python specific packages\n",
    "import pandas as pd\n",
    "import numpy as np\n",
    "import sys\n",
    "\n",
    "#specifying local system path for remaining functions files\n",
    "sys.path.insert(1, '/Users/Cylita/Desktop/insight-ds-project_news-link/scripts')\n",
    "\n",
    "#self written functions and scripts that will be needed\n",
    "import text_normalization_funs as TN\n",
    "import similiarity_funcs as SIM"
   ]
  },
  {
   "cell_type": "code",
   "execution_count": 2,
   "metadata": {},
   "outputs": [],
   "source": [
    "#Loading and cleaning data files scraped over 3 different days, dropping NAs at load\n",
    "newsJan20 = pd.read_csv('/Users/Cylita/Desktop/insight-ds-project_news-link/data/raw/Jan_20_news.csv').dropna()\n",
    "newsJan21 = pd.read_csv('/Users/Cylita/Desktop/insight-ds-project_news-link/data/raw/Jan_21_news.csv').dropna()\n",
    "newsJan23 = pd.read_csv('/Users/Cylita/Desktop/insight-ds-project_news-link/data/raw/Jan_23_news.csv').dropna()\n",
    "\n",
    "#Concatinating all dataframes\n",
    "news = [newsJan20, newsJan21, newsJan23]\n",
    "combine_news = pd.concat(news)"
   ]
  },
  {
   "cell_type": "code",
   "execution_count": 3,
   "metadata": {},
   "outputs": [
    {
     "data": {
      "text/plain": [
       "872"
      ]
     },
     "execution_count": 3,
     "metadata": {},
     "output_type": "execute_result"
    }
   ],
   "source": [
    "len(combine_news)"
   ]
  },
  {
   "cell_type": "code",
   "execution_count": 4,
   "metadata": {},
   "outputs": [],
   "source": [
    "#Likely some duplicate stories references over different days and different landing pages\n",
    "#Removing said duplicates\n",
    "unique_news = combine_news.drop_duplicates(subset = 'mainurl')"
   ]
  },
  {
   "cell_type": "markdown",
   "metadata": {},
   "source": [
    "Following analyses are for preprocessing text to combine and normalize it for TF-IDF"
   ]
  },
  {
   "cell_type": "code",
   "execution_count": 5,
   "metadata": {},
   "outputs": [],
   "source": [
    "#Combing the news story headlines with the maintext for the stories\n",
    "full_text = unique_news[\"title\"].map(str)+ '. ' + unique_news[\"maintext\"]\n",
    "\n",
    "#Preprocessing all text to conduct tl-dlf cosine similarity analysis\n",
    "normfull = TN.normalize_NewsText(full_text)"
   ]
  },
  {
   "cell_type": "code",
   "execution_count": null,
   "metadata": {},
   "outputs": [],
   "source": []
  },
  {
   "cell_type": "code",
   "execution_count": 6,
   "metadata": {},
   "outputs": [
    {
     "name": "stderr",
     "output_type": "stream",
     "text": [
      "/opt/anaconda3/lib/python3.7/site-packages/ipykernel_launcher.py:2: SettingWithCopyWarning: \n",
      "A value is trying to be set on a copy of a slice from a DataFrame.\n",
      "Try using .loc[row_indexer,col_indexer] = value instead\n",
      "\n",
      "See the caveats in the documentation: http://pandas.pydata.org/pandas-docs/stable/user_guide/indexing.html#returning-a-view-versus-a-copy\n",
      "  \n",
      "/opt/anaconda3/lib/python3.7/site-packages/ipykernel_launcher.py:3: SettingWithCopyWarning: \n",
      "A value is trying to be set on a copy of a slice from a DataFrame.\n",
      "Try using .loc[row_indexer,col_indexer] = value instead\n",
      "\n",
      "See the caveats in the documentation: http://pandas.pydata.org/pandas-docs/stable/user_guide/indexing.html#returning-a-view-versus-a-copy\n",
      "  This is separate from the ipykernel package so we can avoid doing imports until\n"
     ]
    }
   ],
   "source": [
    "#Adding in cleaned text to dataframe\n",
    "unique_news['full_text'] = full_text\n",
    "unique_news['cleaned_text'] = normfull"
   ]
  },
  {
   "cell_type": "code",
   "execution_count": 7,
   "metadata": {
    "scrolled": true
   },
   "outputs": [
    {
     "name": "stderr",
     "output_type": "stream",
     "text": [
      "/opt/anaconda3/lib/python3.7/site-packages/ipykernel_launcher.py:8: SettingWithCopyWarning: \n",
      "A value is trying to be set on a copy of a slice from a DataFrame.\n",
      "Try using .loc[row_indexer,col_indexer] = value instead\n",
      "\n",
      "See the caveats in the documentation: http://pandas.pydata.org/pandas-docs/stable/user_guide/indexing.html#returning-a-view-versus-a-copy\n",
      "  \n"
     ]
    }
   ],
   "source": [
    "#Isolating the first 30% of a news story, based on cleaned full text\n",
    "reduced_text = []\n",
    "\n",
    "for doc in unique_news['cleaned_text']:\n",
    "    redu = TN.Clean30(doc)\n",
    "    reduced_text.append(redu)\n",
    "\n",
    "unique_news[\"reduced\"] = reduced_text"
   ]
  },
  {
   "cell_type": "code",
   "execution_count": 34,
   "metadata": {},
   "outputs": [],
   "source": [
    "#Exporting the cleaned dataframe as its own\n",
    "corpus.to_csv('/Users/Cylita/Desktop/insight-ds-project_news-link/data/processed/demo_corp.csv')"
   ]
  },
  {
   "cell_type": "code",
   "execution_count": 8,
   "metadata": {},
   "outputs": [],
   "source": [
    "#From the cleaned text - creating a corpus and a test story\n",
    "corpus = unique_news.iloc[1:len(unique_news)]\n",
    "story = unique_news.iloc[0]"
   ]
  },
  {
   "cell_type": "code",
   "execution_count": 36,
   "metadata": {},
   "outputs": [
    {
     "name": "stdout",
     "output_type": "stream",
     "text": [
      "Snow all but over ahead of a bitterly cold Tuesday for P.E.I. . Following Sunday's snowfall, crews continue to work to clear roads across the province on Monday. Environment Canada said flurries paired with dropping temperatures could be expected Monday with northerly winds of 30 km/h and gusts to about 50 km/h. Temperatures are likely to fall to about –8 C Monday afternoon, with a wind chill making it feel like –16.  At midafternoon Monday, the province's road conditions map showed partly covered roads in Charlottetown and the main roads in and out, as far as Crapaud, Morell, Wood Islands and almost to Kensington. Route 315 from Wood Islands to Montague was also partly covered. CBC meteorologist Jay Scotland said no significant snowfall is expected Monday, but the brisk winds could mean blowing snow on exposed roads.  Temperatures will also continue to fall tonight ahead of a fairly sunny but bitterly cold Tuesday, he said. Here's a look at snowfall totals from Sunday's storm courtesy of <a href=\"https://twitter.com/CoCoRaHSCanada?ref_src=twsrc%5Etfw\">@CoCoRaHSCanada</a> volunteers. Most areas saw between 10-20 cm as expected. Just scattered flurries today but temperatures will continue to fall this afternoon and tonight ahead of a fairly sunny but COLD Tuesday. <a href=\"https://t.co/bD0umhs3HP\">pic.twitter.com/bD0umhs3HP</a> Earlier on Monday, RCMP said main roads on the Island were slushy and slippery, with side roads snow-covered and very slippery, but salt \"doing its job.\" Dispatchers were asking Islanders to give themselves a little extra time to clear vehicles of snow and to drive carefully.  We are on patrol this morning. Main Roads are slushy (and slippery) with the salt doing it’s job. Side roads are snow covered and very slippery. Not a good morning to be rushing around so... leave a little earlier than normal and take your time!!! <a href=\"https://twitter.com/hashtag/DriveSafePEI?src=hash&amp;ref_src=twsrc%5Etfw\">#DriveSafePEI</a> Cst. Parsons <a href=\"https://t.co/ZcbZAETXM8\">pic.twitter.com/ZcbZAETXM8</a> Both the French Language School Board and the Public Schools Branch opened after a one-hour delay.\n"
     ]
    }
   ],
   "source": [
    "print(story['full_text'])"
   ]
  },
  {
   "cell_type": "code",
   "execution_count": 21,
   "metadata": {},
   "outputs": [
    {
     "name": "stdout",
     "output_type": "stream",
     "text": [
      "Unnamed: 0                                                      0\n",
      "author                                                  Anonymous\n",
      "date                                     2020-01-20T18:54:01.116Z\n",
      "title           Snow all but over ahead of a bitterly cold Tue...\n",
      "maintext        Following Sunday's snowfall, crews continue to...\n",
      "mainurl         https://www.cbc.ca/news/canada/prince-edward-i...\n",
      "simlinks        https://www.cbc.ca/news/canada/prince-edward-i...\n",
      "relalinks                                                      []\n",
      "full_text       Snow all but over ahead of a bitterly cold Tue...\n",
      "cleaned_text    snow ahead bitterly cold tuesday pei follow su...\n",
      "reduced         snow ahead bitterly cold tuesday pei follow su...\n",
      "Name: 0, dtype: object\n"
     ]
    }
   ],
   "source": [
    "print(story)"
   ]
  },
  {
   "cell_type": "code",
   "execution_count": 23,
   "metadata": {},
   "outputs": [],
   "source": [
    "#Computing similarity scores for given dataframe\n",
    "scores = SIM.SimCorpCreate (corpora = corpus['cleaned_text'], directory= '/Users/Cylita/Desktop/insight-ds-project_news-link/scripts/', querydoc = story['cleaned_text'])"
   ]
  },
  {
   "cell_type": "code",
   "execution_count": 32,
   "metadata": {},
   "outputs": [
    {
     "name": "stderr",
     "output_type": "stream",
     "text": [
      "/opt/anaconda3/lib/python3.7/site-packages/ipykernel_launcher.py:3: SettingWithCopyWarning: \n",
      "A value is trying to be set on a copy of a slice from a DataFrame.\n",
      "Try using .loc[row_indexer,col_indexer] = value instead\n",
      "\n",
      "See the caveats in the documentation: http://pandas.pydata.org/pandas-docs/stable/user_guide/indexing.html#returning-a-view-versus-a-copy\n",
      "  This is separate from the ipykernel package so we can avoid doing imports until\n"
     ]
    }
   ],
   "source": [
    "test = StoryMatch(SimScores = scores, originalDF = corpus)"
   ]
  },
  {
   "cell_type": "code",
   "execution_count": 57,
   "metadata": {},
   "outputs": [],
   "source": [
    "a= test['mainurl'].to_string()"
   ]
  },
  {
   "cell_type": "code",
   "execution_count": 55,
   "metadata": {},
   "outputs": [],
   "source": [
    "b= a.to_string()"
   ]
  },
  {
   "cell_type": "code",
   "execution_count": 62,
   "metadata": {},
   "outputs": [],
   "source": [
    "c = test.iloc[0:2]"
   ]
  },
  {
   "cell_type": "code",
   "execution_count": 63,
   "metadata": {},
   "outputs": [
    {
     "name": "stdout",
     "output_type": "stream",
     "text": [
      "361       Flurries expected for Monday morning on P.E.I.\n",
      "109    With snowy, windy conditions, RCMP advise Isla...\n",
      "Name: title, dtype: object\n"
     ]
    }
   ],
   "source": [
    "print(c['title'])"
   ]
  },
  {
   "cell_type": "code",
   "execution_count": null,
   "metadata": {},
   "outputs": [],
   "source": []
  }
 ],
 "metadata": {
  "kernelspec": {
   "display_name": "Python 3",
   "language": "python",
   "name": "python3"
  },
  "language_info": {
   "codemirror_mode": {
    "name": "ipython",
    "version": 3
   },
   "file_extension": ".py",
   "mimetype": "text/x-python",
   "name": "python",
   "nbconvert_exporter": "python",
   "pygments_lexer": "ipython3",
   "version": "3.7.4"
  }
 },
 "nbformat": 4,
 "nbformat_minor": 2
}
