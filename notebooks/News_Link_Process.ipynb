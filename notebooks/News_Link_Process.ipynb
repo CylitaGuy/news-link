{
 "cells": [
  {
   "cell_type": "markdown",
   "metadata": {},
   "source": [
    "# News-Link: Proccess Executed in App Server File\n",
    "\n",
    "This notebook highlights the thought process behind how **News-link** is run using a server file. **News-Link** (and by extension) this document are run using several functions, written and stored in another function file.\n",
    "Note this notebooke was created prior to the data cleaning process was established - hence the loading and cleaning of data here (one can load in the full news corpus instead). "
   ]
  },
  {
   "cell_type": "code",
   "execution_count": 24,
   "metadata": {},
   "outputs": [],
   "source": [
    "#Importing required packages\n",
    "import pandas as pd\n",
    "import numpy as np\n",
    "import sys\n",
    "from pathlib import Path\n",
    "\n",
    "#specifying the root path\n",
    "sys.path.insert(1, '../scripts/')\n",
    "\n",
    "#self written functions and scripts that will be needed\n",
    "import text_normalization_funs as TN\n",
    "import similiarity_funcs as SIM"
   ]
  },
  {
   "cell_type": "code",
   "execution_count": 25,
   "metadata": {},
   "outputs": [],
   "source": [
    "#Specifying root path and path to data\n",
    "root_path = Path('..')\n",
    "data_path = root_path/\"data\"\n",
    "scripts_path = data_path/\"scripts\""
   ]
  },
  {
   "cell_type": "code",
   "execution_count": 7,
   "metadata": {},
   "outputs": [],
   "source": [
    "#Loading and cleaning data files scraped over 3 different days, dropping NAs at load\n",
    "newsJan20 = pd.read_csv(data_path/\"raw\"/'Jan_20_news.csv').dropna()\n",
    "newsJan21 = pd.read_csv(data_path/\"raw\"/'Jan_21_news.csv').dropna()\n",
    "newsJan23 = pd.read_csv(data_path/\"raw\"/'Jan_23_news.csv').dropna()\n",
    "\n",
    "#Concatinating all dataframes\n",
    "news = [newsJan20, newsJan21, newsJan23]\n",
    "combine_news = pd.concat(news)"
   ]
  },
  {
   "cell_type": "code",
   "execution_count": 8,
   "metadata": {},
   "outputs": [],
   "source": [
    "#Likely some duplicate stories references over different days and different landing pages\n",
    "#Removing said duplicates\n",
    "unique_news = combine_news.drop_duplicates(subset = 'mainurl')"
   ]
  },
  {
   "cell_type": "markdown",
   "metadata": {},
   "source": [
    "## Text Pre-Processing\n",
    "\n",
    "Following analyses are for preprocessing text to combine and normalize it for TF-IDF. As noted above, this document was created prior to the full cleaned corpus for a mid-project demo. As such, this section can be skipped and the full corpus could just be loaded in. "
   ]
  },
  {
   "cell_type": "code",
   "execution_count": 9,
   "metadata": {},
   "outputs": [],
   "source": [
    "#Combing the news story headlines with the maintext for the stories\n",
    "full_text = unique_news[\"title\"].map(str)+ '. ' + unique_news[\"maintext\"]\n",
    "\n",
    "#Preprocessing all text to conduct tl-dlf cosine similarity analysis\n",
    "normfull = TN.normalize_NewsText(full_text)"
   ]
  },
  {
   "cell_type": "code",
   "execution_count": 10,
   "metadata": {},
   "outputs": [
    {
     "name": "stderr",
     "output_type": "stream",
     "text": [
      "/opt/anaconda3/lib/python3.7/site-packages/ipykernel_launcher.py:2: SettingWithCopyWarning: \n",
      "A value is trying to be set on a copy of a slice from a DataFrame.\n",
      "Try using .loc[row_indexer,col_indexer] = value instead\n",
      "\n",
      "See the caveats in the documentation: http://pandas.pydata.org/pandas-docs/stable/user_guide/indexing.html#returning-a-view-versus-a-copy\n",
      "  \n",
      "/opt/anaconda3/lib/python3.7/site-packages/ipykernel_launcher.py:3: SettingWithCopyWarning: \n",
      "A value is trying to be set on a copy of a slice from a DataFrame.\n",
      "Try using .loc[row_indexer,col_indexer] = value instead\n",
      "\n",
      "See the caveats in the documentation: http://pandas.pydata.org/pandas-docs/stable/user_guide/indexing.html#returning-a-view-versus-a-copy\n",
      "  This is separate from the ipykernel package so we can avoid doing imports until\n"
     ]
    }
   ],
   "source": [
    "#Adding in cleaned text to dataframe\n",
    "unique_news['full_text'] = full_text\n",
    "unique_news['cleaned_text'] = normfull"
   ]
  },
  {
   "cell_type": "code",
   "execution_count": 11,
   "metadata": {
    "scrolled": true
   },
   "outputs": [
    {
     "name": "stderr",
     "output_type": "stream",
     "text": [
      "/opt/anaconda3/lib/python3.7/site-packages/ipykernel_launcher.py:8: SettingWithCopyWarning: \n",
      "A value is trying to be set on a copy of a slice from a DataFrame.\n",
      "Try using .loc[row_indexer,col_indexer] = value instead\n",
      "\n",
      "See the caveats in the documentation: http://pandas.pydata.org/pandas-docs/stable/user_guide/indexing.html#returning-a-view-versus-a-copy\n",
      "  \n"
     ]
    }
   ],
   "source": [
    "#Isolating the first 30% of a news story, based on cleaned full text\n",
    "reduced_text = []\n",
    "\n",
    "for doc in unique_news['cleaned_text']:\n",
    "    redu = TN.Clean30(doc)\n",
    "    reduced_text.append(redu)\n",
    "\n",
    "unique_news[\"reduced\"] = reduced_text"
   ]
  },
  {
   "cell_type": "code",
   "execution_count": 14,
   "metadata": {},
   "outputs": [],
   "source": [
    "#Exporting the cleaned dataframe as its own\n",
    "unique_news.to_csv(data_path/\"processed\"/'demo_corp.csv')"
   ]
  },
  {
   "cell_type": "markdown",
   "metadata": {},
   "source": [
    "## Computing Similarity Scores\n",
    "\n",
    "After creation of demo corp, splitting off a test story and testing similarity functions"
   ]
  },
  {
   "cell_type": "code",
   "execution_count": 17,
   "metadata": {},
   "outputs": [],
   "source": [
    "#From the cleaned text - creating a corpus and a test story\n",
    "corpus = unique_news.iloc[1:len(unique_news)]\n",
    "story = unique_news.iloc[0]"
   ]
  },
  {
   "cell_type": "code",
   "execution_count": 29,
   "metadata": {},
   "outputs": [],
   "source": [
    "#Computing similarity scores for given dataframe\n",
    "scores = SIM.SimCorpCreate (corpora = corpus['cleaned_text'], directory= str(scripts_path), querydoc = story['cleaned_text'])"
   ]
  },
  {
   "cell_type": "code",
   "execution_count": 31,
   "metadata": {},
   "outputs": [
    {
     "name": "stderr",
     "output_type": "stream",
     "text": [
      "../scripts/similiarity_funcs.py:96: SettingWithCopyWarning: \n",
      "A value is trying to be set on a copy of a slice from a DataFrame.\n",
      "Try using .loc[row_indexer,col_indexer] = value instead\n",
      "\n",
      "See the caveats in the documentation: http://pandas.pydata.org/pandas-docs/stable/user_guide/indexing.html#returning-a-view-versus-a-copy\n",
      "  originalDF['sim_scores'] = SimScores\n"
     ]
    }
   ],
   "source": [
    "#Getting list of 10 most similar stories in the corpus\n",
    "SimList = SIM.StoryMatch(SimScores = scores, originalDF = corpus)"
   ]
  },
  {
   "cell_type": "code",
   "execution_count": 32,
   "metadata": {},
   "outputs": [
    {
     "data": {
      "text/html": [
       "<div>\n",
       "<style scoped>\n",
       "    .dataframe tbody tr th:only-of-type {\n",
       "        vertical-align: middle;\n",
       "    }\n",
       "\n",
       "    .dataframe tbody tr th {\n",
       "        vertical-align: top;\n",
       "    }\n",
       "\n",
       "    .dataframe thead th {\n",
       "        text-align: right;\n",
       "    }\n",
       "</style>\n",
       "<table border=\"1\" class=\"dataframe\">\n",
       "  <thead>\n",
       "    <tr style=\"text-align: right;\">\n",
       "      <th></th>\n",
       "      <th>title</th>\n",
       "      <th>mainurl</th>\n",
       "      <th>sim_scores</th>\n",
       "    </tr>\n",
       "  </thead>\n",
       "  <tbody>\n",
       "    <tr>\n",
       "      <td>422</td>\n",
       "      <td>Snowfall warning in effect for P.E.I. on Sunday</td>\n",
       "      <td>https://www.cbc.ca/news/canada/prince-edward-i...</td>\n",
       "      <td>0.343621</td>\n",
       "    </tr>\n",
       "    <tr>\n",
       "      <td>361</td>\n",
       "      <td>Flurries expected for Monday morning on P.E.I.</td>\n",
       "      <td>https://www.cbc.ca/news/canada/prince-edward-i...</td>\n",
       "      <td>0.339433</td>\n",
       "    </tr>\n",
       "    <tr>\n",
       "      <td>109</td>\n",
       "      <td>With snowy, windy conditions, RCMP advise Isla...</td>\n",
       "      <td>https://www.cbc.ca/news/canada/prince-edward-i...</td>\n",
       "      <td>0.324324</td>\n",
       "    </tr>\n",
       "    <tr>\n",
       "      <td>333</td>\n",
       "      <td>Poor road conditions cause school closures in ...</td>\n",
       "      <td>https://www.cbc.ca/news/canada/new-brunswick/w...</td>\n",
       "      <td>0.211661</td>\n",
       "    </tr>\n",
       "    <tr>\n",
       "      <td>313</td>\n",
       "      <td>Week should warm after bitter beginning</td>\n",
       "      <td>https://www.cbc.ca/news/canada/ottawa/ottawa-g...</td>\n",
       "      <td>0.206741</td>\n",
       "    </tr>\n",
       "  </tbody>\n",
       "</table>\n",
       "</div>"
      ],
      "text/plain": [
       "                                                 title  \\\n",
       "422    Snowfall warning in effect for P.E.I. on Sunday   \n",
       "361     Flurries expected for Monday morning on P.E.I.   \n",
       "109  With snowy, windy conditions, RCMP advise Isla...   \n",
       "333  Poor road conditions cause school closures in ...   \n",
       "313            Week should warm after bitter beginning   \n",
       "\n",
       "                                               mainurl  sim_scores  \n",
       "422  https://www.cbc.ca/news/canada/prince-edward-i...    0.343621  \n",
       "361  https://www.cbc.ca/news/canada/prince-edward-i...    0.339433  \n",
       "109  https://www.cbc.ca/news/canada/prince-edward-i...    0.324324  \n",
       "333  https://www.cbc.ca/news/canada/new-brunswick/w...    0.211661  \n",
       "313  https://www.cbc.ca/news/canada/ottawa/ottawa-g...    0.206741  "
      ]
     },
     "execution_count": 32,
     "metadata": {},
     "output_type": "execute_result"
    }
   ],
   "source": [
    "#Displaying the result of the similarity functions (i.e. most similar news stories identified in corpus by the model)\n",
    "SimList.head()"
   ]
  },
  {
   "cell_type": "code",
   "execution_count": null,
   "metadata": {},
   "outputs": [],
   "source": []
  }
 ],
 "metadata": {
  "kernelspec": {
   "display_name": "Python 3",
   "language": "python",
   "name": "python3"
  },
  "language_info": {
   "codemirror_mode": {
    "name": "ipython",
    "version": 3
   },
   "file_extension": ".py",
   "mimetype": "text/x-python",
   "name": "python",
   "nbconvert_exporter": "python",
   "pygments_lexer": "ipython3",
   "version": "3.7.4"
  }
 },
 "nbformat": 4,
 "nbformat_minor": 2
}
