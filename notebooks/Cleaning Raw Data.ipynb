{
 "cells": [
  {
   "cell_type": "code",
   "execution_count": 10,
   "metadata": {},
   "outputs": [],
   "source": [
    "#Python specific packages\n",
    "import pandas as pd\n",
    "import numpy as np\n",
    "import sys"
   ]
  },
  {
   "cell_type": "code",
   "execution_count": 11,
   "metadata": {},
   "outputs": [],
   "source": [
    "#specifying local system path for remaining functions files\n",
    "sys.path.insert(1, '/Users/Cylita/Desktop/insight-ds-project_news-link/scripts')\n"
   ]
  },
  {
   "cell_type": "code",
   "execution_count": 55,
   "metadata": {},
   "outputs": [],
   "source": [
    "#self written functions and scripts that will be needed\n",
    "import text_normalization_funs as TN"
   ]
  },
  {
   "cell_type": "code",
   "execution_count": 56,
   "metadata": {},
   "outputs": [],
   "source": [
    "import similiarity_funcs as SIM"
   ]
  },
  {
   "cell_type": "code",
   "execution_count": 14,
   "metadata": {},
   "outputs": [],
   "source": [
    "#Loading in required raw data for processing, dropping all rows that contain NAs\n",
    "newsJan20 = pd.read_csv('/Users/Cylita/Desktop/insight-ds-project_news-link/data/raw/Jan_20_news.csv').dropna(subset=['title', 'maintext'])\n",
    "newsJan21 = pd.read_csv('/Users/Cylita/Desktop/insight-ds-project_news-link/data/raw/Jan_21_news.csv').dropna(subset=['title', 'maintext'])\n",
    "newsJan23 = pd.read_csv('/Users/Cylita/Desktop/insight-ds-project_news-link/data/raw/Jan_23_news.csv').dropna(subset=['title', 'maintext'])\n",
    "newsJan24 = pd.read_csv('/Users/Cylita/Desktop/insight-ds-project_news-link/data/raw/Jan_24_news.csv').dropna(subset=['title', 'maintext'])\n",
    "newsJan26 = pd.read_csv('/Users/Cylita/Desktop/insight-ds-project_news-link/data/raw/Jan_26_news.csv').dropna(subset=['title', 'maintext'])\n",
    "newsJan27 = pd.read_csv('/Users/Cylita/Desktop/insight-ds-project_news-link/data/raw/Jan_27_news.csv').dropna(subset=['title', 'maintext'])"
   ]
  },
  {
   "cell_type": "code",
   "execution_count": 34,
   "metadata": {},
   "outputs": [],
   "source": [
    "#Concatinating all dataframes\n",
    "combine_news = pd.concat([newsJan20, newsJan21, newsJan23, newsJan24, newsJan26, newsJan27], axis=0)"
   ]
  },
  {
   "cell_type": "code",
   "execution_count": 38,
   "metadata": {},
   "outputs": [
    {
     "data": {
      "text/plain": [
       "1221"
      ]
     },
     "execution_count": 38,
     "metadata": {},
     "output_type": "execute_result"
    }
   ],
   "source": [
    "#Likely some duplicate stories references over different days and different landing pages\n",
    "#Removing said duplicates\n",
    "unique_news = combine_news.drop_duplicates(subset = 'mainurl')\n",
    "len(unique_news)"
   ]
  },
  {
   "cell_type": "code",
   "execution_count": 39,
   "metadata": {},
   "outputs": [
    {
     "name": "stdout",
     "output_type": "stream",
     "text": [
      "0      https://www.cbc.ca/news/canada/prince-edward-i...\n",
      "1      https://www.cbc.ca/news/canada/new-brunswick/m...\n",
      "2      https://www.cbc.ca/news/canada/north/stanton-h...\n",
      "3      https://www.cbc.ca/news/world/royal-romance-pr...\n",
      "4                                                     []\n",
      "                             ...                        \n",
      "439    https://www.cbc.ca/news/world/gordon-sondland-...\n",
      "441                                                   []\n",
      "445    https://www.cbc.ca/news/canada/montreal/medica...\n",
      "447                                                   []\n",
      "457    https://www.cbc.ca/news/canada/ottawa/sin-scam...\n",
      "Name: simlinks, Length: 1221, dtype: object\n"
     ]
    }
   ],
   "source": [
    "#Now need to isolate the similar and related links, store those in a vector and isolate those stories to fetch their inofrmaiton\n",
    "print(unique_news['simlinks'])"
   ]
  },
  {
   "cell_type": "code",
   "execution_count": 77,
   "metadata": {},
   "outputs": [],
   "source": [
    "splitlinks = unique_news['simlinks'].str.split(' ', expand=True)\n",
    "splitlinks_reduced = splitlinks.loc[:,1:4]\n",
    "splitlinks_foradding = splitlinks_reduced.rename(columns={1:\"sim1\", 2:'sim2', 3:'sim3', 4:'sim4'})\n"
   ]
  },
  {
   "cell_type": "code",
   "execution_count": 5,
   "metadata": {},
   "outputs": [
    {
     "ename": "NameError",
     "evalue": "name 'unique_news' is not defined",
     "output_type": "error",
     "traceback": [
      "\u001b[0;31m---------------------------------------------------------------------------\u001b[0m",
      "\u001b[0;31mNameError\u001b[0m                                 Traceback (most recent call last)",
      "\u001b[0;32m<ipython-input-5-958065cef9de>\u001b[0m in \u001b[0;36m<module>\u001b[0;34m\u001b[0m\n\u001b[1;32m      1\u001b[0m \u001b[0;31m#Adding subsetted links to main dataframe\u001b[0m\u001b[0;34m\u001b[0m\u001b[0;34m\u001b[0m\u001b[0;34m\u001b[0m\u001b[0m\n\u001b[0;32m----> 2\u001b[0;31m \u001b[0mUniqLinkNews\u001b[0m \u001b[0;34m=\u001b[0m \u001b[0mpd\u001b[0m\u001b[0;34m.\u001b[0m\u001b[0mconcat\u001b[0m\u001b[0;34m(\u001b[0m\u001b[0;34m[\u001b[0m\u001b[0munique_news\u001b[0m\u001b[0;34m,\u001b[0m \u001b[0msplitlinks_foradding\u001b[0m\u001b[0;34m]\u001b[0m\u001b[0;34m,\u001b[0m \u001b[0maxis\u001b[0m\u001b[0;34m=\u001b[0m\u001b[0;36m1\u001b[0m\u001b[0;34m)\u001b[0m\u001b[0;34m\u001b[0m\u001b[0;34m\u001b[0m\u001b[0m\n\u001b[0m\u001b[1;32m      3\u001b[0m \u001b[0;34m\u001b[0m\u001b[0m\n\u001b[1;32m      4\u001b[0m \u001b[0;31m#Export as a newdataframe\u001b[0m\u001b[0;34m\u001b[0m\u001b[0;34m\u001b[0m\u001b[0;34m\u001b[0m\u001b[0m\n\u001b[1;32m      5\u001b[0m \u001b[0mUniqLinkNews\u001b[0m\u001b[0;34m.\u001b[0m\u001b[0mto_csv\u001b[0m\u001b[0;34m(\u001b[0m\u001b[0;34m'/Users/Cylita/Desktop/insight-ds-project_news-link/data/processedCleaned_Split_RawNews.csv'\u001b[0m\u001b[0;34m)\u001b[0m\u001b[0;34m\u001b[0m\u001b[0;34m\u001b[0m\u001b[0m\n",
      "\u001b[0;31mNameError\u001b[0m: name 'unique_news' is not defined"
     ]
    }
   ],
   "source": [
    "#Adding subsetted links to main dataframe\n",
    "UniqLinkNews = pd.concat([unique_news, splitlinks_foradding], axis=1)\n",
    "\n",
    "#Export as a newdataframe\n",
    "UniqLinkNews.to_csv('Cleaned_Split_RawNews.csv')\n",
    "#This dataframe will be pulled into another scrip to scrape article urls."
   ]
  },
  {
   "cell_type": "code",
   "execution_count": 2,
   "metadata": {},
   "outputs": [],
   "source": [
    "#Reading in data frame with scraped article\n",
    "sim_news = pd.read_csv(\"/Users/Cylita/Desktop/insight-ds-project_news-link/data/processed/News_Raw_ValData.csv\").dropna(subset=['title', 'maintext'])\n",
    "trimmed_sim = sim_news[['author', 'date','title','maintext', 'mainurl']]"
   ]
  },
  {
   "cell_type": "code",
   "execution_count": 6,
   "metadata": {},
   "outputs": [],
   "source": [
    "UniqLinkNews = pd.read_csv('/Users/Cylita/Desktop/insight-ds-project_news-link/data/processed/Cleaned_Split_RawNews.csv')\n",
    "trimmed_full = UniqLinkNews[['author','date', 'title', 'maintext', 'mainurl', 'simlinks', 'sim1']]"
   ]
  },
  {
   "cell_type": "code",
   "execution_count": 16,
   "metadata": {},
   "outputs": [],
   "source": [
    "#Combining the above two dataframes\n",
    "raw_val = pd.concat([trimmed_full, trimmed_sim], axis=0, ignore_index = True, sort=True)"
   ]
  },
  {
   "cell_type": "code",
   "execution_count": 17,
   "metadata": {},
   "outputs": [
    {
     "ename": "KeyboardInterrupt",
     "evalue": "",
     "output_type": "error",
     "traceback": [
      "\u001b[0;31m---------------------------------------------------------------------------\u001b[0m",
      "\u001b[0;31mKeyboardInterrupt\u001b[0m                         Traceback (most recent call last)",
      "\u001b[0;32m<ipython-input-17-dab714a26a8c>\u001b[0m in \u001b[0;36m<module>\u001b[0;34m\u001b[0m\n\u001b[1;32m      4\u001b[0m \u001b[0;34m\u001b[0m\u001b[0m\n\u001b[1;32m      5\u001b[0m \u001b[0;31m#Preprocessing all text to conduct tl-dlf cosine similarity analysis\u001b[0m\u001b[0;34m\u001b[0m\u001b[0;34m\u001b[0m\u001b[0;34m\u001b[0m\u001b[0m\n\u001b[0;32m----> 6\u001b[0;31m \u001b[0mnormfull\u001b[0m \u001b[0;34m=\u001b[0m \u001b[0mTN\u001b[0m\u001b[0;34m.\u001b[0m\u001b[0mnormalize_NewsText\u001b[0m\u001b[0;34m(\u001b[0m\u001b[0mfull_text\u001b[0m\u001b[0;34m)\u001b[0m\u001b[0;34m\u001b[0m\u001b[0;34m\u001b[0m\u001b[0m\n\u001b[0m",
      "\u001b[0;32m~/Desktop/insight-ds-project_news-link/scripts/text_normalization_funs.py\u001b[0m in \u001b[0;36mnormalize_NewsText\u001b[0;34m(corpus)\u001b[0m\n\u001b[1;32m    233\u001b[0m         \u001b[0mc\u001b[0m \u001b[0;34m=\u001b[0m \u001b[0mremove_accented_chars\u001b[0m\u001b[0;34m(\u001b[0m\u001b[0mb\u001b[0m\u001b[0;34m)\u001b[0m\u001b[0;34m\u001b[0m\u001b[0;34m\u001b[0m\u001b[0m\n\u001b[1;32m    234\u001b[0m         \u001b[0;31m#expanding all contractions\u001b[0m\u001b[0;34m\u001b[0m\u001b[0;34m\u001b[0m\u001b[0;34m\u001b[0m\u001b[0m\n\u001b[0;32m--> 235\u001b[0;31m         \u001b[0md\u001b[0m \u001b[0;34m=\u001b[0m \u001b[0mexpand_contractions\u001b[0m\u001b[0;34m(\u001b[0m\u001b[0mc\u001b[0m\u001b[0;34m)\u001b[0m\u001b[0;34m\u001b[0m\u001b[0;34m\u001b[0m\u001b[0m\n\u001b[0m\u001b[1;32m    236\u001b[0m         \u001b[0;31m#removing special characters and punctuations\u001b[0m\u001b[0;34m\u001b[0m\u001b[0;34m\u001b[0m\u001b[0;34m\u001b[0m\u001b[0m\n\u001b[1;32m    237\u001b[0m         \u001b[0me\u001b[0m \u001b[0;34m=\u001b[0m \u001b[0mspecial2\u001b[0m\u001b[0;34m(\u001b[0m\u001b[0md\u001b[0m\u001b[0;34m)\u001b[0m\u001b[0;34m\u001b[0m\u001b[0;34m\u001b[0m\u001b[0m\n",
      "\u001b[0;32m~/Desktop/insight-ds-project_news-link/scripts/text_normalization_funs.py\u001b[0m in \u001b[0;36mexpand_contractions\u001b[0;34m(text, contraction_mapping)\u001b[0m\n\u001b[1;32m    185\u001b[0m         \u001b[0;32mreturn\u001b[0m \u001b[0mexpanded_contraction\u001b[0m\u001b[0;34m\u001b[0m\u001b[0;34m\u001b[0m\u001b[0m\n\u001b[1;32m    186\u001b[0m \u001b[0;34m\u001b[0m\u001b[0m\n\u001b[0;32m--> 187\u001b[0;31m     \u001b[0mexpanded_text\u001b[0m \u001b[0;34m=\u001b[0m \u001b[0mcontractions_pattern\u001b[0m\u001b[0;34m.\u001b[0m\u001b[0msub\u001b[0m\u001b[0;34m(\u001b[0m\u001b[0mexpand_match\u001b[0m\u001b[0;34m,\u001b[0m \u001b[0mtext\u001b[0m\u001b[0;34m)\u001b[0m\u001b[0;34m\u001b[0m\u001b[0;34m\u001b[0m\u001b[0m\n\u001b[0m\u001b[1;32m    188\u001b[0m     \u001b[0mexpanded_text\u001b[0m \u001b[0;34m=\u001b[0m \u001b[0mre\u001b[0m\u001b[0;34m.\u001b[0m\u001b[0msub\u001b[0m\u001b[0;34m(\u001b[0m\u001b[0;34m\"'\"\u001b[0m\u001b[0;34m,\u001b[0m \u001b[0;34m\"\"\u001b[0m\u001b[0;34m,\u001b[0m \u001b[0mexpanded_text\u001b[0m\u001b[0;34m)\u001b[0m\u001b[0;34m\u001b[0m\u001b[0;34m\u001b[0m\u001b[0m\n\u001b[1;32m    189\u001b[0m     \u001b[0;32mreturn\u001b[0m \u001b[0mexpanded_text\u001b[0m\u001b[0;34m\u001b[0m\u001b[0;34m\u001b[0m\u001b[0m\n",
      "\u001b[0;32m~/Desktop/insight-ds-project_news-link/scripts/text_normalization_funs.py\u001b[0m in \u001b[0;36mexpand_match\u001b[0;34m(contraction)\u001b[0m\n\u001b[1;32m    176\u001b[0m     contractions_pattern = re.compile('({})'.format('|'.join(contraction_mapping.keys())), \n\u001b[1;32m    177\u001b[0m                                       flags=re.IGNORECASE|re.DOTALL)\n\u001b[0;32m--> 178\u001b[0;31m     \u001b[0;32mdef\u001b[0m \u001b[0mexpand_match\u001b[0m\u001b[0;34m(\u001b[0m\u001b[0mcontraction\u001b[0m\u001b[0;34m)\u001b[0m\u001b[0;34m:\u001b[0m\u001b[0;34m\u001b[0m\u001b[0;34m\u001b[0m\u001b[0m\n\u001b[0m\u001b[1;32m    179\u001b[0m         \u001b[0mmatch\u001b[0m \u001b[0;34m=\u001b[0m \u001b[0mcontraction\u001b[0m\u001b[0;34m.\u001b[0m\u001b[0mgroup\u001b[0m\u001b[0;34m(\u001b[0m\u001b[0;36m0\u001b[0m\u001b[0;34m)\u001b[0m\u001b[0;34m\u001b[0m\u001b[0;34m\u001b[0m\u001b[0m\n\u001b[1;32m    180\u001b[0m         \u001b[0mfirst_char\u001b[0m \u001b[0;34m=\u001b[0m \u001b[0mmatch\u001b[0m\u001b[0;34m[\u001b[0m\u001b[0;36m0\u001b[0m\u001b[0;34m]\u001b[0m\u001b[0;34m\u001b[0m\u001b[0;34m\u001b[0m\u001b[0m\n",
      "\u001b[0;31mKeyboardInterrupt\u001b[0m: "
     ]
    }
   ],
   "source": [
    "#For the above combined dataframe - creating combined text and cleaning \n",
    "#Combing the news story headlines with the maintext for the stories\n",
    "full_text = raw_val[\"title\"].map(str)+ '. ' + raw_val[\"maintext\"]\n",
    "\n",
    "#Preprocessing all text to conduct tl-dlf cosine similarity analysis\n",
    "normfull = TN.normalize_NewsText(full_text)"
   ]
  },
  {
   "cell_type": "code",
   "execution_count": 146,
   "metadata": {},
   "outputs": [],
   "source": [
    "#Adding in cleaned text to dataframe\n",
    "raw_val['full_text'] = full_text\n",
    "raw_val['cleaned_text'] = normfull"
   ]
  },
  {
   "cell_type": "code",
   "execution_count": 149,
   "metadata": {},
   "outputs": [],
   "source": [
    "#Exporting cleaned and processed text to a corpus document\n",
    "raw_val.to_csv(\"Val_Corpus.csv\")"
   ]
  },
  {
   "cell_type": "code",
   "execution_count": 18,
   "metadata": {},
   "outputs": [],
   "source": [
    "#Reading back in the new dataframe to work from\n",
    "val_corpus = pd.read_csv(\"Val_Corpus.csv\")"
   ]
  },
  {
   "cell_type": "code",
   "execution_count": 44,
   "metadata": {
    "scrolled": true
   },
   "outputs": [
    {
     "data": {
      "text/plain": [
       "1908"
      ]
     },
     "execution_count": 44,
     "metadata": {},
     "output_type": "execute_result"
    }
   ],
   "source": [
    "len(val_corpus)"
   ]
  },
  {
   "cell_type": "code",
   "execution_count": 119,
   "metadata": {},
   "outputs": [
    {
     "data": {
      "text/plain": [
       "pandas.core.frame.DataFrame"
      ]
     },
     "execution_count": 119,
     "metadata": {},
     "output_type": "execute_result"
    }
   ],
   "source": [
    "#Removing duplciate stories that have been included in the corpus\n",
    "unique_val = val_corpus.drop_duplicates(subset=['mainurl'])\n",
    "type(unique_val)"
   ]
  },
  {
   "cell_type": "code",
   "execution_count": 47,
   "metadata": {},
   "outputs": [],
   "source": [
    "#From the cleaned text - creating a corpus and a test story\n",
    "corpus = unique_val.iloc[1:len(val_corpus)]\n",
    "teststory = unique_val.iloc[0]"
   ]
  },
  {
   "cell_type": "code",
   "execution_count": 120,
   "metadata": {},
   "outputs": [
    {
     "data": {
      "text/plain": [
       "pandas.core.series.Series"
      ]
     },
     "execution_count": 120,
     "metadata": {},
     "output_type": "execute_result"
    }
   ],
   "source": [
    "type(teststory)"
   ]
  },
  {
   "cell_type": "code",
   "execution_count": 48,
   "metadata": {},
   "outputs": [],
   "source": [
    "#Computing similarity scores for given dataframe\n",
    "scores = SIM.SimCorpCreate (corpora = corpus['cleaned_text'], directory= '/Users/Cylita/Desktop/insight-ds-project_news-link/scripts/', querydoc = teststory['cleaned_text'])"
   ]
  },
  {
   "cell_type": "code",
   "execution_count": 49,
   "metadata": {
    "scrolled": false
   },
   "outputs": [
    {
     "name": "stderr",
     "output_type": "stream",
     "text": [
      "/Users/Cylita/Desktop/insight-ds-project_news-link/scripts/similiarity_funcs.py:89: SettingWithCopyWarning: \n",
      "A value is trying to be set on a copy of a slice from a DataFrame.\n",
      "Try using .loc[row_indexer,col_indexer] = value instead\n",
      "\n",
      "See the caveats in the documentation: http://pandas.pydata.org/pandas-docs/stable/user_guide/indexing.html#returning-a-view-versus-a-copy\n",
      "  originalDF['sim_scores'] = SimScores\n"
     ]
    }
   ],
   "source": [
    "test = SIM.StoryMatch_Val(SimScores = scores, originalDF = corpus, NumLinks = len(corpus))"
   ]
  },
  {
   "cell_type": "code",
   "execution_count": 102,
   "metadata": {},
   "outputs": [
    {
     "data": {
      "text/html": [
       "<div>\n",
       "<style scoped>\n",
       "    .dataframe tbody tr th:only-of-type {\n",
       "        vertical-align: middle;\n",
       "    }\n",
       "\n",
       "    .dataframe tbody tr th {\n",
       "        vertical-align: top;\n",
       "    }\n",
       "\n",
       "    .dataframe thead th {\n",
       "        text-align: right;\n",
       "    }\n",
       "</style>\n",
       "<table border=\"1\" class=\"dataframe\">\n",
       "  <thead>\n",
       "    <tr style=\"text-align: right;\">\n",
       "      <th></th>\n",
       "      <th>title</th>\n",
       "      <th>mainurl</th>\n",
       "      <th>sim1</th>\n",
       "      <th>sim_scores</th>\n",
       "    </tr>\n",
       "  </thead>\n",
       "  <tbody>\n",
       "    <tr>\n",
       "      <td>344</td>\n",
       "      <td>Flurries expected for Monday morning on P.E.I.</td>\n",
       "      <td>https://www.cbc.ca/news/canada/prince-edward-i...</td>\n",
       "      <td>https://www.cbc.ca/news/canada/prince-edward-i...</td>\n",
       "      <td>0.336665</td>\n",
       "    </tr>\n",
       "    <tr>\n",
       "      <td>100</td>\n",
       "      <td>With snowy, windy conditions, RCMP advise Isla...</td>\n",
       "      <td>https://www.cbc.ca/news/canada/prince-edward-i...</td>\n",
       "      <td>https://www.cbc.ca/news/canada/prince-edward-i...</td>\n",
       "      <td>0.323564</td>\n",
       "    </tr>\n",
       "    <tr>\n",
       "      <td>1380</td>\n",
       "      <td>Snow, strong winds and bitterly cold temperatu...</td>\n",
       "      <td>https://www.cbc.ca/news/canada/nova-scotia/sno...</td>\n",
       "      <td>NaN</td>\n",
       "      <td>0.296482</td>\n",
       "    </tr>\n",
       "    <tr>\n",
       "      <td>299</td>\n",
       "      <td>Week should warm after bitter beginning</td>\n",
       "      <td>https://www.cbc.ca/news/canada/ottawa/ottawa-g...</td>\n",
       "      <td>NaN</td>\n",
       "      <td>0.209704</td>\n",
       "    </tr>\n",
       "    <tr>\n",
       "      <td>318</td>\n",
       "      <td>Poor road conditions cause school closures in ...</td>\n",
       "      <td>https://www.cbc.ca/news/canada/new-brunswick/w...</td>\n",
       "      <td>NaN</td>\n",
       "      <td>0.206494</td>\n",
       "    </tr>\n",
       "    <tr>\n",
       "      <td>209</td>\n",
       "      <td>Troops arrive in N.L. for blizzard cleanup</td>\n",
       "      <td>https://www.cbc.ca/news/canada/newfoundland-la...</td>\n",
       "      <td>https://www.cbc.ca/news/canada/newfoundland-la...</td>\n",
       "      <td>0.183312</td>\n",
       "    </tr>\n",
       "    <tr>\n",
       "      <td>1089</td>\n",
       "      <td>Parking ban in effect as city continues to cle...</td>\n",
       "      <td>https://www.cbc.ca/news/canada/ottawa/parking-...</td>\n",
       "      <td>NaN</td>\n",
       "      <td>0.171545</td>\n",
       "    </tr>\n",
       "    <tr>\n",
       "      <td>256</td>\n",
       "      <td>State of emergency declared in St. John's regi...</td>\n",
       "      <td>https://www.cbc.ca/news/canada/newfoundland-la...</td>\n",
       "      <td>NaN</td>\n",
       "      <td>0.168950</td>\n",
       "    </tr>\n",
       "    <tr>\n",
       "      <td>224</td>\n",
       "      <td>Saskatchewan cold snap ending as temperatures ...</td>\n",
       "      <td>https://www.cbc.ca/news/canada/saskatoon/envir...</td>\n",
       "      <td>https://www.cbc.ca/news/canada/saskatoon/indoo...</td>\n",
       "      <td>0.168095</td>\n",
       "    </tr>\n",
       "    <tr>\n",
       "      <td>273</td>\n",
       "      <td>Slippery roads to blame for cruiser crash, pol...</td>\n",
       "      <td>https://www.cbc.ca/news/canada/ottawa/gatineau...</td>\n",
       "      <td>NaN</td>\n",
       "      <td>0.160864</td>\n",
       "    </tr>\n",
       "    <tr>\n",
       "      <td>276</td>\n",
       "      <td>When extremely cold weather was making news in...</td>\n",
       "      <td>https://www.cbc.ca/archives/when-extremely-col...</td>\n",
       "      <td>NaN</td>\n",
       "      <td>0.158627</td>\n",
       "    </tr>\n",
       "    <tr>\n",
       "      <td>1091</td>\n",
       "      <td>Rain, warm temperatures on the way for eastern...</td>\n",
       "      <td>https://www.cbc.ca/news/canada/newfoundland-la...</td>\n",
       "      <td>NaN</td>\n",
       "      <td>0.158626</td>\n",
       "    </tr>\n",
       "    <tr>\n",
       "      <td>35</td>\n",
       "      <td>Cobequid Pass reopens after blowing snow, slip...</td>\n",
       "      <td>https://www.cbc.ca/news/canada/nova-scotia/hig...</td>\n",
       "      <td>https://www.cbc.ca/news/canada/nova-scotia/cob...</td>\n",
       "      <td>0.157739</td>\n",
       "    </tr>\n",
       "    <tr>\n",
       "      <td>1121</td>\n",
       "      <td>St. John's area high schools to reopen Monday</td>\n",
       "      <td>https://www.cbc.ca/news/canada/newfoundland-la...</td>\n",
       "      <td>NaN</td>\n",
       "      <td>0.155229</td>\n",
       "    </tr>\n",
       "    <tr>\n",
       "      <td>883</td>\n",
       "      <td>St. John's has received a full Shaquille O'Nea...</td>\n",
       "      <td>https://www.cbc.ca/news/canada/newfoundland-la...</td>\n",
       "      <td>NaN</td>\n",
       "      <td>0.154874</td>\n",
       "    </tr>\n",
       "  </tbody>\n",
       "</table>\n",
       "</div>"
      ],
      "text/plain": [
       "                                                  title  \\\n",
       "344      Flurries expected for Monday morning on P.E.I.   \n",
       "100   With snowy, windy conditions, RCMP advise Isla...   \n",
       "1380  Snow, strong winds and bitterly cold temperatu...   \n",
       "299             Week should warm after bitter beginning   \n",
       "318   Poor road conditions cause school closures in ...   \n",
       "209          Troops arrive in N.L. for blizzard cleanup   \n",
       "1089  Parking ban in effect as city continues to cle...   \n",
       "256   State of emergency declared in St. John's regi...   \n",
       "224   Saskatchewan cold snap ending as temperatures ...   \n",
       "273   Slippery roads to blame for cruiser crash, pol...   \n",
       "276   When extremely cold weather was making news in...   \n",
       "1091  Rain, warm temperatures on the way for eastern...   \n",
       "35    Cobequid Pass reopens after blowing snow, slip...   \n",
       "1121      St. John's area high schools to reopen Monday   \n",
       "883   St. John's has received a full Shaquille O'Nea...   \n",
       "\n",
       "                                                mainurl  \\\n",
       "344   https://www.cbc.ca/news/canada/prince-edward-i...   \n",
       "100   https://www.cbc.ca/news/canada/prince-edward-i...   \n",
       "1380  https://www.cbc.ca/news/canada/nova-scotia/sno...   \n",
       "299   https://www.cbc.ca/news/canada/ottawa/ottawa-g...   \n",
       "318   https://www.cbc.ca/news/canada/new-brunswick/w...   \n",
       "209   https://www.cbc.ca/news/canada/newfoundland-la...   \n",
       "1089  https://www.cbc.ca/news/canada/ottawa/parking-...   \n",
       "256   https://www.cbc.ca/news/canada/newfoundland-la...   \n",
       "224   https://www.cbc.ca/news/canada/saskatoon/envir...   \n",
       "273   https://www.cbc.ca/news/canada/ottawa/gatineau...   \n",
       "276   https://www.cbc.ca/archives/when-extremely-col...   \n",
       "1091  https://www.cbc.ca/news/canada/newfoundland-la...   \n",
       "35    https://www.cbc.ca/news/canada/nova-scotia/hig...   \n",
       "1121  https://www.cbc.ca/news/canada/newfoundland-la...   \n",
       "883   https://www.cbc.ca/news/canada/newfoundland-la...   \n",
       "\n",
       "                                                   sim1  sim_scores  \n",
       "344   https://www.cbc.ca/news/canada/prince-edward-i...    0.336665  \n",
       "100   https://www.cbc.ca/news/canada/prince-edward-i...    0.323564  \n",
       "1380                                                NaN    0.296482  \n",
       "299                                                 NaN    0.209704  \n",
       "318                                                 NaN    0.206494  \n",
       "209   https://www.cbc.ca/news/canada/newfoundland-la...    0.183312  \n",
       "1089                                                NaN    0.171545  \n",
       "256                                                 NaN    0.168950  \n",
       "224   https://www.cbc.ca/news/canada/saskatoon/indoo...    0.168095  \n",
       "273                                                 NaN    0.160864  \n",
       "276                                                 NaN    0.158627  \n",
       "1091                                                NaN    0.158626  \n",
       "35    https://www.cbc.ca/news/canada/nova-scotia/cob...    0.157739  \n",
       "1121                                                NaN    0.155229  \n",
       "883                                                 NaN    0.154874  "
      ]
     },
     "execution_count": 102,
     "metadata": {},
     "output_type": "execute_result"
    }
   ],
   "source": [
    "test.head(15)"
   ]
  },
  {
   "cell_type": "code",
   "execution_count": null,
   "metadata": {},
   "outputs": [],
   "source": [
    "my1score = []\n",
    "jourscore = []\n",
    "top10orNaw = []\n",
    "\n",
    "\n",
    "for index, row in df.iterrows():\n",
    "    print(row['c1'], row['c2'])\n",
    "for story in len(unique_val):\n",
    "    if str(story['sim1']) != 'nan':\n",
    "    \n",
    "    \n",
    "    else:\n",
    "    "
   ]
  },
  {
   "cell_type": "code",
   "execution_count": 128,
   "metadata": {},
   "outputs": [
    {
     "ename": "KeyboardInterrupt",
     "evalue": "",
     "output_type": "error",
     "traceback": [
      "\u001b[0;31m---------------------------------------------------------------------------\u001b[0m",
      "\u001b[0;31mKeyboardInterrupt\u001b[0m                         Traceback (most recent call last)",
      "\u001b[0;32m<ipython-input-128-18b77ec6746a>\u001b[0m in \u001b[0;36m<module>\u001b[0;34m\u001b[0m\n\u001b[1;32m     17\u001b[0m     scores = SIM.SimCorpCreate (corpora = corpus['cleaned_text'], \n\u001b[1;32m     18\u001b[0m                                     \u001b[0mdirectory\u001b[0m\u001b[0;34m=\u001b[0m \u001b[0;34m'/Users/Cylita/Desktop/insight-ds-project_news-link/scripts/'\u001b[0m\u001b[0;34m,\u001b[0m\u001b[0;34m\u001b[0m\u001b[0;34m\u001b[0m\u001b[0m\n\u001b[0;32m---> 19\u001b[0;31m                                     querydoc = teststory['cleaned_text'])\n\u001b[0m\u001b[1;32m     20\u001b[0m \u001b[0;34m\u001b[0m\u001b[0m\n\u001b[1;32m     21\u001b[0m     \u001b[0;31m#Appending similarity scores to origina l\u001b[0m\u001b[0;34m\u001b[0m\u001b[0;34m\u001b[0m\u001b[0;34m\u001b[0m\u001b[0m\n",
      "\u001b[0;32m~/Desktop/insight-ds-project_news-link/scripts/similiarity_funcs.py\u001b[0m in \u001b[0;36mSimCorpCreate\u001b[0;34m(corpora, directory, querydoc)\u001b[0m\n\u001b[1;32m     27\u001b[0m \u001b[0;34m\u001b[0m\u001b[0m\n\u001b[1;32m     28\u001b[0m     \u001b[0;32mfor\u001b[0m \u001b[0mdoc\u001b[0m \u001b[0;32min\u001b[0m \u001b[0mcorpora\u001b[0m\u001b[0;34m:\u001b[0m\u001b[0;34m\u001b[0m\u001b[0;34m\u001b[0m\u001b[0m\n\u001b[0;32m---> 29\u001b[0;31m         \u001b[0mtokens\u001b[0m \u001b[0;34m=\u001b[0m \u001b[0mword_tokenize\u001b[0m\u001b[0;34m(\u001b[0m\u001b[0mdoc\u001b[0m\u001b[0;34m)\u001b[0m\u001b[0;34m\u001b[0m\u001b[0;34m\u001b[0m\u001b[0m\n\u001b[0m\u001b[1;32m     30\u001b[0m         \u001b[0mtoken_comp\u001b[0m\u001b[0;34m.\u001b[0m\u001b[0mappend\u001b[0m\u001b[0;34m(\u001b[0m\u001b[0mtokens\u001b[0m\u001b[0;34m)\u001b[0m\u001b[0;34m\u001b[0m\u001b[0;34m\u001b[0m\u001b[0m\n\u001b[1;32m     31\u001b[0m \u001b[0;34m\u001b[0m\u001b[0m\n",
      "\u001b[0;32m/opt/anaconda3/lib/python3.7/site-packages/nltk/tokenize/__init__.py\u001b[0m in \u001b[0;36mword_tokenize\u001b[0;34m(text, language, preserve_line)\u001b[0m\n\u001b[1;32m    144\u001b[0m     \u001b[0msentences\u001b[0m \u001b[0;34m=\u001b[0m \u001b[0;34m[\u001b[0m\u001b[0mtext\u001b[0m\u001b[0;34m]\u001b[0m \u001b[0;32mif\u001b[0m \u001b[0mpreserve_line\u001b[0m \u001b[0;32melse\u001b[0m \u001b[0msent_tokenize\u001b[0m\u001b[0;34m(\u001b[0m\u001b[0mtext\u001b[0m\u001b[0;34m,\u001b[0m \u001b[0mlanguage\u001b[0m\u001b[0;34m)\u001b[0m\u001b[0;34m\u001b[0m\u001b[0;34m\u001b[0m\u001b[0m\n\u001b[1;32m    145\u001b[0m     return [\n\u001b[0;32m--> 146\u001b[0;31m         \u001b[0mtoken\u001b[0m \u001b[0;32mfor\u001b[0m \u001b[0msent\u001b[0m \u001b[0;32min\u001b[0m \u001b[0msentences\u001b[0m \u001b[0;32mfor\u001b[0m \u001b[0mtoken\u001b[0m \u001b[0;32min\u001b[0m \u001b[0m_treebank_word_tokenizer\u001b[0m\u001b[0;34m.\u001b[0m\u001b[0mtokenize\u001b[0m\u001b[0;34m(\u001b[0m\u001b[0msent\u001b[0m\u001b[0;34m)\u001b[0m\u001b[0;34m\u001b[0m\u001b[0;34m\u001b[0m\u001b[0m\n\u001b[0m\u001b[1;32m    147\u001b[0m     ]\n",
      "\u001b[0;32m/opt/anaconda3/lib/python3.7/site-packages/nltk/tokenize/__init__.py\u001b[0m in \u001b[0;36m<listcomp>\u001b[0;34m(.0)\u001b[0m\n\u001b[1;32m    144\u001b[0m     \u001b[0msentences\u001b[0m \u001b[0;34m=\u001b[0m \u001b[0;34m[\u001b[0m\u001b[0mtext\u001b[0m\u001b[0;34m]\u001b[0m \u001b[0;32mif\u001b[0m \u001b[0mpreserve_line\u001b[0m \u001b[0;32melse\u001b[0m \u001b[0msent_tokenize\u001b[0m\u001b[0;34m(\u001b[0m\u001b[0mtext\u001b[0m\u001b[0;34m,\u001b[0m \u001b[0mlanguage\u001b[0m\u001b[0;34m)\u001b[0m\u001b[0;34m\u001b[0m\u001b[0;34m\u001b[0m\u001b[0m\n\u001b[1;32m    145\u001b[0m     return [\n\u001b[0;32m--> 146\u001b[0;31m         \u001b[0mtoken\u001b[0m \u001b[0;32mfor\u001b[0m \u001b[0msent\u001b[0m \u001b[0;32min\u001b[0m \u001b[0msentences\u001b[0m \u001b[0;32mfor\u001b[0m \u001b[0mtoken\u001b[0m \u001b[0;32min\u001b[0m \u001b[0m_treebank_word_tokenizer\u001b[0m\u001b[0;34m.\u001b[0m\u001b[0mtokenize\u001b[0m\u001b[0;34m(\u001b[0m\u001b[0msent\u001b[0m\u001b[0;34m)\u001b[0m\u001b[0;34m\u001b[0m\u001b[0;34m\u001b[0m\u001b[0m\n\u001b[0m\u001b[1;32m    147\u001b[0m     ]\n",
      "\u001b[0;32m/opt/anaconda3/lib/python3.7/site-packages/nltk/tokenize/treebank.py\u001b[0m in \u001b[0;36mtokenize\u001b[0;34m(self, text, convert_parentheses, return_str)\u001b[0m\n\u001b[1;32m    141\u001b[0m \u001b[0;34m\u001b[0m\u001b[0m\n\u001b[1;32m    142\u001b[0m         \u001b[0;32mfor\u001b[0m \u001b[0mregexp\u001b[0m \u001b[0;32min\u001b[0m \u001b[0mself\u001b[0m\u001b[0;34m.\u001b[0m\u001b[0mCONTRACTIONS2\u001b[0m\u001b[0;34m:\u001b[0m\u001b[0;34m\u001b[0m\u001b[0;34m\u001b[0m\u001b[0m\n\u001b[0;32m--> 143\u001b[0;31m             \u001b[0mtext\u001b[0m \u001b[0;34m=\u001b[0m \u001b[0mregexp\u001b[0m\u001b[0;34m.\u001b[0m\u001b[0msub\u001b[0m\u001b[0;34m(\u001b[0m\u001b[0;34mr' \\1 \\2 '\u001b[0m\u001b[0;34m,\u001b[0m \u001b[0mtext\u001b[0m\u001b[0;34m)\u001b[0m\u001b[0;34m\u001b[0m\u001b[0;34m\u001b[0m\u001b[0m\n\u001b[0m\u001b[1;32m    144\u001b[0m         \u001b[0;32mfor\u001b[0m \u001b[0mregexp\u001b[0m \u001b[0;32min\u001b[0m \u001b[0mself\u001b[0m\u001b[0;34m.\u001b[0m\u001b[0mCONTRACTIONS3\u001b[0m\u001b[0;34m:\u001b[0m\u001b[0;34m\u001b[0m\u001b[0;34m\u001b[0m\u001b[0m\n\u001b[1;32m    145\u001b[0m             \u001b[0mtext\u001b[0m \u001b[0;34m=\u001b[0m \u001b[0mregexp\u001b[0m\u001b[0;34m.\u001b[0m\u001b[0msub\u001b[0m\u001b[0;34m(\u001b[0m\u001b[0;34mr' \\1 \\2 '\u001b[0m\u001b[0;34m,\u001b[0m \u001b[0mtext\u001b[0m\u001b[0;34m)\u001b[0m\u001b[0;34m\u001b[0m\u001b[0;34m\u001b[0m\u001b[0m\n",
      "\u001b[0;31mKeyboardInterrupt\u001b[0m: "
     ]
    }
   ],
   "source": [
    "#Creating a dataframe that has all of the rows for analysis separated\n",
    "#Dataframe keeps the original indicies for rows\n",
    "news_validation = unique_val[~pd.isna(unique_val['sim1'])]\n",
    "\n",
    "#Setting up three empty lists to store similarity scores\n",
    "my1score = []\n",
    "jourscore = []\n",
    "top10orNaw = []\n",
    "\n",
    "#looping the following over ever row in my data frame\n",
    "for index, row in news_validation.iterrows():\n",
    "    #Using the row index to separate out test story and remaining stories for text corpus\n",
    "    teststory = news_validation.loc[index,]\n",
    "    corpus = unique_val.drop([index], axis=0)\n",
    "    \n",
    "    #Computing similarity scores for given dataframe\n",
    "    scores = SIM.SimCorpCreate (corpora = corpus['cleaned_text'], \n",
    "                                    directory= '/Users/Cylita/Desktop/insight-ds-project_news-link/scripts/', \n",
    "                                    querydoc = teststory['cleaned_text'])\n",
    "        \n",
    "    #Appending similarity scores to origina l\n",
    "    valscores = SIM.StoryMatch_Val(SimScores = scores, originalDF = corpus, NumLinks = len(corpus))\n",
    "    \n",
    "    #Adding value of most similar story to the list\n",
    "    my1score.append(valscores['sim_scores'].iloc[0])\n",
    "    \n",
    "    #Using function to determined if similar link is in my top 10\n",
    "    top = Top10(TestScores = valscores, TestStory = teststory)\n",
    "    top10orNaw.append(top)\n",
    "    \n",
    "    #Finding similarity score for the link directly inserted by the journalists\n",
    "    journal = FindSimScore(TestScores = valscores, TestStory= teststory)\n",
    "    jourscore.append(journal)\n"
   ]
  },
  {
   "cell_type": "code",
   "execution_count": 125,
   "metadata": {},
   "outputs": [
    {
     "data": {
      "text/html": [
       "<div>\n",
       "<style scoped>\n",
       "    .dataframe tbody tr th:only-of-type {\n",
       "        vertical-align: middle;\n",
       "    }\n",
       "\n",
       "    .dataframe tbody tr th {\n",
       "        vertical-align: top;\n",
       "    }\n",
       "\n",
       "    .dataframe thead th {\n",
       "        text-align: right;\n",
       "    }\n",
       "</style>\n",
       "<table border=\"1\" class=\"dataframe\">\n",
       "  <thead>\n",
       "    <tr style=\"text-align: right;\">\n",
       "      <th></th>\n",
       "      <th>title</th>\n",
       "      <th>mainurl</th>\n",
       "      <th>sim1</th>\n",
       "      <th>sim_scores</th>\n",
       "    </tr>\n",
       "  </thead>\n",
       "  <tbody>\n",
       "    <tr>\n",
       "      <td>344</td>\n",
       "      <td>Flurries expected for Monday morning on P.E.I.</td>\n",
       "      <td>https://www.cbc.ca/news/canada/prince-edward-i...</td>\n",
       "      <td>https://www.cbc.ca/news/canada/prince-edward-i...</td>\n",
       "      <td>0.336665</td>\n",
       "    </tr>\n",
       "    <tr>\n",
       "      <td>100</td>\n",
       "      <td>With snowy, windy conditions, RCMP advise Isla...</td>\n",
       "      <td>https://www.cbc.ca/news/canada/prince-edward-i...</td>\n",
       "      <td>https://www.cbc.ca/news/canada/prince-edward-i...</td>\n",
       "      <td>0.323564</td>\n",
       "    </tr>\n",
       "    <tr>\n",
       "      <td>1380</td>\n",
       "      <td>Snow, strong winds and bitterly cold temperatu...</td>\n",
       "      <td>https://www.cbc.ca/news/canada/nova-scotia/sno...</td>\n",
       "      <td>NaN</td>\n",
       "      <td>0.296482</td>\n",
       "    </tr>\n",
       "    <tr>\n",
       "      <td>299</td>\n",
       "      <td>Week should warm after bitter beginning</td>\n",
       "      <td>https://www.cbc.ca/news/canada/ottawa/ottawa-g...</td>\n",
       "      <td>NaN</td>\n",
       "      <td>0.209704</td>\n",
       "    </tr>\n",
       "    <tr>\n",
       "      <td>318</td>\n",
       "      <td>Poor road conditions cause school closures in ...</td>\n",
       "      <td>https://www.cbc.ca/news/canada/new-brunswick/w...</td>\n",
       "      <td>NaN</td>\n",
       "      <td>0.206494</td>\n",
       "    </tr>\n",
       "  </tbody>\n",
       "</table>\n",
       "</div>"
      ],
      "text/plain": [
       "                                                  title  \\\n",
       "344      Flurries expected for Monday morning on P.E.I.   \n",
       "100   With snowy, windy conditions, RCMP advise Isla...   \n",
       "1380  Snow, strong winds and bitterly cold temperatu...   \n",
       "299             Week should warm after bitter beginning   \n",
       "318   Poor road conditions cause school closures in ...   \n",
       "\n",
       "                                                mainurl  \\\n",
       "344   https://www.cbc.ca/news/canada/prince-edward-i...   \n",
       "100   https://www.cbc.ca/news/canada/prince-edward-i...   \n",
       "1380  https://www.cbc.ca/news/canada/nova-scotia/sno...   \n",
       "299   https://www.cbc.ca/news/canada/ottawa/ottawa-g...   \n",
       "318   https://www.cbc.ca/news/canada/new-brunswick/w...   \n",
       "\n",
       "                                                   sim1  sim_scores  \n",
       "344   https://www.cbc.ca/news/canada/prince-edward-i...    0.336665  \n",
       "100   https://www.cbc.ca/news/canada/prince-edward-i...    0.323564  \n",
       "1380                                                NaN    0.296482  \n",
       "299                                                 NaN    0.209704  \n",
       "318                                                 NaN    0.206494  "
      ]
     },
     "execution_count": 125,
     "metadata": {},
     "output_type": "execute_result"
    }
   ],
   "source": [
    "test.head(5)"
   ]
  },
  {
   "cell_type": "code",
   "execution_count": 89,
   "metadata": {},
   "outputs": [],
   "source": [
    "def Top10(TestScores, TestStory):\n",
    "    Top10 = TestScores.iloc[0:9]\n",
    "    InTen = Top10['sim1'].isin(pd.Series(TestStory['sim1']))\n",
    "    \n",
    "    if True in InTen:\n",
    "        output = 1\n",
    "    else:\n",
    "        output = 0\n",
    "    \n",
    "    return output"
   ]
  },
  {
   "cell_type": "code",
   "execution_count": 146,
   "metadata": {},
   "outputs": [],
   "source": [
    "def FindSimScore (TestScores, TestStory):\n",
    "    findsim = TestScores.loc[TestScores['mainurl'] == TestStory['sim1']]\n",
    "    output = findsim['sim_scores'].iloc[0]\n",
    "    return output"
   ]
  },
  {
   "cell_type": "code",
   "execution_count": 147,
   "metadata": {},
   "outputs": [],
   "source": [
    "b = FindSimScore(TestScores = test, TestStory = teststory)"
   ]
  },
  {
   "cell_type": "code",
   "execution_count": 148,
   "metadata": {},
   "outputs": [
    {
     "name": "stdout",
     "output_type": "stream",
     "text": [
      "0.01119490247219801\n"
     ]
    }
   ],
   "source": [
    "print(b)"
   ]
  },
  {
   "cell_type": "code",
   "execution_count": 100,
   "metadata": {},
   "outputs": [],
   "source": [
    "b= test.loc[test['mainurl'] == teststory['sim1']]"
   ]
  },
  {
   "cell_type": "code",
   "execution_count": null,
   "metadata": {},
   "outputs": [],
   "source": [
    "b"
   ]
  },
  {
   "cell_type": "code",
   "execution_count": 90,
   "metadata": {},
   "outputs": [],
   "source": [
    "zz = Top10(TestScores = test, TestStory = teststory)"
   ]
  },
  {
   "cell_type": "code",
   "execution_count": 91,
   "metadata": {},
   "outputs": [
    {
     "name": "stdout",
     "output_type": "stream",
     "text": [
      "0\n"
     ]
    }
   ],
   "source": [
    "print (zz)"
   ]
  },
  {
   "cell_type": "code",
   "execution_count": 50,
   "metadata": {},
   "outputs": [
    {
     "data": {
      "text/html": [
       "<div>\n",
       "<style scoped>\n",
       "    .dataframe tbody tr th:only-of-type {\n",
       "        vertical-align: middle;\n",
       "    }\n",
       "\n",
       "    .dataframe tbody tr th {\n",
       "        vertical-align: top;\n",
       "    }\n",
       "\n",
       "    .dataframe thead th {\n",
       "        text-align: right;\n",
       "    }\n",
       "</style>\n",
       "<table border=\"1\" class=\"dataframe\">\n",
       "  <thead>\n",
       "    <tr style=\"text-align: right;\">\n",
       "      <th></th>\n",
       "      <th>title</th>\n",
       "      <th>mainurl</th>\n",
       "      <th>sim1</th>\n",
       "      <th>sim_scores</th>\n",
       "    </tr>\n",
       "  </thead>\n",
       "  <tbody>\n",
       "    <tr>\n",
       "      <td>344</td>\n",
       "      <td>Flurries expected for Monday morning on P.E.I.</td>\n",
       "      <td>https://www.cbc.ca/news/canada/prince-edward-i...</td>\n",
       "      <td>https://www.cbc.ca/news/canada/prince-edward-i...</td>\n",
       "      <td>0.336665</td>\n",
       "    </tr>\n",
       "    <tr>\n",
       "      <td>100</td>\n",
       "      <td>With snowy, windy conditions, RCMP advise Isla...</td>\n",
       "      <td>https://www.cbc.ca/news/canada/prince-edward-i...</td>\n",
       "      <td>https://www.cbc.ca/news/canada/prince-edward-i...</td>\n",
       "      <td>0.323564</td>\n",
       "    </tr>\n",
       "    <tr>\n",
       "      <td>1380</td>\n",
       "      <td>Snow, strong winds and bitterly cold temperatu...</td>\n",
       "      <td>https://www.cbc.ca/news/canada/nova-scotia/sno...</td>\n",
       "      <td>NaN</td>\n",
       "      <td>0.296482</td>\n",
       "    </tr>\n",
       "    <tr>\n",
       "      <td>299</td>\n",
       "      <td>Week should warm after bitter beginning</td>\n",
       "      <td>https://www.cbc.ca/news/canada/ottawa/ottawa-g...</td>\n",
       "      <td>NaN</td>\n",
       "      <td>0.209704</td>\n",
       "    </tr>\n",
       "    <tr>\n",
       "      <td>318</td>\n",
       "      <td>Poor road conditions cause school closures in ...</td>\n",
       "      <td>https://www.cbc.ca/news/canada/new-brunswick/w...</td>\n",
       "      <td>NaN</td>\n",
       "      <td>0.206494</td>\n",
       "    </tr>\n",
       "    <tr>\n",
       "      <td>...</td>\n",
       "      <td>...</td>\n",
       "      <td>...</td>\n",
       "      <td>...</td>\n",
       "      <td>...</td>\n",
       "    </tr>\n",
       "    <tr>\n",
       "      <td>229</td>\n",
       "      <td>Man killed in snowmobile crash</td>\n",
       "      <td>https://www.cbc.ca/news/canada/ottawa/south-al...</td>\n",
       "      <td>NaN</td>\n",
       "      <td>0.000560</td>\n",
       "    </tr>\n",
       "    <tr>\n",
       "      <td>1665</td>\n",
       "      <td>Sprawling child porn investigation in southwes...</td>\n",
       "      <td>https://www.cbc.ca/news/canada/kitchener-water...</td>\n",
       "      <td>NaN</td>\n",
       "      <td>0.000537</td>\n",
       "    </tr>\n",
       "    <tr>\n",
       "      <td>1657</td>\n",
       "      <td>1 year after Khashoggi disappeared at Saudi Co...</td>\n",
       "      <td>https://www.cbc.ca/news/world/khashoggi-saudi-...</td>\n",
       "      <td>NaN</td>\n",
       "      <td>0.000481</td>\n",
       "    </tr>\n",
       "    <tr>\n",
       "      <td>657</td>\n",
       "      <td>Ontario Securities Commission chair and CEO Ma...</td>\n",
       "      <td>https://www.cbc.ca/news/business/osc-maureen-j...</td>\n",
       "      <td>NaN</td>\n",
       "      <td>0.000379</td>\n",
       "    </tr>\n",
       "    <tr>\n",
       "      <td>855</td>\n",
       "      <td>Ottawa Blackjacks hire former Ravens star as h...</td>\n",
       "      <td>https://www.cbc.ca/news/canada/ottawa/osvaldo-...</td>\n",
       "      <td>NaN</td>\n",
       "      <td>0.000100</td>\n",
       "    </tr>\n",
       "  </tbody>\n",
       "</table>\n",
       "<p>1654 rows × 4 columns</p>\n",
       "</div>"
      ],
      "text/plain": [
       "                                                  title  \\\n",
       "344      Flurries expected for Monday morning on P.E.I.   \n",
       "100   With snowy, windy conditions, RCMP advise Isla...   \n",
       "1380  Snow, strong winds and bitterly cold temperatu...   \n",
       "299             Week should warm after bitter beginning   \n",
       "318   Poor road conditions cause school closures in ...   \n",
       "...                                                 ...   \n",
       "229                      Man killed in snowmobile crash   \n",
       "1665  Sprawling child porn investigation in southwes...   \n",
       "1657  1 year after Khashoggi disappeared at Saudi Co...   \n",
       "657   Ontario Securities Commission chair and CEO Ma...   \n",
       "855   Ottawa Blackjacks hire former Ravens star as h...   \n",
       "\n",
       "                                                mainurl  \\\n",
       "344   https://www.cbc.ca/news/canada/prince-edward-i...   \n",
       "100   https://www.cbc.ca/news/canada/prince-edward-i...   \n",
       "1380  https://www.cbc.ca/news/canada/nova-scotia/sno...   \n",
       "299   https://www.cbc.ca/news/canada/ottawa/ottawa-g...   \n",
       "318   https://www.cbc.ca/news/canada/new-brunswick/w...   \n",
       "...                                                 ...   \n",
       "229   https://www.cbc.ca/news/canada/ottawa/south-al...   \n",
       "1665  https://www.cbc.ca/news/canada/kitchener-water...   \n",
       "1657  https://www.cbc.ca/news/world/khashoggi-saudi-...   \n",
       "657   https://www.cbc.ca/news/business/osc-maureen-j...   \n",
       "855   https://www.cbc.ca/news/canada/ottawa/osvaldo-...   \n",
       "\n",
       "                                                   sim1  sim_scores  \n",
       "344   https://www.cbc.ca/news/canada/prince-edward-i...    0.336665  \n",
       "100   https://www.cbc.ca/news/canada/prince-edward-i...    0.323564  \n",
       "1380                                                NaN    0.296482  \n",
       "299                                                 NaN    0.209704  \n",
       "318                                                 NaN    0.206494  \n",
       "...                                                 ...         ...  \n",
       "229                                                 NaN    0.000560  \n",
       "1665                                                NaN    0.000537  \n",
       "1657                                                NaN    0.000481  \n",
       "657                                                 NaN    0.000379  \n",
       "855                                                 NaN    0.000100  \n",
       "\n",
       "[1654 rows x 4 columns]"
      ]
     },
     "execution_count": 50,
     "metadata": {},
     "output_type": "execute_result"
    }
   ],
   "source": [
    "test"
   ]
  },
  {
   "cell_type": "code",
   "execution_count": 23,
   "metadata": {
    "scrolled": true
   },
   "outputs": [
    {
     "name": "stdout",
     "output_type": "stream",
     "text": [
      "Unnamed: 0                                                      0\n",
      "author                                                  Anonymous\n",
      "date                                     2020-01-20T18:54:01.116Z\n",
      "maintext        Following Sunday's snowfall, crews continue to...\n",
      "mainurl         https://www.cbc.ca/news/canada/prince-edward-i...\n",
      "sim1            https://www.cbc.ca/news/canada/prince-edward-i...\n",
      "simlinks        https://www.cbc.ca/news/canada/prince-edward-i...\n",
      "title           Snow all but over ahead of a bitterly cold Tue...\n",
      "full_text       Snow all but over ahead of a bitterly cold Tue...\n",
      "cleaned_text    snow ahead bitterly cold tuesday pei follow su...\n",
      "Name: 0, dtype: object\n"
     ]
    }
   ],
   "source": [
    "print(teststory)"
   ]
  },
  {
   "cell_type": "code",
   "execution_count": 51,
   "metadata": {},
   "outputs": [],
   "source": [
    "b= test.loc[test['mainurl'] == teststory['sim1']]"
   ]
  },
  {
   "cell_type": "code",
   "execution_count": 52,
   "metadata": {},
   "outputs": [
    {
     "name": "stdout",
     "output_type": "stream",
     "text": [
      "                                                 title  \\\n",
      "319  How 'absolute terror' led this P.E.I. man to s...   \n",
      "\n",
      "                                               mainurl  \\\n",
      "319  https://www.cbc.ca/news/canada/prince-edward-i...   \n",
      "\n",
      "                                                  sim1  sim_scores  \n",
      "319  https://www.cbc.ca/news/canada/prince-edward-i...    0.022129  \n"
     ]
    }
   ],
   "source": [
    "print(b)"
   ]
  },
  {
   "cell_type": "code",
   "execution_count": 32,
   "metadata": {},
   "outputs": [],
   "source": [
    "a=test['sim1'].isin(pd.Series(teststory['sim1']))"
   ]
  },
  {
   "cell_type": "code",
   "execution_count": 78,
   "metadata": {},
   "outputs": [
    {
     "data": {
      "text/plain": [
       "'403     False\\n344     False\\n100     False\\n1380    False\\n299     False\\n318     False\\n1250    False\\n209     False\\n256     False\\nName: sim1, dtype: bool'"
      ]
     },
     "execution_count": 78,
     "metadata": {},
     "output_type": "execute_result"
    }
   ],
   "source": [
    "str(a)"
   ]
  },
  {
   "cell_type": "code",
   "execution_count": 130,
   "metadata": {},
   "outputs": [],
   "source": [
    "c = FindSimScore(TestStory = teststory, TestScores = test)"
   ]
  },
  {
   "cell_type": "code",
   "execution_count": 143,
   "metadata": {},
   "outputs": [],
   "source": [
    "b= c.iloc[0]"
   ]
  },
  {
   "cell_type": "code",
   "execution_count": 145,
   "metadata": {},
   "outputs": [
    {
     "name": "stdout",
     "output_type": "stream",
     "text": [
      "0.01119490247219801\n"
     ]
    }
   ],
   "source": [
    "print(b)"
   ]
  },
  {
   "cell_type": "code",
   "execution_count": 73,
   "metadata": {},
   "outputs": [],
   "source": [
    "if a == True:\n",
    "    \n",
    "\n",
    "BOOLSTORE = []\n",
    "for i in c:\n",
    "    if str(c) == 'False':\n",
    "        value = 1\n",
    "        BOOLSTORE.append(value)\n",
    "    else:\n",
    "        pass"
   ]
  },
  {
   "cell_type": "code",
   "execution_count": 75,
   "metadata": {},
   "outputs": [
    {
     "name": "stdout",
     "output_type": "stream",
     "text": [
      "[False, False, False, False, False, False, False, False, False]\n"
     ]
    }
   ],
   "source": [
    "print(c)"
   ]
  },
  {
   "cell_type": "code",
   "execution_count": 54,
   "metadata": {
    "scrolled": true
   },
   "outputs": [
    {
     "name": "stdout",
     "output_type": "stream",
     "text": [
      "[False, False, False, False, False, False, False, False, False]\n"
     ]
    }
   ],
   "source": [
    "print(c)"
   ]
  },
  {
   "cell_type": "code",
   "execution_count": null,
   "metadata": {},
   "outputs": [],
   "source": [
    "def Validatie_Sim (val_corpora):\n",
    "    if "
   ]
  },
  {
   "cell_type": "code",
   "execution_count": 153,
   "metadata": {},
   "outputs": [
    {
     "name": "stdout",
     "output_type": "stream",
     "text": [
      "Great\n"
     ]
    }
   ],
   "source": [
    "if str(val_corpus['sim1']) != 'nan':\n",
    "    print(\"Great\")\n",
    "else:\n",
    "    print(\"SHOOT\")"
   ]
  },
  {
   "cell_type": "code",
   "execution_count": 150,
   "metadata": {},
   "outputs": [
    {
     "data": {
      "text/html": [
       "<div>\n",
       "<style scoped>\n",
       "    .dataframe tbody tr th:only-of-type {\n",
       "        vertical-align: middle;\n",
       "    }\n",
       "\n",
       "    .dataframe tbody tr th {\n",
       "        vertical-align: top;\n",
       "    }\n",
       "\n",
       "    .dataframe thead th {\n",
       "        text-align: right;\n",
       "    }\n",
       "</style>\n",
       "<table border=\"1\" class=\"dataframe\">\n",
       "  <thead>\n",
       "    <tr style=\"text-align: right;\">\n",
       "      <th></th>\n",
       "      <th>Unnamed: 0</th>\n",
       "      <th>author</th>\n",
       "      <th>date</th>\n",
       "      <th>maintext</th>\n",
       "      <th>mainurl</th>\n",
       "      <th>sim1</th>\n",
       "      <th>simlinks</th>\n",
       "      <th>title</th>\n",
       "      <th>full_text</th>\n",
       "      <th>cleaned_text</th>\n",
       "    </tr>\n",
       "  </thead>\n",
       "  <tbody>\n",
       "    <tr>\n",
       "      <td>0</td>\n",
       "      <td>0</td>\n",
       "      <td>Anonymous</td>\n",
       "      <td>2020-01-20T18:54:01.116Z</td>\n",
       "      <td>Following Sunday's snowfall, crews continue to...</td>\n",
       "      <td>https://www.cbc.ca/news/canada/prince-edward-i...</td>\n",
       "      <td>https://www.cbc.ca/news/canada/prince-edward-i...</td>\n",
       "      <td>https://www.cbc.ca/news/canada/prince-edward-i...</td>\n",
       "      <td>Snow all but over ahead of a bitterly cold Tue...</td>\n",
       "      <td>Snow all but over ahead of a bitterly cold Tue...</td>\n",
       "      <td>snow ahead bitterly cold tuesday pei follow su...</td>\n",
       "    </tr>\n",
       "    <tr>\n",
       "      <td>1</td>\n",
       "      <td>1</td>\n",
       "      <td>Anonymous</td>\n",
       "      <td>2020-01-17T21:53:16.952Z</td>\n",
       "      <td>A biologist teaching at the Maritime College o...</td>\n",
       "      <td>https://www.cbc.ca/news/canada/new-brunswick/r...</td>\n",
       "      <td>https://www.cbc.ca/news/canada/new-brunswick/d...</td>\n",
       "      <td>https://www.cbc.ca/news/canada/new-brunswick/m...</td>\n",
       "      <td>Forestry professor was fired for harassment an...</td>\n",
       "      <td>Forestry professor was fired for harassment an...</td>\n",
       "      <td>forestry professor fire harassment discriminat...</td>\n",
       "    </tr>\n",
       "    <tr>\n",
       "      <td>2</td>\n",
       "      <td>2</td>\n",
       "      <td>Anonymous</td>\n",
       "      <td>2019-12-09T17:43:42.150Z</td>\n",
       "      <td>An Alaska dentist accused of fraud and unneces...</td>\n",
       "      <td>https://www.cbc.ca/news/canada/north/alaska-de...</td>\n",
       "      <td>NaN</td>\n",
       "      <td>https://www.cbc.ca/news/canada/north/stanton-h...</td>\n",
       "      <td>Prosecutors say Alaska dentist, accused of fra...</td>\n",
       "      <td>Prosecutors say Alaska dentist, accused of fra...</td>\n",
       "      <td>prosecutor say alaska dentist accuse fraud rod...</td>\n",
       "    </tr>\n",
       "    <tr>\n",
       "      <td>3</td>\n",
       "      <td>3</td>\n",
       "      <td>Zulekha Nathoo</td>\n",
       "      <td>2020-01-18T23:09:29.618Z</td>\n",
       "      <td>Prince Harry and Meghan, the Duke and Duchess ...</td>\n",
       "      <td>https://www.cbc.ca/news/world/harry-meghan-los...</td>\n",
       "      <td>https://www.cbc.ca/news/world/harry-meghan-ste...</td>\n",
       "      <td>https://www.cbc.ca/news/world/royal-romance-pr...</td>\n",
       "      <td>Prince Harry and Meghan will give up royal tit...</td>\n",
       "      <td>Prince Harry and Meghan will give up royal tit...</td>\n",
       "      <td>prince harry meghan give royal title public fu...</td>\n",
       "    </tr>\n",
       "    <tr>\n",
       "      <td>4</td>\n",
       "      <td>4</td>\n",
       "      <td>Rosa Marchitelli</td>\n",
       "      <td>2019-04-15T16:17:03.386Z</td>\n",
       "      <td>Rania Khunaysir didn't see it coming when she ...</td>\n",
       "      <td>https://www.cbc.ca/news/health/airline-cabin-p...</td>\n",
       "      <td>NaN</td>\n",
       "      <td>[]</td>\n",
       "      <td>Pesticide on planes: Parents call for changes ...</td>\n",
       "      <td>Pesticide on planes: Parents call for changes ...</td>\n",
       "      <td>pesticide plane parent call change cabin fumig...</td>\n",
       "    </tr>\n",
       "    <tr>\n",
       "      <td>5</td>\n",
       "      <td>5</td>\n",
       "      <td>Anonymous</td>\n",
       "      <td>2020-01-16T22:06:41.621Z</td>\n",
       "      <td>Shares in Bombardier Inc. plunged more than 30...</td>\n",
       "      <td>https://www.cbc.ca/news/business/bombardier-do...</td>\n",
       "      <td>https://www.cbc.ca/news/business/bombardier-bu...</td>\n",
       "      <td>https://www.cbc.ca/news/business/bombardier-hi...</td>\n",
       "      <td>Bombardier shares drop after it says revenue w...</td>\n",
       "      <td>Bombardier shares drop after it says revenue w...</td>\n",
       "      <td>bombardi share drop say revenue fall short sha...</td>\n",
       "    </tr>\n",
       "    <tr>\n",
       "      <td>6</td>\n",
       "      <td>6</td>\n",
       "      <td>Anonymous</td>\n",
       "      <td>2020-01-21T00:13:16.841Z</td>\n",
       "      <td>Suncor Energy has been ordered to immediately ...</td>\n",
       "      <td>https://www.cbc.ca/news/canada/newfoundland-la...</td>\n",
       "      <td>NaN</td>\n",
       "      <td>[]</td>\n",
       "      <td>Terra Nova oil platform ordered to stop all wo...</td>\n",
       "      <td>Terra Nova oil platform ordered to stop all wo...</td>\n",
       "      <td>terra nova oil platform order stop work confin...</td>\n",
       "    </tr>\n",
       "    <tr>\n",
       "      <td>7</td>\n",
       "      <td>7</td>\n",
       "      <td>Anonymous</td>\n",
       "      <td>2020-01-15T20:13:53.817Z</td>\n",
       "      <td>The decade that just ended was by far the hott...</td>\n",
       "      <td>https://www.cbc.ca/news/technology/hottest-dec...</td>\n",
       "      <td>https://www.cbc.ca/news/technology/what-on-ear...</td>\n",
       "      <td>https://www.cbc.ca/news/technology/global-temp...</td>\n",
       "      <td>Earth just had its hottest decade on record</td>\n",
       "      <td>Earth just had its hottest decade on record. T...</td>\n",
       "      <td>earth hot decade record decade end far hot eve...</td>\n",
       "    </tr>\n",
       "    <tr>\n",
       "      <td>8</td>\n",
       "      <td>8</td>\n",
       "      <td>Erica Johnson</td>\n",
       "      <td>2019-04-02T17:51:22.864Z</td>\n",
       "      <td>Matthew Tomlinson spent five months trying to ...</td>\n",
       "      <td>https://www.cbc.ca/news/business/telecom-telev...</td>\n",
       "      <td>NaN</td>\n",
       "      <td>[]</td>\n",
       "      <td>Bell customer's 5-month fight is 1 of almost 1...</td>\n",
       "      <td>Bell customer's 5-month fight is 1 of almost 1...</td>\n",
       "      <td>bell customer month fight almost recent compla...</td>\n",
       "    </tr>\n",
       "    <tr>\n",
       "      <td>9</td>\n",
       "      <td>9</td>\n",
       "      <td>Anonymous</td>\n",
       "      <td>2020-01-20T15:14:11.237Z</td>\n",
       "      <td>Malaysia has sent back 150 containers of plast...</td>\n",
       "      <td>https://www.cbc.ca/news/world/malaysia-sends-b...</td>\n",
       "      <td>https://www.cbc.ca/news/world/we-are-going-to-...</td>\n",
       "      <td>https://www.cbc.ca/news/world/sp-malaysia-cana...</td>\n",
       "      <td>Malaysia sends back 150 containers of trash, s...</td>\n",
       "      <td>Malaysia sends back 150 containers of trash, s...</td>\n",
       "      <td>malaysia send back container trash say world r...</td>\n",
       "    </tr>\n",
       "  </tbody>\n",
       "</table>\n",
       "</div>"
      ],
      "text/plain": [
       "   Unnamed: 0            author                      date  \\\n",
       "0           0         Anonymous  2020-01-20T18:54:01.116Z   \n",
       "1           1         Anonymous  2020-01-17T21:53:16.952Z   \n",
       "2           2         Anonymous  2019-12-09T17:43:42.150Z   \n",
       "3           3    Zulekha Nathoo  2020-01-18T23:09:29.618Z   \n",
       "4           4  Rosa Marchitelli  2019-04-15T16:17:03.386Z   \n",
       "5           5         Anonymous  2020-01-16T22:06:41.621Z   \n",
       "6           6         Anonymous  2020-01-21T00:13:16.841Z   \n",
       "7           7         Anonymous  2020-01-15T20:13:53.817Z   \n",
       "8           8     Erica Johnson  2019-04-02T17:51:22.864Z   \n",
       "9           9         Anonymous  2020-01-20T15:14:11.237Z   \n",
       "\n",
       "                                            maintext  \\\n",
       "0  Following Sunday's snowfall, crews continue to...   \n",
       "1  A biologist teaching at the Maritime College o...   \n",
       "2  An Alaska dentist accused of fraud and unneces...   \n",
       "3  Prince Harry and Meghan, the Duke and Duchess ...   \n",
       "4  Rania Khunaysir didn't see it coming when she ...   \n",
       "5  Shares in Bombardier Inc. plunged more than 30...   \n",
       "6  Suncor Energy has been ordered to immediately ...   \n",
       "7  The decade that just ended was by far the hott...   \n",
       "8  Matthew Tomlinson spent five months trying to ...   \n",
       "9  Malaysia has sent back 150 containers of plast...   \n",
       "\n",
       "                                             mainurl  \\\n",
       "0  https://www.cbc.ca/news/canada/prince-edward-i...   \n",
       "1  https://www.cbc.ca/news/canada/new-brunswick/r...   \n",
       "2  https://www.cbc.ca/news/canada/north/alaska-de...   \n",
       "3  https://www.cbc.ca/news/world/harry-meghan-los...   \n",
       "4  https://www.cbc.ca/news/health/airline-cabin-p...   \n",
       "5  https://www.cbc.ca/news/business/bombardier-do...   \n",
       "6  https://www.cbc.ca/news/canada/newfoundland-la...   \n",
       "7  https://www.cbc.ca/news/technology/hottest-dec...   \n",
       "8  https://www.cbc.ca/news/business/telecom-telev...   \n",
       "9  https://www.cbc.ca/news/world/malaysia-sends-b...   \n",
       "\n",
       "                                                sim1  \\\n",
       "0  https://www.cbc.ca/news/canada/prince-edward-i...   \n",
       "1  https://www.cbc.ca/news/canada/new-brunswick/d...   \n",
       "2                                                NaN   \n",
       "3  https://www.cbc.ca/news/world/harry-meghan-ste...   \n",
       "4                                                NaN   \n",
       "5  https://www.cbc.ca/news/business/bombardier-bu...   \n",
       "6                                                NaN   \n",
       "7  https://www.cbc.ca/news/technology/what-on-ear...   \n",
       "8                                                NaN   \n",
       "9  https://www.cbc.ca/news/world/we-are-going-to-...   \n",
       "\n",
       "                                            simlinks  \\\n",
       "0  https://www.cbc.ca/news/canada/prince-edward-i...   \n",
       "1  https://www.cbc.ca/news/canada/new-brunswick/m...   \n",
       "2  https://www.cbc.ca/news/canada/north/stanton-h...   \n",
       "3  https://www.cbc.ca/news/world/royal-romance-pr...   \n",
       "4                                                 []   \n",
       "5  https://www.cbc.ca/news/business/bombardier-hi...   \n",
       "6                                                 []   \n",
       "7  https://www.cbc.ca/news/technology/global-temp...   \n",
       "8                                                 []   \n",
       "9  https://www.cbc.ca/news/world/sp-malaysia-cana...   \n",
       "\n",
       "                                               title  \\\n",
       "0  Snow all but over ahead of a bitterly cold Tue...   \n",
       "1  Forestry professor was fired for harassment an...   \n",
       "2  Prosecutors say Alaska dentist, accused of fra...   \n",
       "3  Prince Harry and Meghan will give up royal tit...   \n",
       "4  Pesticide on planes: Parents call for changes ...   \n",
       "5  Bombardier shares drop after it says revenue w...   \n",
       "6  Terra Nova oil platform ordered to stop all wo...   \n",
       "7        Earth just had its hottest decade on record   \n",
       "8  Bell customer's 5-month fight is 1 of almost 1...   \n",
       "9  Malaysia sends back 150 containers of trash, s...   \n",
       "\n",
       "                                           full_text  \\\n",
       "0  Snow all but over ahead of a bitterly cold Tue...   \n",
       "1  Forestry professor was fired for harassment an...   \n",
       "2  Prosecutors say Alaska dentist, accused of fra...   \n",
       "3  Prince Harry and Meghan will give up royal tit...   \n",
       "4  Pesticide on planes: Parents call for changes ...   \n",
       "5  Bombardier shares drop after it says revenue w...   \n",
       "6  Terra Nova oil platform ordered to stop all wo...   \n",
       "7  Earth just had its hottest decade on record. T...   \n",
       "8  Bell customer's 5-month fight is 1 of almost 1...   \n",
       "9  Malaysia sends back 150 containers of trash, s...   \n",
       "\n",
       "                                        cleaned_text  \n",
       "0  snow ahead bitterly cold tuesday pei follow su...  \n",
       "1  forestry professor fire harassment discriminat...  \n",
       "2  prosecutor say alaska dentist accuse fraud rod...  \n",
       "3  prince harry meghan give royal title public fu...  \n",
       "4  pesticide plane parent call change cabin fumig...  \n",
       "5  bombardi share drop say revenue fall short sha...  \n",
       "6  terra nova oil platform order stop work confin...  \n",
       "7  earth hot decade record decade end far hot eve...  \n",
       "8  bell customer month fight almost recent compla...  \n",
       "9  malaysia send back container trash say world r...  "
      ]
     },
     "execution_count": 150,
     "metadata": {},
     "output_type": "execute_result"
    }
   ],
   "source": [
    "#Now need to write a function that takes \n",
    "\n",
    "for i in 200:\n",
    "    corpus = val_corpus.iloc[(i+1):len(val_corpus)]\n",
    "    teststor = val_corpus.iloc[i]"
   ]
  },
  {
   "cell_type": "code",
   "execution_count": null,
   "metadata": {},
   "outputs": [],
   "source": []
  }
 ],
 "metadata": {
  "kernelspec": {
   "display_name": "Python 3",
   "language": "python",
   "name": "python3"
  },
  "language_info": {
   "codemirror_mode": {
    "name": "ipython",
    "version": 3
   },
   "file_extension": ".py",
   "mimetype": "text/x-python",
   "name": "python",
   "nbconvert_exporter": "python",
   "pygments_lexer": "ipython3",
   "version": "3.7.4"
  }
 },
 "nbformat": 4,
 "nbformat_minor": 2
}
