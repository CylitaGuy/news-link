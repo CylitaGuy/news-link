{
 "cells": [
  {
   "cell_type": "code",
   "execution_count": 2,
   "metadata": {},
   "outputs": [],
   "source": [
    "#Loading in required packages\n",
    "import pandas as pd\n",
    "import numpy as np\n",
    "import sys"
   ]
  },
  {
   "cell_type": "code",
   "execution_count": 6,
   "metadata": {},
   "outputs": [],
   "source": [
    "import matplotlib.pyplot as plt"
   ]
  },
  {
   "cell_type": "code",
   "execution_count": 10,
   "metadata": {},
   "outputs": [],
   "source": [
    "#Loading in the fully cleaned corpus and validation metrics\n",
    "sys.path.insert(1, '/Users/Cylita/Desktop/insight-ds-project_news-link/data/processed')\n",
    "\n",
    "val_metrics = pd.read_csv('/Users/Cylita/Desktop/insight-ds-project_news-link/data/processed/validation_metrics.csv')\n",
    "news_corpus = pd.read_csv('/Users/Cylita/Desktop/insight-ds-project_news-link/data/processed/Final_Cleaned_Corpus.csv')"
   ]
  },
  {
   "cell_type": "code",
   "execution_count": 11,
   "metadata": {},
   "outputs": [
    {
     "data": {
      "text/html": [
       "<div>\n",
       "<style scoped>\n",
       "    .dataframe tbody tr th:only-of-type {\n",
       "        vertical-align: middle;\n",
       "    }\n",
       "\n",
       "    .dataframe tbody tr th {\n",
       "        vertical-align: top;\n",
       "    }\n",
       "\n",
       "    .dataframe thead th {\n",
       "        text-align: right;\n",
       "    }\n",
       "</style>\n",
       "<table border=\"1\" class=\"dataframe\">\n",
       "  <thead>\n",
       "    <tr style=\"text-align: right;\">\n",
       "      <th></th>\n",
       "      <th>Unnamed: 0</th>\n",
       "      <th>MyModel</th>\n",
       "      <th>JournalScore</th>\n",
       "      <th>Top10</th>\n",
       "    </tr>\n",
       "  </thead>\n",
       "  <tbody>\n",
       "    <tr>\n",
       "      <td>0</td>\n",
       "      <td>0</td>\n",
       "      <td>0.353172</td>\n",
       "      <td>0.022129</td>\n",
       "      <td>0</td>\n",
       "    </tr>\n",
       "    <tr>\n",
       "      <td>1</td>\n",
       "      <td>1</td>\n",
       "      <td>0.583086</td>\n",
       "      <td>0.583086</td>\n",
       "      <td>0</td>\n",
       "    </tr>\n",
       "    <tr>\n",
       "      <td>2</td>\n",
       "      <td>2</td>\n",
       "      <td>0.588402</td>\n",
       "      <td>0.588402</td>\n",
       "      <td>0</td>\n",
       "    </tr>\n",
       "    <tr>\n",
       "      <td>3</td>\n",
       "      <td>3</td>\n",
       "      <td>0.248844</td>\n",
       "      <td>0.248844</td>\n",
       "      <td>0</td>\n",
       "    </tr>\n",
       "    <tr>\n",
       "      <td>4</td>\n",
       "      <td>4</td>\n",
       "      <td>0.335426</td>\n",
       "      <td>0.198551</td>\n",
       "      <td>0</td>\n",
       "    </tr>\n",
       "  </tbody>\n",
       "</table>\n",
       "</div>"
      ],
      "text/plain": [
       "   Unnamed: 0   MyModel  JournalScore  Top10\n",
       "0           0  0.353172      0.022129      0\n",
       "1           1  0.583086      0.583086      0\n",
       "2           2  0.588402      0.588402      0\n",
       "3           3  0.248844      0.248844      0\n",
       "4           4  0.335426      0.198551      0"
      ]
     },
     "execution_count": 11,
     "metadata": {},
     "output_type": "execute_result"
    }
   ],
   "source": [
    "val_metrics.head(5)"
   ]
  },
  {
   "cell_type": "code",
   "execution_count": 12,
   "metadata": {},
   "outputs": [
    {
     "data": {
      "text/html": [
       "<div>\n",
       "<style scoped>\n",
       "    .dataframe tbody tr th:only-of-type {\n",
       "        vertical-align: middle;\n",
       "    }\n",
       "\n",
       "    .dataframe tbody tr th {\n",
       "        vertical-align: top;\n",
       "    }\n",
       "\n",
       "    .dataframe thead th {\n",
       "        text-align: right;\n",
       "    }\n",
       "</style>\n",
       "<table border=\"1\" class=\"dataframe\">\n",
       "  <thead>\n",
       "    <tr style=\"text-align: right;\">\n",
       "      <th></th>\n",
       "      <th>Unnamed: 0</th>\n",
       "      <th>Unnamed: 0.1</th>\n",
       "      <th>author</th>\n",
       "      <th>date</th>\n",
       "      <th>maintext</th>\n",
       "      <th>mainurl</th>\n",
       "      <th>sim1</th>\n",
       "      <th>simlinks</th>\n",
       "      <th>title</th>\n",
       "      <th>full_text</th>\n",
       "      <th>cleaned_text</th>\n",
       "      <th>reduced</th>\n",
       "    </tr>\n",
       "  </thead>\n",
       "  <tbody>\n",
       "    <tr>\n",
       "      <td>0</td>\n",
       "      <td>0</td>\n",
       "      <td>0</td>\n",
       "      <td>Anonymous</td>\n",
       "      <td>2020-01-20T18:54:01.116Z</td>\n",
       "      <td>Following Sunday's snowfall, crews continue to...</td>\n",
       "      <td>https://www.cbc.ca/news/canada/prince-edward-i...</td>\n",
       "      <td>https://www.cbc.ca/news/canada/prince-edward-i...</td>\n",
       "      <td>https://www.cbc.ca/news/canada/prince-edward-i...</td>\n",
       "      <td>Snow all but over ahead of a bitterly cold Tue...</td>\n",
       "      <td>Snow all but over ahead of a bitterly cold Tue...</td>\n",
       "      <td>snow ahead bitterly cold tuesday pei follow su...</td>\n",
       "      <td>snow ahead bitterly cold tuesday pei follow su...</td>\n",
       "    </tr>\n",
       "    <tr>\n",
       "      <td>1</td>\n",
       "      <td>1</td>\n",
       "      <td>1</td>\n",
       "      <td>Anonymous</td>\n",
       "      <td>2020-01-17T21:53:16.952Z</td>\n",
       "      <td>A biologist teaching at the Maritime College o...</td>\n",
       "      <td>https://www.cbc.ca/news/canada/new-brunswick/r...</td>\n",
       "      <td>https://www.cbc.ca/news/canada/new-brunswick/d...</td>\n",
       "      <td>https://www.cbc.ca/news/canada/new-brunswick/m...</td>\n",
       "      <td>Forestry professor was fired for harassment an...</td>\n",
       "      <td>Forestry professor was fired for harassment an...</td>\n",
       "      <td>forestry professor fire harassment discriminat...</td>\n",
       "      <td>forestry professor fire harassment discriminat...</td>\n",
       "    </tr>\n",
       "    <tr>\n",
       "      <td>2</td>\n",
       "      <td>2</td>\n",
       "      <td>2</td>\n",
       "      <td>Anonymous</td>\n",
       "      <td>2019-12-09T17:43:42.150Z</td>\n",
       "      <td>An Alaska dentist accused of fraud and unneces...</td>\n",
       "      <td>https://www.cbc.ca/news/canada/north/alaska-de...</td>\n",
       "      <td>NaN</td>\n",
       "      <td>https://www.cbc.ca/news/canada/north/stanton-h...</td>\n",
       "      <td>Prosecutors say Alaska dentist, accused of fra...</td>\n",
       "      <td>Prosecutors say Alaska dentist, accused of fra...</td>\n",
       "      <td>prosecutor say alaska dentist accuse fraud rod...</td>\n",
       "      <td>prosecutor say alaska dentist accuse fraud rod...</td>\n",
       "    </tr>\n",
       "    <tr>\n",
       "      <td>3</td>\n",
       "      <td>3</td>\n",
       "      <td>3</td>\n",
       "      <td>Zulekha Nathoo</td>\n",
       "      <td>2020-01-18T23:09:29.618Z</td>\n",
       "      <td>Prince Harry and Meghan, the Duke and Duchess ...</td>\n",
       "      <td>https://www.cbc.ca/news/world/harry-meghan-los...</td>\n",
       "      <td>https://www.cbc.ca/news/world/harry-meghan-ste...</td>\n",
       "      <td>https://www.cbc.ca/news/world/royal-romance-pr...</td>\n",
       "      <td>Prince Harry and Meghan will give up royal tit...</td>\n",
       "      <td>Prince Harry and Meghan will give up royal tit...</td>\n",
       "      <td>prince harry meghan give royal title public fu...</td>\n",
       "      <td>prince harry meghan give royal title public fu...</td>\n",
       "    </tr>\n",
       "  </tbody>\n",
       "</table>\n",
       "</div>"
      ],
      "text/plain": [
       "   Unnamed: 0  Unnamed: 0.1          author                      date  \\\n",
       "0           0             0       Anonymous  2020-01-20T18:54:01.116Z   \n",
       "1           1             1       Anonymous  2020-01-17T21:53:16.952Z   \n",
       "2           2             2       Anonymous  2019-12-09T17:43:42.150Z   \n",
       "3           3             3  Zulekha Nathoo  2020-01-18T23:09:29.618Z   \n",
       "\n",
       "                                            maintext  \\\n",
       "0  Following Sunday's snowfall, crews continue to...   \n",
       "1  A biologist teaching at the Maritime College o...   \n",
       "2  An Alaska dentist accused of fraud and unneces...   \n",
       "3  Prince Harry and Meghan, the Duke and Duchess ...   \n",
       "\n",
       "                                             mainurl  \\\n",
       "0  https://www.cbc.ca/news/canada/prince-edward-i...   \n",
       "1  https://www.cbc.ca/news/canada/new-brunswick/r...   \n",
       "2  https://www.cbc.ca/news/canada/north/alaska-de...   \n",
       "3  https://www.cbc.ca/news/world/harry-meghan-los...   \n",
       "\n",
       "                                                sim1  \\\n",
       "0  https://www.cbc.ca/news/canada/prince-edward-i...   \n",
       "1  https://www.cbc.ca/news/canada/new-brunswick/d...   \n",
       "2                                                NaN   \n",
       "3  https://www.cbc.ca/news/world/harry-meghan-ste...   \n",
       "\n",
       "                                            simlinks  \\\n",
       "0  https://www.cbc.ca/news/canada/prince-edward-i...   \n",
       "1  https://www.cbc.ca/news/canada/new-brunswick/m...   \n",
       "2  https://www.cbc.ca/news/canada/north/stanton-h...   \n",
       "3  https://www.cbc.ca/news/world/royal-romance-pr...   \n",
       "\n",
       "                                               title  \\\n",
       "0  Snow all but over ahead of a bitterly cold Tue...   \n",
       "1  Forestry professor was fired for harassment an...   \n",
       "2  Prosecutors say Alaska dentist, accused of fra...   \n",
       "3  Prince Harry and Meghan will give up royal tit...   \n",
       "\n",
       "                                           full_text  \\\n",
       "0  Snow all but over ahead of a bitterly cold Tue...   \n",
       "1  Forestry professor was fired for harassment an...   \n",
       "2  Prosecutors say Alaska dentist, accused of fra...   \n",
       "3  Prince Harry and Meghan will give up royal tit...   \n",
       "\n",
       "                                        cleaned_text  \\\n",
       "0  snow ahead bitterly cold tuesday pei follow su...   \n",
       "1  forestry professor fire harassment discriminat...   \n",
       "2  prosecutor say alaska dentist accuse fraud rod...   \n",
       "3  prince harry meghan give royal title public fu...   \n",
       "\n",
       "                                             reduced  \n",
       "0  snow ahead bitterly cold tuesday pei follow su...  \n",
       "1  forestry professor fire harassment discriminat...  \n",
       "2  prosecutor say alaska dentist accuse fraud rod...  \n",
       "3  prince harry meghan give royal title public fu...  "
      ]
     },
     "execution_count": 12,
     "metadata": {},
     "output_type": "execute_result"
    }
   ],
   "source": [
    "news_corpus.head(4)"
   ]
  },
  {
   "cell_type": "code",
   "execution_count": 8,
   "metadata": {},
   "outputs": [
    {
     "data": {
      "text/plain": [
       "Text(0, 0.5, 'My Model Link')"
      ]
     },
     "execution_count": 8,
     "metadata": {},
     "output_type": "execute_result"
    },
    {
     "data": {
      "image/png": "[encoded data removed]",
      "text/plain": [
       "<Figure size 432x288 with 1 Axes>"
      ]
     },
     "metadata": {
      "needs_background": "light"
     },
     "output_type": "display_data"
    }
   ],
   "source": [
    "# create a figure and axis\n",
    "fig, ax = plt.subplots()\n",
    "\n",
    "# scatter the sepal_length against the sepal_width\n",
    "ax.scatter(val_metrics['JournalScore'], val_metrics['MyModel'])\n",
    "# set a title and labels\n",
    "ax.set_title('Iris Dataset')\n",
    "ax.set_xlabel('Journalist Inserted')\n",
    "ax.set_ylabel('My Model Link')"
   ]
  },
  {
   "cell_type": "code",
   "execution_count": null,
   "metadata": {},
   "outputs": [],
   "source": []
  }
 ],
 "metadata": {
  "kernelspec": {
   "display_name": "Python 3",
   "language": "python",
   "name": "python3"
  },
  "language_info": {
   "codemirror_mode": {
    "name": "ipython",
    "version": 3
   },
   "file_extension": ".py",
   "mimetype": "text/x-python",
   "name": "python",
   "nbconvert_exporter": "python",
   "pygments_lexer": "ipython3",
   "version": "3.7.4"
  }
 },
 "nbformat": 4,
 "nbformat_minor": 2
}
