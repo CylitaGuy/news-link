{
 "cells": [
  {
   "cell_type": "code",
   "execution_count": 186,
   "metadata": {},
   "outputs": [],
   "source": [
    "#Packages and functions that may be needed\n",
    "import pandas as pd\n",
    "import numpy as np\n",
    "from nltk.tokenize.toktok import ToktokTokenizer\n",
    "import re\n",
    "from bs4 import BeautifulSoup\n",
    "import unicodedata\n",
    "import re\n",
    "import string\n",
    "import gensim"
   ]
  },
  {
   "cell_type": "code",
   "execution_count": null,
   "metadata": {},
   "outputs": [],
   "source": [
    "nltk.download('punkt')\n",
    "nltk.download('stopwords')"
   ]
  },
  {
   "cell_type": "code",
   "execution_count": 152,
   "metadata": {},
   "outputs": [
    {
     "data": {
      "text/plain": [
       "436"
      ]
     },
     "execution_count": 152,
     "metadata": {},
     "output_type": "execute_result"
    }
   ],
   "source": [
    "#Importing data and checking to see the structure\n",
    "data_news = pd.read_csv('/Users/Cylita/Desktop/insight-ds-project_news-link/data/raw/Jan_20_news.csv').dropna()\n",
    "len(data)"
   ]
  },
  {
   "cell_type": "code",
   "execution_count": 237,
   "metadata": {},
   "outputs": [
    {
     "data": {
      "text/plain": [
       "array(['Unnamed: 0', 'author', 'date', 'title', 'maintext', 'mainurl',\n",
       "       'simlinks', 'relalinks', 'full_text', 'clean_text', 'reduced'],\n",
       "      dtype=object)"
      ]
     },
     "execution_count": 237,
     "metadata": {},
     "output_type": "execute_result"
    }
   ],
   "source": [
    "#Isolating a single story to play around\n",
    "news_data.columns.values\n"
   ]
  },
  {
   "cell_type": "code",
   "execution_count": 231,
   "metadata": {
    "collapsed": true
   },
   "outputs": [
    {
     "name": "stdout",
     "output_type": "stream",
     "text": [
      "snow ahead bitterly cold tuesday pei follow sundays snowfall crew continue work clear road across province monday environment canada say flurry pair drop temperature could expect monday northerly wind kmh gust kmh temperature likely fall c monday afternoon wind chill make feel like midafternoon monday province road condition map show partly cover road charlottetown main road far crapaud morell wood island almost kensington route wood islands montague also partly cover cbc meteorologist jay scotland say significant snowfall expect monday brisk wind could mean blow snow expose road temperature also continue fall tonight ahead fairly sunny bitterly cold tuesday say here look snowfall total sunday storm courtesy hrefhttpstwittercomcocorahscanadarefsrctwsrcetfwcocorahscanadaa volunteer area see cm expect scatter flurry today temperature continue fall afternoon tonight ahead fairly sunny cold tuesday hrefhttpstcobdumhshppictwittercombdumhshpa earlier monday rcmp say main roads island slushy slippery side road snowcovere slippery salt job dispatcher ask islander give little extra time clear vehicle snow drive carefully patrol morning main road slushy slippery salt job side road snow cover slippery good morning rush around leave little earlier normal take time hrefhttpstwittercomhashtagdrivesafepeisrchashamprefsrctwsrcetfwdrivesafepeia cst parson hrefhttpstcozcbzaetxmpictwittercomzcbzaetxma french language school board public school branch open onehour delay\n",
      "['snow', 'ahead', 'bitterly', 'cold', 'tuesday', 'pei', 'follow', 'sundays', 'snowfall', 'crew', 'continue', 'work', 'clear', 'road', 'across', 'province', 'monday', 'environment', 'canada', 'say', 'flurry', 'pair', 'drop', 'temperature', 'could', 'expect', 'monday', 'northerly', 'wind', 'kmh', 'gust', 'kmh', 'temperature', 'likely', 'fall', 'c', 'monday', 'afternoon', 'wind', 'chill', 'make', 'feel', 'like', 'midafternoon', 'monday', 'province', 'road', 'condition', 'map', 'show', 'partly', 'cover', 'road', 'charlottetown', 'main', 'road', 'far', 'crapaud', 'morell', 'wood', 'island', 'almost', 'kensington', 'route', 'wood', 'islands', 'montague', 'also', 'partly', 'cover', 'cbc', 'meteorologist', 'jay', 'scotland', 'say', 'significant', 'snowfall', 'expect', 'monday', 'brisk', 'wind', 'could', 'mean', 'blow', 'snow', 'expose', 'road', 'temperature', 'also', 'continue', 'fall', 'tonight', 'ahead', 'fairly', 'sunny', 'bitterly', 'cold', 'tuesday', 'say', 'here', 'look', 'snowfall', 'total', 'sunday', 'storm', 'courtesy', 'hrefhttpstwittercomcocorahscanadarefsrctwsrcetfwcocorahscanadaa', 'volunteer', 'area', 'see', 'cm', 'expect', 'scatter', 'flurry', 'today', 'temperature', 'continue', 'fall', 'afternoon', 'tonight', 'ahead', 'fairly', 'sunny', 'cold', 'tuesday', 'hrefhttpstcobdumhshppictwittercombdumhshpa', 'earlier', 'monday', 'rcmp', 'say', 'main', 'roads', 'island', 'slushy', 'slippery', 'side', 'road', 'snowcovere', 'slippery', 'salt', 'job', 'dispatcher', 'ask', 'islander', 'give', 'little', 'extra', 'time', 'clear', 'vehicle', 'snow', 'drive', 'carefully', 'patrol', 'morning', 'main', 'road', 'slushy', 'slippery', 'salt', 'job', 'side', 'road', 'snow', 'cover', 'slippery', 'good', 'morning', 'rush', 'around', 'leave', 'little', 'earlier', 'normal', 'take', 'time', 'hrefhttpstwittercomhashtagdrivesafepeisrchashamprefsrctwsrcetfwdrivesafepeia', 'cst', 'parson', 'hrefhttpstcozcbzaetxmpictwittercomzcbzaetxma', 'french', 'language', 'school', 'board', 'public', 'school', 'branch', 'open', 'onehour', 'delay']\n"
     ]
    },
    {
     "data": {
      "text/plain": [
       "190"
      ]
     },
     "execution_count": 231,
     "metadata": {},
     "output_type": "execute_result"
    }
   ],
   "source": [
    "print(TK['clean_text'])\n",
    "\n",
    "a = TK['clean_text'].split(\" \")\n",
    "print(a)\n",
    "len(a)"
   ]
  },
  {
   "cell_type": "code",
   "execution_count": 232,
   "metadata": {},
   "outputs": [
    {
     "data": {
      "text/plain": [
       "str"
      ]
     },
     "execution_count": 232,
     "metadata": {},
     "output_type": "execute_result"
    }
   ],
   "source": [
    "type(TK['clean_text'])"
   ]
  },
  {
   "cell_type": "code",
   "execution_count": 217,
   "metadata": {
    "scrolled": true
   },
   "outputs": [
    {
     "name": "stdout",
     "output_type": "stream",
     "text": [
      "['snow', 'ahead', 'bitterly', 'cold', 'tuesday', 'pei', 'follow', 'sundays', 'snowfall', 'crew', 'continue', 'work', 'clear', 'road', 'across', 'province', 'monday', 'environment', 'canada', 'say', 'flurry', 'pair', 'drop', 'temperature', 'could', 'expect', 'monday', 'northerly', 'wind', 'kmh', 'gust', 'kmh', 'temperature', 'likely', 'fall', 'c', 'monday', 'afternoon', 'wind', 'chill', 'make', 'feel', 'like', 'midafternoon', 'monday', 'province', 'road', 'condition', 'map', 'show', 'partly', 'cover', 'road', 'charlottetown', 'main', 'road', 'far', 'crapaud', 'morell', 'wood', 'island', 'almost', 'kensington']\n"
     ]
    }
   ],
   "source": [
    "b = a[0:len(a)//3]\n",
    "print(b)"
   ]
  },
  {
   "cell_type": "code",
   "execution_count": 221,
   "metadata": {},
   "outputs": [
    {
     "name": "stdout",
     "output_type": "stream",
     "text": [
      "snow ahead bitterly cold tuesday pei follow sundays snowfall crew continue work clear road across province monday environment canada say flurry pair drop temperature could expect monday northerly wind kmh gust kmh temperature likely fall c monday afternoon wind chill make feel like midafternoon monday province road condition map show partly cover road charlottetown main road far crapaud morell wood island almost kensington\n"
     ]
    }
   ],
   "source": [
    "c =\" \".join(b)\n",
    "print(c)"
   ]
  },
  {
   "cell_type": "code",
   "execution_count": 183,
   "metadata": {},
   "outputs": [],
   "source": [
    "#Creating a set of variables to test functionality on\n",
    "#Single Story Cleaned for comparison\n",
    "TK = news_data.iloc[0,]\n",
    "#A subset of 10 news stories to compare this story too\n",
    "CORP = news_data['clean_text'].iloc[1:10]"
   ]
  },
  {
   "cell_type": "code",
   "execution_count": 175,
   "metadata": {},
   "outputs": [
    {
     "data": {
      "text/plain": [
       "pandas.core.series.Series"
      ]
     },
     "execution_count": 175,
     "metadata": {},
     "output_type": "execute_result"
    }
   ],
   "source": [
    "type(CORP['clean_text'])"
   ]
  },
  {
   "cell_type": "code",
   "execution_count": 177,
   "metadata": {},
   "outputs": [],
   "source": [
    "from nltk.tokenize import word_tokenize"
   ]
  },
  {
   "cell_type": "code",
   "execution_count": 255,
   "metadata": {},
   "outputs": [
    {
     "name": "stdout",
     "output_type": "stream",
     "text": [
      "0      snow ahead bitterly cold tuesday pei follow su...\n",
      "1      forestry professor fire harassment discriminat...\n",
      "2      prosecutor say alaska dentist accuse fraud rod...\n",
      "3      prince harry meghan give royal title public fu...\n",
      "4      pesticide plane parent call change cabin fumig...\n",
      "                             ...                        \n",
      "451    andrew wrights world beautys never skindeep an...\n",
      "452    kitsilano resident play cool rumour could get ...\n",
      "453    anne e fan use billboard campaign revive cance...\n",
      "454    shuttle van homeless vandalize second time org...\n",
      "455    armed gun rights advocate protest virginia dem...\n",
      "Name: clean_text, Length: 436, dtype: object\n"
     ]
    }
   ],
   "source": [
    "import similiarity_funcs\n",
    "print(news_data['clean_text'])"
   ]
  },
  {
   "cell_type": "code",
   "execution_count": 235,
   "metadata": {},
   "outputs": [],
   "source": [
    "reduced_text = []\n",
    "for doc in news_data['clean_text']:\n",
    "    test = similiarity_funcs.Clean30(doc)\n",
    "    reduced_text.append(test)\n",
    "\n",
    "news_data[\"reduced\"] = reduced_text"
   ]
  },
  {
   "cell_type": "code",
   "execution_count": 268,
   "metadata": {},
   "outputs": [],
   "source": [
    "testcorp = news_data.iloc[1:len(news_data)]\n",
    "testq = news_data.iloc[0]"
   ]
  },
  {
   "cell_type": "code",
   "execution_count": 279,
   "metadata": {},
   "outputs": [
    {
     "name": "stdout",
     "output_type": "stream",
     "text": [
      "Unnamed: 0                                                    0\n",
      "author                                                Anonymous\n",
      "date                                   2020-01-20T18:54:01.116Z\n",
      "title         Snow all but over ahead of a bitterly cold Tue...\n",
      "maintext      Following Sunday's snowfall, crews continue to...\n",
      "mainurl       https://www.cbc.ca/news/canada/prince-edward-i...\n",
      "simlinks      https://www.cbc.ca/news/canada/prince-edward-i...\n",
      "relalinks                                                    []\n",
      "full_text     Snow all but over ahead of a bitterly cold Tue...\n",
      "clean_text    snow ahead bitterly cold tuesday pei follow su...\n",
      "reduced       snow ahead bitterly cold tuesday pei follow su...\n",
      "Name: 0, dtype: object\n"
     ]
    }
   ],
   "source": [
    "print(testq)"
   ]
  },
  {
   "cell_type": "code",
   "execution_count": 259,
   "metadata": {},
   "outputs": [],
   "source": [
    "def SimCorpCreate (corpora, directory, querydoc):\n",
    "    #Creating empty list to store the tokenized words for comparison from docs\n",
    "    token_comp = []\n",
    "    \n",
    "    for doc in corpora:\n",
    "        tokens = word_tokenize(doc)\n",
    "        token_comp.append(tokens)\n",
    "    \n",
    "    #Creating a dictionary\n",
    "    dictionary = gensim.corpora.Dictionary(token_comp)\n",
    "    \n",
    "    #Creating corpus of words usign the dictionary\n",
    "    corpus = [dictionary.doc2bow(doc) for doc in token_comp]\n",
    "    \n",
    "    #Caclulating frequency–inverse document frequency\n",
    "    tf_idf = gensim.models.TfidfModel(corpus)\n",
    "    \n",
    "    #Building similiarity index to be saved wherever this script is\n",
    "    sims = gensim.similarities.Similarity(directory,tf_idf[corpus],\n",
    "                                        num_features=len(dictionary))\n",
    "    \n",
    "    #Tokenizing query text and creating a dictionary\n",
    "    querytokens = word_tokenize(querydoc)\n",
    "    query_doc_bow = dictionary.doc2bow(querytokens)\n",
    "    \n",
    "    # perform a similarity query against the corpus\n",
    "    query_doc_tf_idf = tf_idf[query_doc_bow]\n",
    "    \n",
    "    #Attatch to list for outputs\n",
    "    sim_scores = sims[query_doc_tf_idf]\n",
    "    \n",
    "    return sim_scores\n"
   ]
  },
  {
   "cell_type": "code",
   "execution_count": null,
   "metadata": {},
   "outputs": [],
   "source": []
  },
  {
   "cell_type": "code",
   "execution_count": 263,
   "metadata": {},
   "outputs": [],
   "source": [
    "testing = SimCorpCreate(corpora = testcorp['clean_text'], querydoc = testq['clean_text'], \n",
    "                                          directory = '/Users/Cylita/Desktop/insight-ds-project_news-link/notebooks/')"
   ]
  },
  {
   "cell_type": "code",
   "execution_count": 252,
   "metadata": {},
   "outputs": [],
   "source": [
    "len(testing)\n",
    "len(testcorp)\n",
    "from array import *"
   ]
  },
  {
   "cell_type": "code",
   "execution_count": 271,
   "metadata": {},
   "outputs": [
    {
     "name": "stderr",
     "output_type": "stream",
     "text": [
      "/opt/anaconda3/lib/python3.7/site-packages/ipykernel_launcher.py:2: SettingWithCopyWarning: \n",
      "A value is trying to be set on a copy of a slice from a DataFrame.\n",
      "Try using .loc[row_indexer,col_indexer] = value instead\n",
      "\n",
      "See the caveats in the documentation: http://pandas.pydata.org/pandas-docs/stable/user_guide/indexing.html#returning-a-view-versus-a-copy\n",
      "  \n"
     ]
    }
   ],
   "source": [
    "bb = testing.tolist()\n",
    "newdata = "
   ]
  },
  {
   "cell_type": "code",
   "execution_count": 278,
   "metadata": {},
   "outputs": [
    {
     "data": {
      "text/html": [
       "<div>\n",
       "<style scoped>\n",
       "    .dataframe tbody tr th:only-of-type {\n",
       "        vertical-align: middle;\n",
       "    }\n",
       "\n",
       "    .dataframe tbody tr th {\n",
       "        vertical-align: top;\n",
       "    }\n",
       "\n",
       "    .dataframe thead th {\n",
       "        text-align: right;\n",
       "    }\n",
       "</style>\n",
       "<table border=\"1\" class=\"dataframe\">\n",
       "  <thead>\n",
       "    <tr style=\"text-align: right;\">\n",
       "      <th></th>\n",
       "      <th>Unnamed: 0</th>\n",
       "      <th>author</th>\n",
       "      <th>date</th>\n",
       "      <th>title</th>\n",
       "      <th>maintext</th>\n",
       "      <th>mainurl</th>\n",
       "      <th>simlinks</th>\n",
       "      <th>relalinks</th>\n",
       "      <th>full_text</th>\n",
       "      <th>clean_text</th>\n",
       "      <th>reduced</th>\n",
       "      <th>sim_scores</th>\n",
       "    </tr>\n",
       "  </thead>\n",
       "  <tbody>\n",
       "    <tr>\n",
       "      <td>422</td>\n",
       "      <td>422</td>\n",
       "      <td>Anonymous</td>\n",
       "      <td>2020-01-18T21:24:33.116Z</td>\n",
       "      <td>Snowfall warning in effect for P.E.I. on Sunday</td>\n",
       "      <td>Gusty winds and snow are in store for Sunday a...</td>\n",
       "      <td>https://www.cbc.ca/news/canada/prince-edward-i...</td>\n",
       "      <td>https://www.cbc.ca/news/canada/prince-edward-i...</td>\n",
       "      <td>[]</td>\n",
       "      <td>Snowfall warning in effect for P.E.I. on Sunda...</td>\n",
       "      <td>snowfall warning effect pei sunday gusty wind ...</td>\n",
       "      <td>snowfall warning effect pei sunday gusty wind ...</td>\n",
       "      <td>0.343621</td>\n",
       "    </tr>\n",
       "    <tr>\n",
       "      <td>361</td>\n",
       "      <td>361</td>\n",
       "      <td>Sam Juric</td>\n",
       "      <td>2020-01-19T22:11:58.151Z</td>\n",
       "      <td>Flurries expected for Monday morning on P.E.I.</td>\n",
       "      <td>Periods of snow paired with poor road conditio...</td>\n",
       "      <td>https://www.cbc.ca/news/canada/prince-edward-i...</td>\n",
       "      <td>https://www.cbc.ca/news/canada/prince-edward-i...</td>\n",
       "      <td>[]</td>\n",
       "      <td>Flurries expected for Monday morning on P.E.I....</td>\n",
       "      <td>flurry expect monday morning pei periods snow ...</td>\n",
       "      <td>flurry expect monday morning pei periods snow ...</td>\n",
       "      <td>0.339433</td>\n",
       "    </tr>\n",
       "    <tr>\n",
       "      <td>109</td>\n",
       "      <td>109</td>\n",
       "      <td>Anonymous</td>\n",
       "      <td>2020-01-17T23:37:18.191Z</td>\n",
       "      <td>With snowy, windy conditions, RCMP advise Isla...</td>\n",
       "      <td>Windy weather and blowing snow are reducing vi...</td>\n",
       "      <td>https://www.cbc.ca/news/canada/prince-edward-i...</td>\n",
       "      <td>http://www.cbc.ca/news2/interactives/stormcent...</td>\n",
       "      <td>[]</td>\n",
       "      <td>With snowy, windy conditions, RCMP advise Isla...</td>\n",
       "      <td>snowy windy condition rcmp advise islander sta...</td>\n",
       "      <td>snowy windy condition rcmp advise islander sta...</td>\n",
       "      <td>0.324324</td>\n",
       "    </tr>\n",
       "    <tr>\n",
       "      <td>333</td>\n",
       "      <td>333</td>\n",
       "      <td>Anonymous</td>\n",
       "      <td>2020-01-17T13:09:12.315Z</td>\n",
       "      <td>Poor road conditions cause school closures in ...</td>\n",
       "      <td>If you're heading outdoors today, you should b...</td>\n",
       "      <td>https://www.cbc.ca/news/canada/new-brunswick/w...</td>\n",
       "      <td>[]</td>\n",
       "      <td>[]</td>\n",
       "      <td>Poor road conditions cause school closures in ...</td>\n",
       "      <td>poor road condition cause school closure south...</td>\n",
       "      <td>poor road condition cause school closure south...</td>\n",
       "      <td>0.211661</td>\n",
       "    </tr>\n",
       "    <tr>\n",
       "      <td>313</td>\n",
       "      <td>313</td>\n",
       "      <td>Anonymous</td>\n",
       "      <td>2020-01-20T11:11:48.570Z</td>\n",
       "      <td>Week should warm after bitter beginning</td>\n",
       "      <td>Today should be the coldest day of the workwee...</td>\n",
       "      <td>https://www.cbc.ca/news/canada/ottawa/ottawa-g...</td>\n",
       "      <td>[]</td>\n",
       "      <td>/news/canada/ottawa/canal-opens-2020-1.5432286...</td>\n",
       "      <td>Week should warm after bitter beginning. Today...</td>\n",
       "      <td>week warm bitter beginning today cold day work...</td>\n",
       "      <td>week warm bitter beginning today cold day work...</td>\n",
       "      <td>0.206741</td>\n",
       "    </tr>\n",
       "    <tr>\n",
       "      <td>237</td>\n",
       "      <td>237</td>\n",
       "      <td>Anonymous</td>\n",
       "      <td>2020-01-19T18:14:17.166Z</td>\n",
       "      <td>Saskatchewan cold snap ending as temperatures ...</td>\n",
       "      <td>Saskatchewan residents will soon get a repriev...</td>\n",
       "      <td>https://www.cbc.ca/news/canada/saskatoon/envir...</td>\n",
       "      <td>https://www.cbc.ca/news/canada/saskatchewan/ex...</td>\n",
       "      <td>[]</td>\n",
       "      <td>Saskatchewan cold snap ending as temperatures ...</td>\n",
       "      <td>saskatchewan cold snap end temperature set cli...</td>\n",
       "      <td>saskatchewan cold snap end temperature set cli...</td>\n",
       "      <td>0.182853</td>\n",
       "    </tr>\n",
       "    <tr>\n",
       "      <td>222</td>\n",
       "      <td>222</td>\n",
       "      <td>Anonymous</td>\n",
       "      <td>2020-01-20T01:58:23.419Z</td>\n",
       "      <td>Troops arrive in N.L. for blizzard cleanup</td>\n",
       "      <td>Members of the Canadian Armed Forces arrived i...</td>\n",
       "      <td>https://www.cbc.ca/news/canada/newfoundland-la...</td>\n",
       "      <td>https://www.cbc.ca/news/canada/manitoba/manito...</td>\n",
       "      <td>[]</td>\n",
       "      <td>Troops arrive in N.L. for blizzard cleanup. Me...</td>\n",
       "      <td>troop arrive nl blizzard cleanup member canadi...</td>\n",
       "      <td>troop arrive nl blizzard cleanup member canadi...</td>\n",
       "      <td>0.172235</td>\n",
       "    </tr>\n",
       "    <tr>\n",
       "      <td>269</td>\n",
       "      <td>269</td>\n",
       "      <td>Anonymous</td>\n",
       "      <td>2020-01-18T02:47:21.770Z</td>\n",
       "      <td>State of emergency declared in St. John's regi...</td>\n",
       "      <td>The City of St. John's and neighbouring munici...</td>\n",
       "      <td>https://www.cbc.ca/news/canada/newfoundland-la...</td>\n",
       "      <td>[]</td>\n",
       "      <td>[]</td>\n",
       "      <td>State of emergency declared in St. John's regi...</td>\n",
       "      <td>state emergency declare st johns region rage b...</td>\n",
       "      <td>state emergency declare st johns region rage b...</td>\n",
       "      <td>0.165753</td>\n",
       "    </tr>\n",
       "    <tr>\n",
       "      <td>286</td>\n",
       "      <td>286</td>\n",
       "      <td>Anonymous</td>\n",
       "      <td>2020-01-19T21:15:26.715Z</td>\n",
       "      <td>Slippery roads to blame for cruiser crash, pol...</td>\n",
       "      <td>A Gatineau police cruiser collided with a vehi...</td>\n",
       "      <td>https://www.cbc.ca/news/canada/ottawa/gatineau...</td>\n",
       "      <td>[]</td>\n",
       "      <td>[]</td>\n",
       "      <td>Slippery roads to blame for cruiser crash, pol...</td>\n",
       "      <td>slippery road blame cruiser crash police say g...</td>\n",
       "      <td>slippery road blame cruiser crash police say g...</td>\n",
       "      <td>0.165120</td>\n",
       "    </tr>\n",
       "    <tr>\n",
       "      <td>289</td>\n",
       "      <td>289</td>\n",
       "      <td>Anonymous</td>\n",
       "      <td>2020-01-19T13:30:00.998Z</td>\n",
       "      <td>When extremely cold weather was making news in...</td>\n",
       "      <td>Even in Canada, there comes a point where wint...</td>\n",
       "      <td>https://www.cbc.ca/archives/when-extremely-col...</td>\n",
       "      <td>[]</td>\n",
       "      <td>/archives/the-snowstorm-that-took-2-weeks-to-c...</td>\n",
       "      <td>When extremely cold weather was making news in...</td>\n",
       "      <td>extremely cold weather make news atlantic cana...</td>\n",
       "      <td>extremely cold weather make news atlantic cana...</td>\n",
       "      <td>0.160646</td>\n",
       "    </tr>\n",
       "  </tbody>\n",
       "</table>\n",
       "</div>"
      ],
      "text/plain": [
       "     Unnamed: 0     author                      date  \\\n",
       "422         422  Anonymous  2020-01-18T21:24:33.116Z   \n",
       "361         361  Sam Juric  2020-01-19T22:11:58.151Z   \n",
       "109         109  Anonymous  2020-01-17T23:37:18.191Z   \n",
       "333         333  Anonymous  2020-01-17T13:09:12.315Z   \n",
       "313         313  Anonymous  2020-01-20T11:11:48.570Z   \n",
       "237         237  Anonymous  2020-01-19T18:14:17.166Z   \n",
       "222         222  Anonymous  2020-01-20T01:58:23.419Z   \n",
       "269         269  Anonymous  2020-01-18T02:47:21.770Z   \n",
       "286         286  Anonymous  2020-01-19T21:15:26.715Z   \n",
       "289         289  Anonymous  2020-01-19T13:30:00.998Z   \n",
       "\n",
       "                                                 title  \\\n",
       "422    Snowfall warning in effect for P.E.I. on Sunday   \n",
       "361     Flurries expected for Monday morning on P.E.I.   \n",
       "109  With snowy, windy conditions, RCMP advise Isla...   \n",
       "333  Poor road conditions cause school closures in ...   \n",
       "313            Week should warm after bitter beginning   \n",
       "237  Saskatchewan cold snap ending as temperatures ...   \n",
       "222         Troops arrive in N.L. for blizzard cleanup   \n",
       "269  State of emergency declared in St. John's regi...   \n",
       "286  Slippery roads to blame for cruiser crash, pol...   \n",
       "289  When extremely cold weather was making news in...   \n",
       "\n",
       "                                              maintext  \\\n",
       "422  Gusty winds and snow are in store for Sunday a...   \n",
       "361  Periods of snow paired with poor road conditio...   \n",
       "109  Windy weather and blowing snow are reducing vi...   \n",
       "333  If you're heading outdoors today, you should b...   \n",
       "313  Today should be the coldest day of the workwee...   \n",
       "237  Saskatchewan residents will soon get a repriev...   \n",
       "222  Members of the Canadian Armed Forces arrived i...   \n",
       "269  The City of St. John's and neighbouring munici...   \n",
       "286  A Gatineau police cruiser collided with a vehi...   \n",
       "289  Even in Canada, there comes a point where wint...   \n",
       "\n",
       "                                               mainurl  \\\n",
       "422  https://www.cbc.ca/news/canada/prince-edward-i...   \n",
       "361  https://www.cbc.ca/news/canada/prince-edward-i...   \n",
       "109  https://www.cbc.ca/news/canada/prince-edward-i...   \n",
       "333  https://www.cbc.ca/news/canada/new-brunswick/w...   \n",
       "313  https://www.cbc.ca/news/canada/ottawa/ottawa-g...   \n",
       "237  https://www.cbc.ca/news/canada/saskatoon/envir...   \n",
       "222  https://www.cbc.ca/news/canada/newfoundland-la...   \n",
       "269  https://www.cbc.ca/news/canada/newfoundland-la...   \n",
       "286  https://www.cbc.ca/news/canada/ottawa/gatineau...   \n",
       "289  https://www.cbc.ca/archives/when-extremely-col...   \n",
       "\n",
       "                                              simlinks  \\\n",
       "422  https://www.cbc.ca/news/canada/prince-edward-i...   \n",
       "361  https://www.cbc.ca/news/canada/prince-edward-i...   \n",
       "109  http://www.cbc.ca/news2/interactives/stormcent...   \n",
       "333                                                 []   \n",
       "313                                                 []   \n",
       "237  https://www.cbc.ca/news/canada/saskatchewan/ex...   \n",
       "222  https://www.cbc.ca/news/canada/manitoba/manito...   \n",
       "269                                                 []   \n",
       "286                                                 []   \n",
       "289                                                 []   \n",
       "\n",
       "                                             relalinks  \\\n",
       "422                                                 []   \n",
       "361                                                 []   \n",
       "109                                                 []   \n",
       "333                                                 []   \n",
       "313  /news/canada/ottawa/canal-opens-2020-1.5432286...   \n",
       "237                                                 []   \n",
       "222                                                 []   \n",
       "269                                                 []   \n",
       "286                                                 []   \n",
       "289  /archives/the-snowstorm-that-took-2-weeks-to-c...   \n",
       "\n",
       "                                             full_text  \\\n",
       "422  Snowfall warning in effect for P.E.I. on Sunda...   \n",
       "361  Flurries expected for Monday morning on P.E.I....   \n",
       "109  With snowy, windy conditions, RCMP advise Isla...   \n",
       "333  Poor road conditions cause school closures in ...   \n",
       "313  Week should warm after bitter beginning. Today...   \n",
       "237  Saskatchewan cold snap ending as temperatures ...   \n",
       "222  Troops arrive in N.L. for blizzard cleanup. Me...   \n",
       "269  State of emergency declared in St. John's regi...   \n",
       "286  Slippery roads to blame for cruiser crash, pol...   \n",
       "289  When extremely cold weather was making news in...   \n",
       "\n",
       "                                            clean_text  \\\n",
       "422  snowfall warning effect pei sunday gusty wind ...   \n",
       "361  flurry expect monday morning pei periods snow ...   \n",
       "109  snowy windy condition rcmp advise islander sta...   \n",
       "333  poor road condition cause school closure south...   \n",
       "313  week warm bitter beginning today cold day work...   \n",
       "237  saskatchewan cold snap end temperature set cli...   \n",
       "222  troop arrive nl blizzard cleanup member canadi...   \n",
       "269  state emergency declare st johns region rage b...   \n",
       "286  slippery road blame cruiser crash police say g...   \n",
       "289  extremely cold weather make news atlantic cana...   \n",
       "\n",
       "                                               reduced  sim_scores  \n",
       "422  snowfall warning effect pei sunday gusty wind ...    0.343621  \n",
       "361  flurry expect monday morning pei periods snow ...    0.339433  \n",
       "109  snowy windy condition rcmp advise islander sta...    0.324324  \n",
       "333  poor road condition cause school closure south...    0.211661  \n",
       "313  week warm bitter beginning today cold day work...    0.206741  \n",
       "237  saskatchewan cold snap end temperature set cli...    0.182853  \n",
       "222  troop arrive nl blizzard cleanup member canadi...    0.172235  \n",
       "269  state emergency declare st johns region rage b...    0.165753  \n",
       "286  slippery road blame cruiser crash police say g...    0.165120  \n",
       "289  extremely cold weather make news atlantic cana...    0.160646  "
      ]
     },
     "execution_count": 278,
     "metadata": {},
     "output_type": "execute_result"
    }
   ],
   "source": [
    "bb = testcorp.sort_values(by=['sim_scores'], ascending = False)\n",
    "bb.head(10)"
   ]
  },
  {
   "cell_type": "code",
   "execution_count": 273,
   "metadata": {},
   "outputs": [
    {
     "data": {
      "text/plain": [
       "435"
      ]
     },
     "execution_count": 273,
     "metadata": {},
     "output_type": "execute_result"
    }
   ],
   "source": [
    "len(testcorp)"
   ]
  },
  {
   "cell_type": "code",
   "execution_count": null,
   "metadata": {},
   "outputs": [],
   "source": []
  },
  {
   "cell_type": "code",
   "execution_count": 199,
   "metadata": {},
   "outputs": [],
   "source": [
    "query = word_tokenize(TK['clean_text'])"
   ]
  },
  {
   "cell_type": "code",
   "execution_count": null,
   "metadata": {},
   "outputs": [],
   "source": []
  },
  {
   "cell_type": "code",
   "execution_count": null,
   "metadata": {},
   "outputs": [],
   "source": []
  },
  {
   "cell_type": "code",
   "execution_count": null,
   "metadata": {},
   "outputs": [],
   "source": []
  },
  {
   "cell_type": "code",
   "execution_count": 184,
   "metadata": {},
   "outputs": [],
   "source": [
    "token_comp = []\n",
    "\n",
    "for doc in CORP:\n",
    "    tokens = word_tokenize(doc)\n",
    "    token_comp.append(tokens)\n",
    "    "
   ]
  },
  {
   "cell_type": "code",
   "execution_count": 190,
   "metadata": {},
   "outputs": [],
   "source": [
    "#Creating a dictionary\n",
    "dictionary = gensim.corpora.Dictionary(token_comp)\n"
   ]
  },
  {
   "cell_type": "code",
   "execution_count": 192,
   "metadata": {},
   "outputs": [],
   "source": [
    "#Creating a corpus of words\n",
    "corpus = [dictionary.doc2bow(doc) for doc in token_comp]"
   ]
  },
  {
   "cell_type": "code",
   "execution_count": 196,
   "metadata": {},
   "outputs": [],
   "source": [
    "tf_idf = gensim.models.TfidfModel(corpus)"
   ]
  },
  {
   "cell_type": "code",
   "execution_count": 204,
   "metadata": {},
   "outputs": [],
   "source": [
    "# building the index\n",
    "sims = gensim.similarities.Similarity('/Users/Cylita/Desktop/insight-ds-project_news-link/notebooks/',tf_idf[corpus],\n",
    "                                        num_features=len(dictionary))"
   ]
  },
  {
   "cell_type": "code",
   "execution_count": 201,
   "metadata": {},
   "outputs": [],
   "source": [
    "query_doc_bow = dictionary.doc2bow(query)"
   ]
  },
  {
   "cell_type": "code",
   "execution_count": null,
   "metadata": {},
   "outputs": [],
   "source": []
  },
  {
   "cell_type": "code",
   "execution_count": 1,
   "metadata": {},
   "outputs": [],
   "source": [
    "coseine = []"
   ]
  },
  {
   "cell_type": "code",
   "execution_count": 205,
   "metadata": {},
   "outputs": [
    {
     "name": "stdout",
     "output_type": "stream",
     "text": [
      "Comparing Result: [0.03019729 0.01425428 0.03558893 0.05583022 0.05880328 0.04720943\n",
      " 0.12114887 0.03710833 0.0373694 ]\n"
     ]
    }
   ],
   "source": [
    "# perform a similarity query against the corpus\n",
    "query_doc_tf_idf = tf_idf[query_doc_bow]\n",
    "# print(document_number, document_similarity)\n",
    "print('Comparing Result:', sims[query_doc_tf_idf]) "
   ]
  },
  {
   "cell_type": "code",
   "execution_count": 2,
   "metadata": {},
   "outputs": [
    {
     "ename": "NameError",
     "evalue": "name 'sims' is not defined",
     "output_type": "error",
     "traceback": [
      "\u001b[0;31m---------------------------------------------------------------------------\u001b[0m",
      "\u001b[0;31mNameError\u001b[0m                                 Traceback (most recent call last)",
      "\u001b[0;32m<ipython-input-2-f9400586680c>\u001b[0m in \u001b[0;36m<module>\u001b[0;34m\u001b[0m\n\u001b[0;32m----> 1\u001b[0;31m \u001b[0mcoseine\u001b[0m\u001b[0;34m.\u001b[0m\u001b[0mappend\u001b[0m\u001b[0;34m(\u001b[0m\u001b[0msims\u001b[0m\u001b[0;34m[\u001b[0m\u001b[0mquery_doc_tf_idf\u001b[0m\u001b[0;34m]\u001b[0m\u001b[0;34m)\u001b[0m\u001b[0;34m\u001b[0m\u001b[0;34m\u001b[0m\u001b[0m\n\u001b[0m",
      "\u001b[0;31mNameError\u001b[0m: name 'sims' is not defined"
     ]
    }
   ],
   "source": [
    "coseine.append(sims[query_doc_tf_idf])"
   ]
  },
  {
   "cell_type": "code",
   "execution_count": 262,
   "metadata": {},
   "outputs": [
    {
     "name": "stdout",
     "output_type": "stream",
     "text": [
      "[0.03019729 0.01425428 0.03558893 0.05583022 0.05880328 0.04720943\n",
      " 0.12114887 0.03710833 0.0373694 ]\n"
     ]
    }
   ],
   "source": [
    "print(sims[query_doc_tf_idf])"
   ]
  },
  {
   "cell_type": "code",
   "execution_count": null,
   "metadata": {},
   "outputs": [],
   "source": [
    "file2_docs = []\n",
    "\n",
    "with open ('demofile2.txt') as f:\n",
    "    tokens = sent_tokenize(f.read())\n",
    "    for line in tokens:\n",
    "        file2_docs.append(line)\n",
    "\n",
    "print(\"Number of documents:\",len(file2_docs))  \n",
    "for line in file2_docs:\n",
    "    query_doc = [w.lower() for w in word_tokenize(line)]\n",
    "    query_doc_bow = dictionary.doc2bow(query_doc) #update an existing dictionary and\n",
    "create bag of words"
   ]
  },
  {
   "cell_type": "code",
   "execution_count": null,
   "metadata": {},
   "outputs": [],
   "source": [
    "#Creating a corpus of comparison text\n",
    "\n",
    "corpus = [dictionary.doc2bow(gen_doc) for gen_doc in gen_docs]\n",
    "\n",
    "file_docs = []\n",
    "\n",
    "with open ('demofile.txt') as f:\n",
    "    tokens = sent_tokenize(f.read())\n",
    "    for line in tokens:\n",
    "        file_docs.append(line)\n",
    "\n",
    "print(\"Number of documents:\",len(file_docs))"
   ]
  },
  {
   "cell_type": "code",
   "execution_count": 193,
   "metadata": {
    "collapsed": true
   },
   "outputs": [
    {
     "name": "stdout",
     "output_type": "stream",
     "text": [
      "[[(0, 1), (1, 1), (2, 1), (3, 2), (4, 1), (5, 1), (6, 1), (7, 4), (8, 1), (9, 3), (10, 1), (11, 3), (12, 1), (13, 1), (14, 1), (15, 1), (16, 1), (17, 1), (18, 1), (19, 2), (20, 1), (21, 1), (22, 1), (23, 3), (24, 1), (25, 1), (26, 1), (27, 1), (28, 1), (29, 1), (30, 1), (31, 2), (32, 1), (33, 2), (34, 4), (35, 1), (36, 2), (37, 3), (38, 1), (39, 1), (40, 1), (41, 1), (42, 16), (43, 1), (44, 3), (45, 1), (46, 1), (47, 1), (48, 1), (49, 1), (50, 1), (51, 1), (52, 1), (53, 4), (54, 19), (55, 1), (56, 2), (57, 1), (58, 1), (59, 4), (60, 2), (61, 1), (62, 2), (63, 1), (64, 1), (65, 1), (66, 1), (67, 2), (68, 3), (69, 1), (70, 3), (71, 1), (72, 2), (73, 2), (74, 1), (75, 1), (76, 1), (77, 1), (78, 1), (79, 1), (80, 1), (81, 1), (82, 1), (83, 1), (84, 4), (85, 5), (86, 2), (87, 1), (88, 1), (89, 5), (90, 3), (91, 1), (92, 1), (93, 3), (94, 1), (95, 1), (96, 1), (97, 1), (98, 1), (99, 2), (100, 4), (101, 1), (102, 1), (103, 1), (104, 1), (105, 1), (106, 2), (107, 2), (108, 1), (109, 1), (110, 1), (111, 1), (112, 1), (113, 1), (114, 1), (115, 1), (116, 1), (117, 3), (118, 1), (119, 1), (120, 1), (121, 2), (122, 6), (123, 1), (124, 1), (125, 1), (126, 1), (127, 1), (128, 1), (129, 4), (130, 1), (131, 1), (132, 3), (133, 1), (134, 2), (135, 1), (136, 2), (137, 1), (138, 1), (139, 1), (140, 2), (141, 1), (142, 1), (143, 2), (144, 1), (145, 1), (146, 1), (147, 1), (148, 2), (149, 1), (150, 1), (151, 1), (152, 2), (153, 1), (154, 1), (155, 1), (156, 3), (157, 1), (158, 2), (159, 1), (160, 1), (161, 1), (162, 2), (163, 1), (164, 1), (165, 2), (166, 2), (167, 3), (168, 1), (169, 1), (170, 1), (171, 1), (172, 1), (173, 1), (174, 1), (175, 2), (176, 1), (177, 1), (178, 1), (179, 1), (180, 1), (181, 14), (182, 3), (183, 1), (184, 1), (185, 2), (186, 2), (187, 1), (188, 1), (189, 1), (190, 1), (191, 1), (192, 1), (193, 1), (194, 1), (195, 5), (196, 1), (197, 3), (198, 3), (199, 1), (200, 1), (201, 1), (202, 2), (203, 1), (204, 1), (205, 3), (206, 1), (207, 1), (208, 1), (209, 2), (210, 1), (211, 3), (212, 1), (213, 1), (214, 1), (215, 2), (216, 1), (217, 1)], [(7, 1), (11, 2), (17, 1), (19, 3), (53, 2), (64, 1), (65, 1), (91, 1), (97, 1), (107, 1), (123, 1), (143, 1), (152, 1), (181, 10), (206, 2), (218, 1), (219, 1), (220, 2), (221, 1), (222, 2), (223, 1), (224, 2), (225, 1), (226, 2), (227, 1), (228, 1), (229, 1), (230, 1), (231, 1), (232, 1), (233, 1), (234, 1), (235, 1), (236, 2), (237, 1), (238, 1), (239, 1), (240, 2), (241, 1), (242, 5), (243, 1), (244, 1), (245, 1), (246, 1), (247, 1), (248, 1), (249, 1), (250, 2), (251, 4), (252, 1), (253, 5), (254, 1), (255, 1), (256, 1), (257, 2), (258, 1), (259, 1), (260, 8), (261, 3), (262, 1), (263, 1), (264, 1), (265, 1), (266, 1), (267, 1), (268, 1), (269, 1), (270, 3), (271, 1), (272, 1), (273, 2), (274, 3), (275, 1), (276, 1), (277, 2), (278, 1), (279, 3), (280, 1), (281, 1), (282, 1), (283, 1), (284, 1), (285, 1), (286, 1), (287, 2), (288, 1), (289, 1), (290, 2), (291, 2), (292, 1), (293, 1), (294, 5), (295, 1), (296, 1), (297, 1), (298, 1), (299, 1), (300, 1), (301, 1), (302, 4), (303, 1), (304, 1), (305, 1)], [(4, 2), (23, 1), (44, 1), (60, 1), (79, 1), (98, 1), (107, 1), (127, 1), (137, 1), (144, 3), (155, 1), (181, 3), (193, 5), (199, 1), (204, 2), (209, 1), (214, 1), (215, 1), (262, 2), (267, 1), (284, 1), (290, 2), (292, 1), (304, 1), (306, 1), (307, 1), (308, 1), (309, 1), (310, 1), (311, 1), (312, 1), (313, 1), (314, 1), (315, 2), (316, 1), (317, 2), (318, 1), (319, 1), (320, 4), (321, 1), (322, 1), (323, 1), (324, 1), (325, 2), (326, 1), (327, 1), (328, 2), (329, 2), (330, 1), (331, 1), (332, 1), (333, 1), (334, 1), (335, 1), (336, 2), (337, 1), (338, 1), (339, 1), (340, 3), (341, 1), (342, 4), (343, 1), (344, 1), (345, 1), (346, 1), (347, 1), (348, 1), (349, 1), (350, 1), (351, 1), (352, 2), (353, 1), (354, 1), (355, 1), (356, 1), (357, 1), (358, 4), (359, 1), (360, 1), (361, 1), (362, 1), (363, 1), (364, 1), (365, 1), (366, 1), (367, 1), (368, 1), (369, 4), (370, 1), (371, 1), (372, 1), (373, 1), (374, 1), (375, 1), (376, 1), (377, 1), (378, 3), (379, 1), (380, 1), (381, 1), (382, 2), (383, 1), (384, 1), (385, 3), (386, 2), (387, 1), (388, 2), (389, 3), (390, 1), (391, 1), (392, 2), (393, 5), (394, 1), (395, 1), (396, 2), (397, 1), (398, 1), (399, 1), (400, 1), (401, 1), (402, 1), (403, 1), (404, 1), (405, 1), (406, 1), (407, 2), (408, 1), (409, 4), (410, 1), (411, 1), (412, 1), (413, 1), (414, 1), (415, 1), (416, 1), (417, 3), (418, 1), (419, 1), (420, 1), (421, 1), (422, 3), (423, 1), (424, 1), (425, 2), (426, 1), (427, 1), (428, 1), (429, 1), (430, 1), (431, 1), (432, 1), (433, 1), (434, 2), (435, 2), (436, 1), (437, 1), (438, 1), (439, 1), (440, 1), (441, 1), (442, 1), (443, 1), (444, 2), (445, 7), (446, 1), (447, 1), (448, 1), (449, 2), (450, 2), (451, 1), (452, 1), (453, 1), (454, 1), (455, 1), (456, 1), (457, 1), (458, 1), (459, 2), (460, 1), (461, 1), (462, 1), (463, 1), (464, 2), (465, 1), (466, 1), (467, 1), (468, 2), (469, 1), (470, 1), (471, 1), (472, 1), (473, 1), (474, 1), (475, 1), (476, 1), (477, 1), (478, 1), (479, 1), (480, 1), (481, 1), (482, 1), (483, 1), (484, 2), (485, 3)], [(4, 1), (6, 1), (11, 6), (16, 1), (17, 1), (19, 1), (48, 1), (49, 4), (70, 1), (72, 2), (74, 1), (87, 1), (97, 5), (98, 1), (104, 2), (118, 1), (121, 1), (124, 3), (128, 2), (129, 1), (139, 1), (144, 1), (150, 1), (151, 1), (159, 1), (160, 3), (162, 1), (163, 1), (166, 1), (169, 1), (173, 1), (177, 1), (181, 30), (182, 1), (185, 1), (199, 6), (203, 1), (204, 4), (208, 1), (209, 8), (210, 1), (214, 1), (215, 1), (221, 1), (230, 1), (235, 4), (238, 2), (244, 1), (257, 3), (267, 2), (273, 1), (281, 4), (283, 1), (284, 1), (290, 3), (292, 1), (293, 2), (299, 1), (304, 7), (308, 1), (310, 1), (324, 1), (328, 5), (329, 10), (330, 5), (334, 2), (336, 1), (338, 1), (342, 1), (356, 1), (358, 2), (359, 1), (361, 1), (365, 8), (366, 3), (371, 10), (385, 1), (394, 1), (396, 1), (402, 5), (410, 2), (416, 1), (419, 1), (422, 9), (438, 3), (440, 8), (442, 1), (451, 1), (458, 4), (472, 3), (480, 2), (484, 1), (485, 1), (486, 1), (487, 1), (488, 1), (489, 1), (490, 1), (491, 1), (492, 2), (493, 1), (494, 1), (495, 1), (496, 6), (497, 3), (498, 10), (499, 3), (500, 3), (501, 1), (502, 1), (503, 1), (504, 2), (505, 1), (506, 1), (507, 1), (508, 4), (509, 1), (510, 1), (511, 4), (512, 1), (513, 1), (514, 1), (515, 1), (516, 3), (517, 1), (518, 1), (519, 1), (520, 1), (521, 1), (522, 5), (523, 1), (524, 1), (525, 1), (526, 1), (527, 8), (528, 1), (529, 1), (530, 1), (531, 2), (532, 1), (533, 1), (534, 1), (535, 2), (536, 2), (537, 2), (538, 1), (539, 2), (540, 1), (541, 1), (542, 4), (543, 1), (544, 1), (545, 1), (546, 2), (547, 1), (548, 1), (549, 1), (550, 1), (551, 1), (552, 9), (553, 1), (554, 2), (555, 1), (556, 1), (557, 1), (558, 1), (559, 1), (560, 1), (561, 1), (562, 2), (563, 5), (564, 1), (565, 1), (566, 1), (567, 2), (568, 1), (569, 1), (570, 5), (571, 1), (572, 1), (573, 1), (574, 1), (575, 1), (576, 4), (577, 1), (578, 1), (579, 1), (580, 1), (581, 1), (582, 1), (583, 1), (584, 1), (585, 2), (586, 2), (587, 3), (588, 1), (589, 1), (590, 1), (591, 1), (592, 1), (593, 4), (594, 1), (595, 14), (596, 1), (597, 7), (598, 1), (599, 2), (600, 1), (601, 3), (602, 2), (603, 1), (604, 1), (605, 1), (606, 3), (607, 1), (608, 1), (609, 1), (610, 1), (611, 1), (612, 1), (613, 1), (614, 1), (615, 1), (616, 1), (617, 1), (618, 1), (619, 1), (620, 3), (621, 1), (622, 1), (623, 1), (624, 5), (625, 2), (626, 1), (627, 3), (628, 7), (629, 1), (630, 1), (631, 1), (632, 1), (633, 1), (634, 1), (635, 1), (636, 1), (637, 3), (638, 1), (639, 2), (640, 1), (641, 6), (642, 1), (643, 1), (644, 2), (645, 1), (646, 3), (647, 3), (648, 3), (649, 1), (650, 1), (651, 1), (652, 3), (653, 1), (654, 1), (655, 2), (656, 2), (657, 1), (658, 1), (659, 7), (660, 1), (661, 1), (662, 1), (663, 1), (664, 2), (665, 3), (666, 2), (667, 1), (668, 1), (669, 2), (670, 1), (671, 1), (672, 4), (673, 1), (674, 1), (675, 2), (676, 1), (677, 1), (678, 1), (679, 2), (680, 1), (681, 1), (682, 1), (683, 1), (684, 2), (685, 1), (686, 1), (687, 16), (688, 1), (689, 3), (690, 1), (691, 7), (692, 1), (693, 3), (694, 1), (695, 1), (696, 2), (697, 3), (698, 1), (699, 1), (700, 4), (701, 1), (702, 1), (703, 1), (704, 1), (705, 1), (706, 1), (707, 2), (708, 2), (709, 3), (710, 1), (711, 1), (712, 1), (713, 1), (714, 2), (715, 1), (716, 2), (717, 1), (718, 2), (719, 1), (720, 2), (721, 1), (722, 1), (723, 1), (724, 1), (725, 1), (726, 2), (727, 1), (728, 2), (729, 1), (730, 1), (731, 3), (732, 1), (733, 2), (734, 1), (735, 1), (736, 1), (737, 3), (738, 1), (739, 1), (740, 2), (741, 1), (742, 1), (743, 1), (744, 1), (745, 3), (746, 1), (747, 1), (748, 1), (749, 2), (750, 1), (751, 1), (752, 1), (753, 1), (754, 22), (755, 1), (756, 1), (757, 2), (758, 2), (759, 1), (760, 4), (761, 1), (762, 3), (763, 2), (764, 1), (765, 1), (766, 2), (767, 1), (768, 1), (769, 3), (770, 1), (771, 3), (772, 1), (773, 1), (774, 1), (775, 1), (776, 4), (777, 1), (778, 1), (779, 1), (780, 1), (781, 1), (782, 1), (783, 1), (784, 1), (785, 1), (786, 3), (787, 2), (788, 5), (789, 5), (790, 1), (791, 1), (792, 1), (793, 1), (794, 1), (795, 1), (796, 1), (797, 2), (798, 1), (799, 1), (800, 4), (801, 1), (802, 1), (803, 3), (804, 1), (805, 3), (806, 2), (807, 1), (808, 1), (809, 5), (810, 1), (811, 1), (812, 1), (813, 1), (814, 2), (815, 1), (816, 1), (817, 2), (818, 2), (819, 1), (820, 1), (821, 1)], [(11, 1), (87, 1), (98, 1), (144, 1), (147, 1), (181, 6), (204, 1), (222, 1), (262, 1), (290, 1), (328, 1), (333, 1), (442, 1), (485, 1), (497, 1), (549, 1), (599, 1), (781, 1), (822, 1), (823, 1), (824, 1), (825, 2), (826, 5), (827, 2), (828, 2), (829, 1), (830, 1), (831, 2), (832, 1), (833, 2), (834, 2), (835, 1), (836, 2), (837, 1), (838, 1), (839, 2), (840, 2), (841, 1), (842, 1), (843, 3), (844, 2), (845, 1), (846, 1), (847, 1), (848, 2), (849, 1), (850, 1), (851, 1), (852, 1), (853, 1), (854, 1), (855, 1), (856, 1), (857, 1), (858, 1), (859, 1), (860, 1), (861, 1), (862, 1), (863, 1), (864, 1), (865, 1), (866, 3), (867, 1), (868, 2), (869, 2), (870, 1), (871, 1), (872, 2), (873, 2), (874, 1), (875, 1)], [(11, 2), (72, 1), (87, 1), (105, 1), (112, 2), (139, 1), (157, 1), (181, 2), (199, 1), (204, 1), (215, 3), (222, 4), (235, 4), (273, 2), (290, 2), (328, 1), (336, 1), (347, 1), (361, 1), (428, 1), (430, 1), (434, 1), (435, 1), (446, 1), (458, 1), (472, 1), (479, 1), (576, 1), (580, 1), (597, 1), (630, 1), (637, 3), (663, 1), (716, 1), (723, 1), (728, 3), (732, 1), (733, 3), (763, 1), (771, 1), (772, 1), (833, 1), (838, 1), (844, 2), (854, 7), (876, 3), (877, 1), (878, 1), (879, 1), (880, 1), (881, 1), (882, 1), (883, 2), (884, 5), (885, 1), (886, 1), (887, 1), (888, 2), (889, 1), (890, 1), (891, 2), (892, 2), (893, 2), (894, 1), (895, 1), (896, 1), (897, 1), (898, 1), (899, 1), (900, 1), (901, 1), (902, 2), (903, 1), (904, 2), (905, 3), (906, 1), (907, 1), (908, 1), (909, 1), (910, 2), (911, 2), (912, 1), (913, 1), (914, 1), (915, 1), (916, 1), (917, 1), (918, 2), (919, 1), (920, 6), (921, 1), (922, 3), (923, 1), (924, 1), (925, 2), (926, 1), (927, 1), (928, 1), (929, 1), (930, 1), (931, 1), (932, 2), (933, 1), (934, 1), (935, 1), (936, 1), (937, 2), (938, 1), (939, 3), (940, 1), (941, 5), (942, 1), (943, 1), (944, 1), (945, 6), (946, 1), (947, 1), (948, 1), (949, 2)], [(4, 3), (11, 1), (23, 2), (27, 1), (32, 1), (56, 1), (72, 1), (78, 1), (87, 1), (97, 1), (104, 2), (120, 2), (144, 2), (159, 1), (162, 1), (181, 18), (199, 2), (204, 1), (224, 2), (227, 1), (247, 1), (257, 1), (264, 1), (270, 1), (281, 4), (283, 1), (290, 1), (293, 2), (300, 1), (304, 1), (308, 1), (311, 1), (321, 1), (334, 5), (336, 2), (348, 1), (365, 1), (371, 1), (385, 2), (388, 1), (411, 2), (429, 1), (438, 2), (452, 4), (453, 1), (458, 1), (472, 1), (485, 15), (490, 1), (494, 1), (496, 1), (522, 1), (532, 2), (560, 5), (576, 1), (585, 1), (592, 1), (614, 1), (616, 9), (621, 1), (652, 2), (656, 1), (658, 1), (660, 1), (684, 1), (689, 1), (692, 1), (709, 1), (721, 1), (724, 1), (736, 3), (743, 1), (760, 2), (762, 2), (769, 2), (772, 1), (798, 3), (800, 3), (805, 1), (806, 1), (817, 3), (826, 1), (830, 10), (832, 1), (843, 1), (902, 2), (908, 1), (915, 1), (922, 1), (937, 1), (944, 2), (949, 1), (950, 1), (951, 1), (952, 1), (953, 1), (954, 1), (955, 1), (956, 1), (957, 1), (958, 1), (959, 1), (960, 2), (961, 1), (962, 1), (963, 1), (964, 1), (965, 1), (966, 1), (967, 2), (968, 8), (969, 1), (970, 1), (971, 1), (972, 1), (973, 1), (974, 1), (975, 1), (976, 1), (977, 1), (978, 4), (979, 12), (980, 1), (981, 1), (982, 1), (983, 1), (984, 1), (985, 1), (986, 1), (987, 1), (988, 4), (989, 1), (990, 1), (991, 1), (992, 1), (993, 1), (994, 1), (995, 1), (996, 5), (997, 1), (998, 2), (999, 1), (1000, 1), (1001, 1), (1002, 2), (1003, 1), (1004, 1), (1005, 1), (1006, 1), (1007, 1), (1008, 1), (1009, 2), (1010, 2), (1011, 1), (1012, 1), (1013, 1), (1014, 3), (1015, 1), (1016, 1), (1017, 1), (1018, 1), (1019, 1), (1020, 1), (1021, 9), (1022, 1), (1023, 2), (1024, 1), (1025, 1), (1026, 1), (1027, 1), (1028, 1), (1029, 1), (1030, 3), (1031, 2), (1032, 1), (1033, 1), (1034, 1), (1035, 1), (1036, 1), (1037, 1), (1038, 1), (1039, 1), (1040, 1), (1041, 1), (1042, 1), (1043, 3), (1044, 1), (1045, 1), (1046, 2), (1047, 1), (1048, 1), (1049, 1), (1050, 1), (1051, 1), (1052, 1), (1053, 2), (1054, 2), (1055, 1), (1056, 1), (1057, 1), (1058, 1), (1059, 1), (1060, 2), (1061, 2), (1062, 1), (1063, 1), (1064, 1), (1065, 1), (1066, 2), (1067, 1), (1068, 2), (1069, 2), (1070, 1), (1071, 2), (1072, 1), (1073, 1), (1074, 2), (1075, 7), (1076, 1), (1077, 1), (1078, 1), (1079, 1), (1080, 1), (1081, 1), (1082, 1), (1083, 1), (1084, 1), (1085, 1), (1086, 1), (1087, 1), (1088, 1), (1089, 1), (1090, 1), (1091, 1), (1092, 1), (1093, 1), (1094, 1), (1095, 1), (1096, 1), (1097, 1), (1098, 1), (1099, 1), (1100, 1), (1101, 1), (1102, 1), (1103, 1), (1104, 1), (1105, 1), (1106, 10), (1107, 1), (1108, 1), (1109, 1), (1110, 1), (1111, 1), (1112, 1), (1113, 3), (1114, 1), (1115, 2), (1116, 1), (1117, 2), (1118, 1), (1119, 4), (1120, 8), (1121, 2), (1122, 1), (1123, 1), (1124, 1), (1125, 1), (1126, 1), (1127, 1), (1128, 1), (1129, 1), (1130, 1), (1131, 1), (1132, 2), (1133, 1), (1134, 1), (1135, 1), (1136, 1), (1137, 1), (1138, 1), (1139, 1), (1140, 7), (1141, 1), (1142, 1), (1143, 5), (1144, 1), (1145, 1), (1146, 1), (1147, 1), (1148, 1), (1149, 1), (1150, 1), (1151, 1), (1152, 2), (1153, 1), (1154, 1), (1155, 13), (1156, 1), (1157, 3), (1158, 1), (1159, 2), (1160, 2), (1161, 1), (1162, 1), (1163, 1), (1164, 1), (1165, 1)], [(11, 1), (24, 1), (46, 1), (57, 1), (72, 1), (84, 8), (87, 4), (94, 1), (97, 4), (98, 2), (107, 5), (108, 1), (117, 1), (126, 2), (129, 3), (136, 2), (139, 5), (140, 2), (143, 3), (150, 1), (157, 1), (159, 1), (160, 5), (177, 1), (181, 19), (185, 1), (187, 2), (199, 5), (200, 2), (204, 8), (209, 2), (214, 1), (215, 1), (218, 1), (223, 1), (227, 1), (233, 4), (234, 2), (236, 2), (238, 3), (267, 1), (281, 4), (290, 4), (292, 3), (293, 1), (304, 1), (305, 1), (306, 3), (310, 1), (317, 2), (328, 1), (329, 1), (330, 3), (336, 1), (338, 3), (340, 1), (354, 1), (356, 4), (361, 2), (365, 10), (385, 4), (388, 1), (394, 1), (401, 1), (402, 1), (411, 1), (414, 4), (419, 2), (422, 7), (430, 3), (434, 1), (438, 4), (440, 1), (442, 1), (455, 5), (459, 1), (461, 1), (462, 1), (469, 1), (485, 2), (487, 1), (488, 1), (502, 1), (504, 2), (507, 1), (512, 1), (533, 1), (534, 1), (537, 1), (542, 1), (552, 1), (561, 1), (580, 2), (583, 1), (588, 1), (590, 1), (593, 1), (605, 1), (611, 1), (614, 2), (615, 1), (617, 2), (620, 2), (625, 1), (634, 1), (635, 2), (637, 7), (646, 1), (647, 3), (654, 2), (661, 1), (668, 1), (670, 2), (673, 2), (678, 1), (681, 1), (684, 1), (689, 1), (699, 1), (700, 3), (702, 1), (707, 1), (710, 1), (714, 2), (716, 1), (717, 2), (718, 1), (720, 1), (738, 1), (759, 2), (760, 5), (763, 2), (771, 2), (772, 1), (781, 1), (790, 1), (796, 1), (800, 1), (802, 1), (805, 4), (808, 1), (829, 2), (831, 6), (833, 3), (844, 2), (851, 1), (854, 2), (857, 8), (865, 1), (868, 1), (890, 2), (897, 2), (907, 1), (908, 1), (915, 1), (928, 1), (938, 2), (939, 1), (944, 1), (969, 1), (971, 3), (991, 1), (1002, 3), (1005, 1), (1006, 5), (1010, 3), (1014, 1), (1031, 1), (1046, 1), (1076, 3), (1099, 1), (1106, 1), (1119, 1), (1126, 1), (1132, 1), (1146, 1), (1166, 3), (1167, 1), (1168, 1), (1169, 2), (1170, 1), (1171, 3), (1172, 1), (1173, 1), (1174, 1), (1175, 1), (1176, 3), (1177, 1), (1178, 1), (1179, 4), (1180, 1), (1181, 12), (1182, 1), (1183, 1), (1184, 1), (1185, 1), (1186, 11), (1187, 3), (1188, 1), (1189, 2), (1190, 1), (1191, 1), (1192, 1), (1193, 1), (1194, 1), (1195, 1), (1196, 1), (1197, 1), (1198, 22), (1199, 2), (1200, 1), (1201, 3), (1202, 2), (1203, 1), (1204, 2), (1205, 1), (1206, 1), (1207, 1), (1208, 1), (1209, 1), (1210, 1), (1211, 3), (1212, 11), (1213, 2), (1214, 1), (1215, 1), (1216, 2), (1217, 1), (1218, 1), (1219, 1), (1220, 1), (1221, 2), (1222, 1), (1223, 1), (1224, 1), (1225, 1), (1226, 1), (1227, 2), (1228, 1), (1229, 1), (1230, 3), (1231, 1), (1232, 1), (1233, 1), (1234, 4), (1235, 1), (1236, 1), (1237, 1), (1238, 2), (1239, 1), (1240, 2), (1241, 1), (1242, 1), (1243, 1), (1244, 2), (1245, 1), (1246, 1), (1247, 2), (1248, 1), (1249, 1), (1250, 1), (1251, 1), (1252, 1), (1253, 1), (1254, 1), (1255, 2), (1256, 1), (1257, 3), (1258, 1), (1259, 1), (1260, 1), (1261, 3), (1262, 2), (1263, 1), (1264, 1), (1265, 1), (1266, 1), (1267, 1), (1268, 1), (1269, 1), (1270, 1), (1271, 1), (1272, 1), (1273, 1), (1274, 2), (1275, 1), (1276, 1), (1277, 1), (1278, 2), (1279, 3), (1280, 1), (1281, 8), (1282, 1), (1283, 1), (1284, 2), (1285, 2), (1286, 1), (1287, 1), (1288, 2), (1289, 1), (1290, 6), (1291, 1), (1292, 1), (1293, 1), (1294, 1), (1295, 1), (1296, 1), (1297, 1), (1298, 1), (1299, 1), (1300, 1), (1301, 2), (1302, 1), (1303, 5), (1304, 3), (1305, 8), (1306, 1), (1307, 1), (1308, 1), (1309, 1), (1310, 15), (1311, 1), (1312, 1), (1313, 1), (1314, 2), (1315, 1), (1316, 2), (1317, 1), (1318, 4), (1319, 1), (1320, 1), (1321, 1), (1322, 1), (1323, 3), (1324, 1), (1325, 8), (1326, 1), (1327, 1), (1328, 1), (1329, 1), (1330, 9), (1331, 2), (1332, 1), (1333, 4), (1334, 1), (1335, 5), (1336, 1), (1337, 1), (1338, 1), (1339, 1), (1340, 1), (1341, 1), (1342, 1), (1343, 1), (1344, 1), (1345, 2), (1346, 1), (1347, 3), (1348, 3)], [(11, 1), (19, 1), (86, 1), (98, 1), (129, 1), (139, 1), (158, 1), (181, 8), (184, 5), (188, 1), (199, 1), (222, 1), (281, 1), (285, 1), (290, 1), (307, 1), (317, 7), (329, 2), (340, 1), (361, 1), (366, 2), (385, 1), (396, 1), (415, 1), (419, 1), (439, 1), (452, 2), (473, 1), (485, 3), (504, 2), (538, 2), (552, 3), (564, 1), (615, 1), (689, 1), (751, 1), (759, 1), (761, 1), (772, 1), (800, 2), (805, 4), (817, 4), (831, 1), (833, 1), (843, 1), (850, 1), (861, 1), (874, 1), (896, 2), (917, 1), (955, 1), (964, 1), (1113, 1), (1114, 1), (1129, 1), (1151, 2), (1232, 1), (1241, 1), (1276, 1), (1320, 1), (1349, 1), (1350, 1), (1351, 1), (1352, 1), (1353, 2), (1354, 1), (1355, 1), (1356, 7), (1357, 1), (1358, 1), (1359, 2), (1360, 1), (1361, 1), (1362, 2), (1363, 1), (1364, 1), (1365, 1), (1366, 1), (1367, 1), (1368, 2), (1369, 2), (1370, 1), (1371, 1), (1372, 2), (1373, 1), (1374, 1), (1375, 1), (1376, 1), (1377, 1), (1378, 1), (1379, 1), (1380, 4), (1381, 3), (1382, 1), (1383, 1), (1384, 2), (1385, 1), (1386, 1), (1387, 1), (1388, 1), (1389, 1), (1390, 4), (1391, 3), (1392, 1), (1393, 1), (1394, 1), (1395, 1), (1396, 2), (1397, 1), (1398, 4), (1399, 1), (1400, 1), (1401, 1), (1402, 1), (1403, 1), (1404, 1), (1405, 1), (1406, 1), (1407, 1), (1408, 1), (1409, 1), (1410, 1), (1411, 1), (1412, 1), (1413, 8), (1414, 5), (1415, 1)]]\n"
     ]
    }
   ],
   "source": []
  },
  {
   "cell_type": "code",
   "execution_count": null,
   "metadata": {},
   "outputs": [],
   "source": []
  },
  {
   "cell_type": "code",
   "execution_count": null,
   "metadata": {},
   "outputs": [],
   "source": []
  },
  {
   "cell_type": "code",
   "execution_count": null,
   "metadata": {},
   "outputs": [],
   "source": []
  },
  {
   "cell_type": "code",
   "execution_count": 154,
   "metadata": {},
   "outputs": [],
   "source": [
    "import sys\n",
    "# insert at 1, 0 is the script path (or '' in REPL)\n",
    "sys.path.insert(1, '/Users/Cylita/Desktop/insight-ds-project_news-link/scripts')\n",
    "\n",
    "from text_normalization_funs import normalize_NewsText "
   ]
  },
  {
   "cell_type": "code",
   "execution_count": 155,
   "metadata": {},
   "outputs": [],
   "source": [
    "#Combing the news story headlines with the maintext for the stories\n",
    "news_data['full_text'] = news_data[\"title\"].map(str)+ '. ' + news_data[\"maintext\"]"
   ]
  },
  {
   "cell_type": "code",
   "execution_count": 156,
   "metadata": {},
   "outputs": [],
   "source": [
    "# pre-process text and store the same\n",
    "news_data['clean_text'] = normalize_NewsText(news_data['full_text'])"
   ]
  },
  {
   "cell_type": "code",
   "execution_count": 157,
   "metadata": {
    "collapsed": true
   },
   "outputs": [
    {
     "data": {
      "text/html": [
       "<div>\n",
       "<style scoped>\n",
       "    .dataframe tbody tr th:only-of-type {\n",
       "        vertical-align: middle;\n",
       "    }\n",
       "\n",
       "    .dataframe tbody tr th {\n",
       "        vertical-align: top;\n",
       "    }\n",
       "\n",
       "    .dataframe thead th {\n",
       "        text-align: right;\n",
       "    }\n",
       "</style>\n",
       "<table border=\"1\" class=\"dataframe\">\n",
       "  <thead>\n",
       "    <tr style=\"text-align: right;\">\n",
       "      <th></th>\n",
       "      <th>Unnamed: 0</th>\n",
       "      <th>author</th>\n",
       "      <th>date</th>\n",
       "      <th>title</th>\n",
       "      <th>maintext</th>\n",
       "      <th>mainurl</th>\n",
       "      <th>simlinks</th>\n",
       "      <th>relalinks</th>\n",
       "      <th>full_text</th>\n",
       "      <th>clean_text</th>\n",
       "    </tr>\n",
       "  </thead>\n",
       "  <tbody>\n",
       "    <tr>\n",
       "      <td>0</td>\n",
       "      <td>0</td>\n",
       "      <td>Anonymous</td>\n",
       "      <td>2020-01-20T18:54:01.116Z</td>\n",
       "      <td>Snow all but over ahead of a bitterly cold Tue...</td>\n",
       "      <td>Following Sunday's snowfall, crews continue to...</td>\n",
       "      <td>https://www.cbc.ca/news/canada/prince-edward-i...</td>\n",
       "      <td>https://www.cbc.ca/news/canada/prince-edward-i...</td>\n",
       "      <td>[]</td>\n",
       "      <td>Snow all but over ahead of a bitterly cold Tue...</td>\n",
       "      <td>snow ahead bitterly cold tuesday pei follow su...</td>\n",
       "    </tr>\n",
       "    <tr>\n",
       "      <td>1</td>\n",
       "      <td>1</td>\n",
       "      <td>Anonymous</td>\n",
       "      <td>2020-01-17T21:53:16.952Z</td>\n",
       "      <td>Forestry professor was fired for harassment an...</td>\n",
       "      <td>A biologist teaching at the Maritime College o...</td>\n",
       "      <td>https://www.cbc.ca/news/canada/new-brunswick/r...</td>\n",
       "      <td>https://www.cbc.ca/news/canada/new-brunswick/m...</td>\n",
       "      <td>/news/canada/new-brunswick/maritime-college-fo...</td>\n",
       "      <td>Forestry professor was fired for harassment an...</td>\n",
       "      <td>forestry professor fire harassment discriminat...</td>\n",
       "    </tr>\n",
       "    <tr>\n",
       "      <td>2</td>\n",
       "      <td>2</td>\n",
       "      <td>Anonymous</td>\n",
       "      <td>2019-12-09T17:43:42.150Z</td>\n",
       "      <td>Prosecutors say Alaska dentist, accused of fra...</td>\n",
       "      <td>An Alaska dentist accused of fraud and unneces...</td>\n",
       "      <td>https://www.cbc.ca/news/canada/north/alaska-de...</td>\n",
       "      <td>https://www.cbc.ca/news/canada/north/stanton-h...</td>\n",
       "      <td>/news/canada/north/stanton-health-authority-la...</td>\n",
       "      <td>Prosecutors say Alaska dentist, accused of fra...</td>\n",
       "      <td>prosecutor say alaska dentist accuse fraud rod...</td>\n",
       "    </tr>\n",
       "    <tr>\n",
       "      <td>3</td>\n",
       "      <td>3</td>\n",
       "      <td>Zulekha Nathoo</td>\n",
       "      <td>2020-01-18T23:09:29.618Z</td>\n",
       "      <td>Prince Harry and Meghan will give up royal tit...</td>\n",
       "      <td>Prince Harry and Meghan, the Duke and Duchess ...</td>\n",
       "      <td>https://www.cbc.ca/news/world/harry-meghan-los...</td>\n",
       "      <td>https://www.cbc.ca/news/world/royal-romance-pr...</td>\n",
       "      <td>https://gem.cbc.ca/media/the-passionate-eye/se...</td>\n",
       "      <td>Prince Harry and Meghan will give up royal tit...</td>\n",
       "      <td>prince harry meghan give royal title public fu...</td>\n",
       "    </tr>\n",
       "    <tr>\n",
       "      <td>4</td>\n",
       "      <td>4</td>\n",
       "      <td>Rosa Marchitelli</td>\n",
       "      <td>2019-04-15T16:17:03.386Z</td>\n",
       "      <td>Pesticide on planes: Parents call for changes ...</td>\n",
       "      <td>Rania Khunaysir didn't see it coming when she ...</td>\n",
       "      <td>https://www.cbc.ca/news/health/airline-cabin-p...</td>\n",
       "      <td>[]</td>\n",
       "      <td>https://www.cbc.ca/news/canada/flights-filthy-...</td>\n",
       "      <td>Pesticide on planes: Parents call for changes ...</td>\n",
       "      <td>pesticide plane parent call change cabin fumig...</td>\n",
       "    </tr>\n",
       "    <tr>\n",
       "      <td>5</td>\n",
       "      <td>5</td>\n",
       "      <td>Anonymous</td>\n",
       "      <td>2020-01-16T22:06:41.621Z</td>\n",
       "      <td>Bombardier shares drop after it says revenue w...</td>\n",
       "      <td>Shares in Bombardier Inc. plunged more than 30...</td>\n",
       "      <td>https://www.cbc.ca/news/business/bombardier-do...</td>\n",
       "      <td>https://www.cbc.ca/news/business/bombardier-hi...</td>\n",
       "      <td>[]</td>\n",
       "      <td>Bombardier shares drop after it says revenue w...</td>\n",
       "      <td>bombardi share drop say revenue fall short sha...</td>\n",
       "    </tr>\n",
       "    <tr>\n",
       "      <td>6</td>\n",
       "      <td>6</td>\n",
       "      <td>Anonymous</td>\n",
       "      <td>2020-01-21T00:13:16.841Z</td>\n",
       "      <td>Terra Nova oil platform ordered to stop all wo...</td>\n",
       "      <td>Suncor Energy has been ordered to immediately ...</td>\n",
       "      <td>https://www.cbc.ca/news/canada/newfoundland-la...</td>\n",
       "      <td>[]</td>\n",
       "      <td>/news/canada/newfoundland-labrador/terra-nova-...</td>\n",
       "      <td>Terra Nova oil platform ordered to stop all wo...</td>\n",
       "      <td>terra nova oil platform order stop work confin...</td>\n",
       "    </tr>\n",
       "    <tr>\n",
       "      <td>7</td>\n",
       "      <td>7</td>\n",
       "      <td>Anonymous</td>\n",
       "      <td>2020-01-15T20:13:53.817Z</td>\n",
       "      <td>Earth just had its hottest decade on record</td>\n",
       "      <td>The decade that just ended was by far the hott...</td>\n",
       "      <td>https://www.cbc.ca/news/technology/hottest-dec...</td>\n",
       "      <td>https://www.cbc.ca/news/technology/global-temp...</td>\n",
       "      <td>/news/technology/what-on-earth-newsletter-clim...</td>\n",
       "      <td>Earth just had its hottest decade on record. T...</td>\n",
       "      <td>earth hot decade record decade end far hot eve...</td>\n",
       "    </tr>\n",
       "    <tr>\n",
       "      <td>8</td>\n",
       "      <td>8</td>\n",
       "      <td>Erica Johnson</td>\n",
       "      <td>2019-04-02T17:51:22.864Z</td>\n",
       "      <td>Bell customer's 5-month fight is 1 of almost 1...</td>\n",
       "      <td>Matthew Tomlinson spent five months trying to ...</td>\n",
       "      <td>https://www.cbc.ca/news/business/telecom-telev...</td>\n",
       "      <td>[]</td>\n",
       "      <td>https://www.cbc.ca/news/business/parents-wirel...</td>\n",
       "      <td>Bell customer's 5-month fight is 1 of almost 1...</td>\n",
       "      <td>bell customer month fight almost recent compla...</td>\n",
       "    </tr>\n",
       "    <tr>\n",
       "      <td>9</td>\n",
       "      <td>9</td>\n",
       "      <td>Anonymous</td>\n",
       "      <td>2020-01-20T15:14:11.237Z</td>\n",
       "      <td>Malaysia sends back 150 containers of trash, s...</td>\n",
       "      <td>Malaysia has sent back 150 containers of plast...</td>\n",
       "      <td>https://www.cbc.ca/news/world/malaysia-sends-b...</td>\n",
       "      <td>https://www.cbc.ca/news/world/sp-malaysia-cana...</td>\n",
       "      <td>/news/world/sp-malaysia-canada-garbage-1.51555...</td>\n",
       "      <td>Malaysia sends back 150 containers of trash, s...</td>\n",
       "      <td>malaysia send back container trash say world r...</td>\n",
       "    </tr>\n",
       "  </tbody>\n",
       "</table>\n",
       "</div>"
      ],
      "text/plain": [
       "   Unnamed: 0            author                      date  \\\n",
       "0           0         Anonymous  2020-01-20T18:54:01.116Z   \n",
       "1           1         Anonymous  2020-01-17T21:53:16.952Z   \n",
       "2           2         Anonymous  2019-12-09T17:43:42.150Z   \n",
       "3           3    Zulekha Nathoo  2020-01-18T23:09:29.618Z   \n",
       "4           4  Rosa Marchitelli  2019-04-15T16:17:03.386Z   \n",
       "5           5         Anonymous  2020-01-16T22:06:41.621Z   \n",
       "6           6         Anonymous  2020-01-21T00:13:16.841Z   \n",
       "7           7         Anonymous  2020-01-15T20:13:53.817Z   \n",
       "8           8     Erica Johnson  2019-04-02T17:51:22.864Z   \n",
       "9           9         Anonymous  2020-01-20T15:14:11.237Z   \n",
       "\n",
       "                                               title  \\\n",
       "0  Snow all but over ahead of a bitterly cold Tue...   \n",
       "1  Forestry professor was fired for harassment an...   \n",
       "2  Prosecutors say Alaska dentist, accused of fra...   \n",
       "3  Prince Harry and Meghan will give up royal tit...   \n",
       "4  Pesticide on planes: Parents call for changes ...   \n",
       "5  Bombardier shares drop after it says revenue w...   \n",
       "6  Terra Nova oil platform ordered to stop all wo...   \n",
       "7        Earth just had its hottest decade on record   \n",
       "8  Bell customer's 5-month fight is 1 of almost 1...   \n",
       "9  Malaysia sends back 150 containers of trash, s...   \n",
       "\n",
       "                                            maintext  \\\n",
       "0  Following Sunday's snowfall, crews continue to...   \n",
       "1  A biologist teaching at the Maritime College o...   \n",
       "2  An Alaska dentist accused of fraud and unneces...   \n",
       "3  Prince Harry and Meghan, the Duke and Duchess ...   \n",
       "4  Rania Khunaysir didn't see it coming when she ...   \n",
       "5  Shares in Bombardier Inc. plunged more than 30...   \n",
       "6  Suncor Energy has been ordered to immediately ...   \n",
       "7  The decade that just ended was by far the hott...   \n",
       "8  Matthew Tomlinson spent five months trying to ...   \n",
       "9  Malaysia has sent back 150 containers of plast...   \n",
       "\n",
       "                                             mainurl  \\\n",
       "0  https://www.cbc.ca/news/canada/prince-edward-i...   \n",
       "1  https://www.cbc.ca/news/canada/new-brunswick/r...   \n",
       "2  https://www.cbc.ca/news/canada/north/alaska-de...   \n",
       "3  https://www.cbc.ca/news/world/harry-meghan-los...   \n",
       "4  https://www.cbc.ca/news/health/airline-cabin-p...   \n",
       "5  https://www.cbc.ca/news/business/bombardier-do...   \n",
       "6  https://www.cbc.ca/news/canada/newfoundland-la...   \n",
       "7  https://www.cbc.ca/news/technology/hottest-dec...   \n",
       "8  https://www.cbc.ca/news/business/telecom-telev...   \n",
       "9  https://www.cbc.ca/news/world/malaysia-sends-b...   \n",
       "\n",
       "                                            simlinks  \\\n",
       "0  https://www.cbc.ca/news/canada/prince-edward-i...   \n",
       "1  https://www.cbc.ca/news/canada/new-brunswick/m...   \n",
       "2  https://www.cbc.ca/news/canada/north/stanton-h...   \n",
       "3  https://www.cbc.ca/news/world/royal-romance-pr...   \n",
       "4                                                 []   \n",
       "5  https://www.cbc.ca/news/business/bombardier-hi...   \n",
       "6                                                 []   \n",
       "7  https://www.cbc.ca/news/technology/global-temp...   \n",
       "8                                                 []   \n",
       "9  https://www.cbc.ca/news/world/sp-malaysia-cana...   \n",
       "\n",
       "                                           relalinks  \\\n",
       "0                                                 []   \n",
       "1  /news/canada/new-brunswick/maritime-college-fo...   \n",
       "2  /news/canada/north/stanton-health-authority-la...   \n",
       "3  https://gem.cbc.ca/media/the-passionate-eye/se...   \n",
       "4  https://www.cbc.ca/news/canada/flights-filthy-...   \n",
       "5                                                 []   \n",
       "6  /news/canada/newfoundland-labrador/terra-nova-...   \n",
       "7  /news/technology/what-on-earth-newsletter-clim...   \n",
       "8  https://www.cbc.ca/news/business/parents-wirel...   \n",
       "9  /news/world/sp-malaysia-canada-garbage-1.51555...   \n",
       "\n",
       "                                           full_text  \\\n",
       "0  Snow all but over ahead of a bitterly cold Tue...   \n",
       "1  Forestry professor was fired for harassment an...   \n",
       "2  Prosecutors say Alaska dentist, accused of fra...   \n",
       "3  Prince Harry and Meghan will give up royal tit...   \n",
       "4  Pesticide on planes: Parents call for changes ...   \n",
       "5  Bombardier shares drop after it says revenue w...   \n",
       "6  Terra Nova oil platform ordered to stop all wo...   \n",
       "7  Earth just had its hottest decade on record. T...   \n",
       "8  Bell customer's 5-month fight is 1 of almost 1...   \n",
       "9  Malaysia sends back 150 containers of trash, s...   \n",
       "\n",
       "                                          clean_text  \n",
       "0  snow ahead bitterly cold tuesday pei follow su...  \n",
       "1  forestry professor fire harassment discriminat...  \n",
       "2  prosecutor say alaska dentist accuse fraud rod...  \n",
       "3  prince harry meghan give royal title public fu...  \n",
       "4  pesticide plane parent call change cabin fumig...  \n",
       "5  bombardi share drop say revenue fall short sha...  \n",
       "6  terra nova oil platform order stop work confin...  \n",
       "7  earth hot decade record decade end far hot eve...  \n",
       "8  bell customer month fight almost recent compla...  \n",
       "9  malaysia send back container trash say world r...  "
      ]
     },
     "execution_count": 157,
     "metadata": {},
     "output_type": "execute_result"
    }
   ],
   "source": [
    "news_data.head(10)"
   ]
  },
  {
   "cell_type": "code",
   "execution_count": 138,
   "metadata": {
    "collapsed": true
   },
   "outputs": [
    {
     "name": "stdout",
     "output_type": "stream",
     "text": [
      "<class 'str'>\n",
      "<class 'str'>\n",
      "<class 'str'>\n",
      "<class 'str'>\n",
      "<class 'str'>\n",
      "<class 'str'>\n",
      "<class 'str'>\n",
      "<class 'str'>\n",
      "<class 'str'>\n",
      "<class 'str'>\n",
      "<class 'str'>\n",
      "<class 'str'>\n",
      "<class 'str'>\n",
      "<class 'str'>\n",
      "<class 'str'>\n",
      "<class 'str'>\n",
      "<class 'str'>\n",
      "<class 'str'>\n",
      "<class 'str'>\n",
      "<class 'str'>\n",
      "<class 'str'>\n",
      "<class 'str'>\n",
      "<class 'str'>\n",
      "<class 'str'>\n",
      "<class 'str'>\n",
      "<class 'str'>\n",
      "<class 'str'>\n",
      "<class 'str'>\n",
      "<class 'str'>\n",
      "<class 'str'>\n",
      "<class 'str'>\n",
      "<class 'float'>\n",
      "<class 'str'>\n",
      "<class 'str'>\n",
      "<class 'str'>\n",
      "<class 'str'>\n",
      "<class 'str'>\n",
      "<class 'str'>\n",
      "<class 'str'>\n",
      "<class 'str'>\n",
      "<class 'str'>\n",
      "<class 'float'>\n",
      "<class 'str'>\n",
      "<class 'str'>\n",
      "<class 'str'>\n",
      "<class 'str'>\n",
      "<class 'str'>\n",
      "<class 'str'>\n",
      "<class 'str'>\n",
      "<class 'str'>\n",
      "<class 'str'>\n",
      "<class 'str'>\n",
      "<class 'str'>\n",
      "<class 'str'>\n",
      "<class 'str'>\n",
      "<class 'str'>\n",
      "<class 'str'>\n",
      "<class 'str'>\n",
      "<class 'str'>\n",
      "<class 'str'>\n",
      "<class 'str'>\n",
      "<class 'str'>\n",
      "<class 'str'>\n",
      "<class 'float'>\n",
      "<class 'str'>\n",
      "<class 'str'>\n",
      "<class 'float'>\n",
      "<class 'float'>\n",
      "<class 'str'>\n",
      "<class 'str'>\n",
      "<class 'str'>\n",
      "<class 'str'>\n",
      "<class 'str'>\n",
      "<class 'str'>\n",
      "<class 'str'>\n",
      "<class 'str'>\n",
      "<class 'str'>\n",
      "<class 'str'>\n",
      "<class 'str'>\n",
      "<class 'str'>\n",
      "<class 'str'>\n",
      "<class 'float'>\n",
      "<class 'str'>\n",
      "<class 'str'>\n",
      "<class 'str'>\n",
      "<class 'str'>\n",
      "<class 'str'>\n",
      "<class 'str'>\n",
      "<class 'str'>\n",
      "<class 'str'>\n",
      "<class 'str'>\n",
      "<class 'str'>\n",
      "<class 'str'>\n",
      "<class 'float'>\n",
      "<class 'str'>\n",
      "<class 'str'>\n",
      "<class 'str'>\n",
      "<class 'str'>\n",
      "<class 'str'>\n",
      "<class 'str'>\n",
      "<class 'float'>\n",
      "<class 'str'>\n",
      "<class 'str'>\n",
      "<class 'str'>\n",
      "<class 'float'>\n",
      "<class 'str'>\n",
      "<class 'str'>\n",
      "<class 'str'>\n",
      "<class 'str'>\n",
      "<class 'str'>\n",
      "<class 'str'>\n",
      "<class 'str'>\n",
      "<class 'str'>\n",
      "<class 'str'>\n",
      "<class 'str'>\n",
      "<class 'str'>\n",
      "<class 'str'>\n",
      "<class 'str'>\n",
      "<class 'str'>\n",
      "<class 'str'>\n",
      "<class 'str'>\n",
      "<class 'str'>\n",
      "<class 'str'>\n",
      "<class 'float'>\n",
      "<class 'str'>\n",
      "<class 'str'>\n",
      "<class 'str'>\n",
      "<class 'str'>\n",
      "<class 'str'>\n",
      "<class 'str'>\n",
      "<class 'str'>\n",
      "<class 'str'>\n",
      "<class 'float'>\n",
      "<class 'str'>\n",
      "<class 'str'>\n",
      "<class 'float'>\n",
      "<class 'str'>\n",
      "<class 'str'>\n",
      "<class 'str'>\n",
      "<class 'str'>\n",
      "<class 'str'>\n",
      "<class 'str'>\n",
      "<class 'str'>\n",
      "<class 'str'>\n",
      "<class 'str'>\n",
      "<class 'str'>\n",
      "<class 'str'>\n",
      "<class 'str'>\n",
      "<class 'str'>\n",
      "<class 'str'>\n",
      "<class 'str'>\n",
      "<class 'str'>\n",
      "<class 'str'>\n",
      "<class 'str'>\n",
      "<class 'str'>\n",
      "<class 'str'>\n",
      "<class 'str'>\n",
      "<class 'str'>\n",
      "<class 'str'>\n",
      "<class 'str'>\n",
      "<class 'str'>\n",
      "<class 'float'>\n",
      "<class 'str'>\n",
      "<class 'str'>\n",
      "<class 'str'>\n",
      "<class 'str'>\n",
      "<class 'str'>\n",
      "<class 'str'>\n",
      "<class 'str'>\n",
      "<class 'str'>\n",
      "<class 'str'>\n",
      "<class 'str'>\n",
      "<class 'str'>\n",
      "<class 'str'>\n",
      "<class 'str'>\n",
      "<class 'str'>\n",
      "<class 'str'>\n",
      "<class 'str'>\n",
      "<class 'str'>\n",
      "<class 'str'>\n",
      "<class 'str'>\n",
      "<class 'str'>\n",
      "<class 'str'>\n",
      "<class 'str'>\n",
      "<class 'str'>\n",
      "<class 'str'>\n",
      "<class 'str'>\n",
      "<class 'str'>\n",
      "<class 'str'>\n",
      "<class 'str'>\n",
      "<class 'str'>\n",
      "<class 'str'>\n",
      "<class 'str'>\n",
      "<class 'str'>\n",
      "<class 'str'>\n",
      "<class 'str'>\n",
      "<class 'str'>\n",
      "<class 'str'>\n",
      "<class 'str'>\n",
      "<class 'str'>\n",
      "<class 'str'>\n",
      "<class 'str'>\n",
      "<class 'str'>\n",
      "<class 'str'>\n",
      "<class 'str'>\n",
      "<class 'str'>\n",
      "<class 'str'>\n",
      "<class 'str'>\n",
      "<class 'str'>\n",
      "<class 'str'>\n",
      "<class 'str'>\n",
      "<class 'str'>\n",
      "<class 'str'>\n",
      "<class 'str'>\n",
      "<class 'str'>\n",
      "<class 'str'>\n",
      "<class 'str'>\n",
      "<class 'str'>\n",
      "<class 'str'>\n",
      "<class 'str'>\n",
      "<class 'str'>\n",
      "<class 'str'>\n",
      "<class 'str'>\n",
      "<class 'str'>\n",
      "<class 'str'>\n",
      "<class 'str'>\n",
      "<class 'str'>\n",
      "<class 'str'>\n",
      "<class 'str'>\n",
      "<class 'str'>\n",
      "<class 'str'>\n",
      "<class 'str'>\n",
      "<class 'str'>\n",
      "<class 'str'>\n",
      "<class 'str'>\n",
      "<class 'str'>\n",
      "<class 'str'>\n",
      "<class 'str'>\n",
      "<class 'str'>\n",
      "<class 'str'>\n",
      "<class 'str'>\n",
      "<class 'str'>\n",
      "<class 'str'>\n",
      "<class 'str'>\n",
      "<class 'str'>\n",
      "<class 'str'>\n",
      "<class 'str'>\n",
      "<class 'str'>\n",
      "<class 'str'>\n",
      "<class 'str'>\n",
      "<class 'str'>\n",
      "<class 'str'>\n",
      "<class 'str'>\n",
      "<class 'str'>\n",
      "<class 'str'>\n",
      "<class 'str'>\n",
      "<class 'str'>\n",
      "<class 'str'>\n",
      "<class 'str'>\n",
      "<class 'str'>\n",
      "<class 'str'>\n",
      "<class 'str'>\n",
      "<class 'str'>\n",
      "<class 'str'>\n",
      "<class 'str'>\n",
      "<class 'str'>\n",
      "<class 'str'>\n",
      "<class 'str'>\n",
      "<class 'str'>\n",
      "<class 'str'>\n",
      "<class 'str'>\n",
      "<class 'str'>\n",
      "<class 'str'>\n",
      "<class 'str'>\n",
      "<class 'str'>\n",
      "<class 'str'>\n",
      "<class 'str'>\n",
      "<class 'str'>\n",
      "<class 'str'>\n",
      "<class 'str'>\n",
      "<class 'str'>\n",
      "<class 'str'>\n",
      "<class 'str'>\n",
      "<class 'str'>\n",
      "<class 'str'>\n",
      "<class 'str'>\n",
      "<class 'str'>\n",
      "<class 'str'>\n",
      "<class 'str'>\n",
      "<class 'str'>\n",
      "<class 'str'>\n",
      "<class 'str'>\n",
      "<class 'str'>\n",
      "<class 'str'>\n",
      "<class 'str'>\n",
      "<class 'str'>\n",
      "<class 'str'>\n",
      "<class 'str'>\n",
      "<class 'str'>\n",
      "<class 'str'>\n",
      "<class 'str'>\n",
      "<class 'float'>\n",
      "<class 'str'>\n",
      "<class 'str'>\n",
      "<class 'str'>\n",
      "<class 'str'>\n",
      "<class 'str'>\n",
      "<class 'str'>\n",
      "<class 'str'>\n",
      "<class 'str'>\n",
      "<class 'str'>\n",
      "<class 'str'>\n",
      "<class 'str'>\n",
      "<class 'str'>\n",
      "<class 'str'>\n",
      "<class 'str'>\n",
      "<class 'str'>\n",
      "<class 'str'>\n",
      "<class 'str'>\n",
      "<class 'str'>\n",
      "<class 'str'>\n",
      "<class 'str'>\n",
      "<class 'float'>\n",
      "<class 'str'>\n",
      "<class 'str'>\n",
      "<class 'str'>\n",
      "<class 'str'>\n",
      "<class 'str'>\n",
      "<class 'str'>\n",
      "<class 'str'>\n",
      "<class 'str'>\n",
      "<class 'str'>\n",
      "<class 'str'>\n",
      "<class 'str'>\n",
      "<class 'str'>\n",
      "<class 'str'>\n",
      "<class 'str'>\n",
      "<class 'str'>\n",
      "<class 'str'>\n",
      "<class 'str'>\n",
      "<class 'str'>\n",
      "<class 'str'>\n",
      "<class 'str'>\n",
      "<class 'str'>\n",
      "<class 'str'>\n",
      "<class 'str'>\n",
      "<class 'str'>\n",
      "<class 'float'>\n",
      "<class 'str'>\n",
      "<class 'str'>\n",
      "<class 'str'>\n",
      "<class 'str'>\n",
      "<class 'str'>\n",
      "<class 'str'>\n",
      "<class 'float'>\n",
      "<class 'str'>\n",
      "<class 'str'>\n",
      "<class 'str'>\n",
      "<class 'str'>\n",
      "<class 'str'>\n",
      "<class 'str'>\n",
      "<class 'str'>\n",
      "<class 'str'>\n",
      "<class 'float'>\n",
      "<class 'str'>\n",
      "<class 'str'>\n",
      "<class 'str'>\n",
      "<class 'str'>\n",
      "<class 'str'>\n",
      "<class 'str'>\n",
      "<class 'str'>\n",
      "<class 'str'>\n",
      "<class 'str'>\n",
      "<class 'str'>\n",
      "<class 'str'>\n",
      "<class 'str'>\n",
      "<class 'str'>\n",
      "<class 'str'>\n",
      "<class 'str'>\n",
      "<class 'str'>\n",
      "<class 'str'>\n",
      "<class 'str'>\n",
      "<class 'str'>\n",
      "<class 'str'>\n",
      "<class 'str'>\n",
      "<class 'str'>\n",
      "<class 'str'>\n",
      "<class 'str'>\n",
      "<class 'str'>\n",
      "<class 'str'>\n",
      "<class 'str'>\n",
      "<class 'str'>\n",
      "<class 'str'>\n",
      "<class 'str'>\n",
      "<class 'str'>\n",
      "<class 'str'>\n",
      "<class 'str'>\n",
      "<class 'str'>\n",
      "<class 'str'>\n",
      "<class 'str'>\n",
      "<class 'str'>\n",
      "<class 'str'>\n",
      "<class 'str'>\n",
      "<class 'str'>\n",
      "<class 'str'>\n",
      "<class 'str'>\n",
      "<class 'str'>\n",
      "<class 'str'>\n",
      "<class 'str'>\n",
      "<class 'float'>\n",
      "<class 'str'>\n",
      "<class 'str'>\n",
      "<class 'str'>\n",
      "<class 'str'>\n",
      "<class 'str'>\n",
      "<class 'str'>\n",
      "<class 'str'>\n",
      "<class 'str'>\n",
      "<class 'str'>\n",
      "<class 'str'>\n",
      "<class 'str'>\n",
      "<class 'str'>\n",
      "<class 'str'>\n",
      "<class 'str'>\n",
      "<class 'str'>\n",
      "<class 'float'>\n",
      "<class 'str'>\n",
      "<class 'str'>\n",
      "<class 'str'>\n",
      "<class 'str'>\n",
      "<class 'str'>\n",
      "<class 'str'>\n",
      "<class 'str'>\n",
      "<class 'str'>\n",
      "<class 'str'>\n",
      "<class 'str'>\n",
      "<class 'str'>\n",
      "<class 'str'>\n",
      "<class 'str'>\n",
      "<class 'str'>\n",
      "<class 'str'>\n",
      "<class 'str'>\n",
      "<class 'str'>\n",
      "<class 'str'>\n",
      "<class 'str'>\n",
      "<class 'str'>\n",
      "<class 'str'>\n",
      "<class 'str'>\n",
      "<class 'str'>\n",
      "<class 'str'>\n",
      "<class 'str'>\n",
      "<class 'str'>\n",
      "<class 'str'>\n",
      "<class 'str'>\n",
      "<class 'str'>\n",
      "<class 'str'>\n"
     ]
    }
   ],
   "source": [
    "for doc in news_data['full_text']:\n",
    "    print(type(doc))"
   ]
  },
  {
   "cell_type": "code",
   "execution_count": 140,
   "metadata": {},
   "outputs": [
    {
     "data": {
      "text/plain": [
       "nan"
      ]
     },
     "execution_count": 140,
     "metadata": {},
     "output_type": "execute_result"
    }
   ],
   "source": [
    "news_data['full_text'].iloc[31]"
   ]
  },
  {
   "cell_type": "code",
   "execution_count": null,
   "metadata": {},
   "outputs": [],
   "source": []
  },
  {
   "cell_type": "code",
   "execution_count": 22,
   "metadata": {
    "collapsed": true
   },
   "outputs": [
    {
     "name": "stdout",
     "output_type": "stream",
     "text": [
      "Rania Khunaysir didnt see it coming when she booked a lastminute Caribbean vacation for her young family The Toronto parent had no idea the airplane cabin would be fumigated with them on board just before they landed in Jamaica despite guidelines that say passengers should be clearly and repeatedly informed of the requirement before they fly  Suddenly there was an announcement on the intercom saying that [flight attendants will] be walking down the aisle spraying a nontoxic insecticide  I thought insecticide doesnt sound nontoxic Khunaysir told Go Public about the familys flight last August Khunaysirs husband Randy Beharry and their threeyearold daughter are both asthmatic The couples son who was seven months old at the time was also on the flight I was worried about my kids Beharry said My asthma triggered probably within minutes I had a hard time breathing The experience left the family concerned about potential health impacts of the spray and calling for strict rules that require passengers to be clearly informed before they fly I dont want to be inhaling this pesticide Khunaysir said  More than two dozen countries such as Jamaica the Dominican Republic and Mexico require airlines to spray insecticides on flights that arrive from Canada The process is meant to kill insects that could spread disease The World Health Organization has said it has found no evidence the sprays used are harmful to human health when they are used as recommended but also says nonchemical methods need to be found   The longstanding practice is raising concerns among some health experts There is no such thing as a nontoxic pesticide said researcher Chris van Netten a professor emeritus with the University of British Columbias school of population and public health He calls the widespread system of spraying pesticides not acceptable and said airline crew members and passengers need to be better informed and protected  especially children older travellers and those with respiratory problems  Frequent traveller Josie Ball from Selkirk Ont flies to Cuba several times a year with Sunwing and said she was shocked the first time she was on a flight where the cabin was sprayed  She said people on her flight in April 2018 were coughing and wheezing  I think the public should have been aware  that there is a spraying in these countries  and [told] a little bit more about the chemical theyre spraying she said She now takes her own mask when shes travelling to hotter countries  Harlene Hart from Newington southeast of Ottawa was on her way to Cuba on another Sunwing flight in February a birthday present from her boyfriend when the cabin was sprayed with pesticide about an hour before they landed  Insecticide should be sprayed in a wellventilated area she told Go Public in an email Not a sardine can with partially reused air What upsets her most she said is that she wasnt clearly notified before she purchased her ticket She said she wouldnt have taken the trip if she had known Canadian airlines are not obligated to let passengers know before they fly that the cabin will be sprayed with insecticide  despite studies cited by health experts Go Public spoke with who say the spraying can cause serious asthma attacks skin irritations and longterm problems with the nervous system Transport Canada said theres nothing it can do but the transportation authority does acknowledge the practice could pose a foreseeable hazard  The video below was posted by YouTube user ScottTheCoffeeGeek It is unverified but appears to show a flight attendant on a China Eastern flight carrying out the topofdescent disinsection procedure which involves spraying while passengers are on board  Go Public found an advisory issued in 2009 where the department said passengers with respiratory issues need to be clearly informed before they fly so they can get advice from their own physician  on whether they should travel to those destinations That advisory sets guidelines  not rules  saying airlines should notify passengers  Before they purchase their tickets  On the flight ticket itself  Before boarding the aircraft None of the four Canadian airlines that travel to these destinations informs passengers using all three methods  WestJet points out that disinsection is only required on four of the 20 countries it flies to and two other airlines that fly to these countries  Sunwing and Air Transat  say they are complying with guidelines by putting the information on their websites and telling passengers who ask Air Canada also requires passengers booking online to click on a box agreeing to the airlines General Conditions of Carriage Halfway through that document there is information about the spraying being carried out on certain routes  The airline also mentions aircraft disinfection on its Health Tips section of the website and provides a link to that section on the itinerary emailed to passengers who book directly with Air Canada  However passengers wont see that link if they book through third party websites like Khunaysir did when she booked her Air Canada flight Van Netten who has studied the effects of repeated exposure to pesticides said the message that insecticide will be used in plane cabins isnt getting through He said airlines and Transport Canada can do better People have a right to know what they are going to be exposed to  The practice of fumigating an airplanes cabin started decades ago Its mandated by governments outside Canada and considered necessary to control potentially deadly diseases that can be transmitted via insects  such as malaria and yellow fever  before entering certain tropical countries  Twentyseven countries require Canadian airlines to spray Two methods are used according to the Transport Canada website spraying aerosol insecticides in the cabin while passengers are onboard and treating the airplanes interior surfaces before passengers board Both of them have their problems van Netten said  He said the second method leaves toxic residue on surfaces travellers eat and sleep on noting recent studies have drawn a link between both methods of spraying and effects on the nervous system Tingling in the fingers for instance  thats how it would start And it can go all the way up to a neurological impairment  but that takes a lot of exposure to get to that stage The spray often contains an insecticide called Permethrin a pesticide thats been approved by the World Health Organization for whats called disinsection on flights  The union representing flight attendants in Canada is also worried about the spraying  We get reports of a sore throat sore eyes  lots of skin conditions said Troy Winters senior health and safety officer for the Canadian Union of Public Employees Ive got a recent report about skin peeling off of the inside of somebodys hand and we had one fairly serious asthma reaction   Hes concerned about the longterm effects of repeated exposure on airline staff saying some can be exposed to the spray more than 100 times during their career Recently Ive started to see some reports of potential longerterm results and Im concerned about potential longterm neurological effects  There are no industrywide rules on what if any protective gear flight attendants wear while fumigating  All the airlines say they provide training and safety equipment to staff Winters would like to see the Canadian government put pressure on the destination countries to reduce the use suggesting a review of whether a flight leaving Canada in the dead of winter really needs to be fumigated  The US has a law that requires airlines to disclose disinsection on their website and refer travellers to the specific section when they buy a ticket  The Federal Aviation Administrations Reauthorization Act also recommends the US government work with WHO to find a safe effective and nontoxic means of preventing the transportation of diseasecarrying mosquitoes and other insects on commercial aircraft There are nonspraying methods being developed like a mechanical air curtain that blows everything out in one direction but they are still in the testing stages  WHO says the chemicals used pose no risk to human health when used properly but when it reviewed current disinsection practices in 2018 it said there is a need for new nonchemical methods For now travellers have few options  such as choosing to travel to countries that dont require spraying travelling with a mask to put on before the spraying starts and being sure to wipe down all surfaces on the plane when passengers settle in Khunaysir and Beharry say given the age of their children and asthma issues they would have chosen another destination if they were told ahead of them that theyd be sprayed  Im really surprised that they allow this to continue Khunaysir said I wouldve had no problem saying Lets change our destination lets go somewhere else where they dont require that  Submit your story ideas Go Public is an investigative news segment on CBCTV radio and the web We tell your stories and hold the powers that be accountable We want to hear from people across the country with stories you want to make public Submit your story ideas to gopubliccbcca Follow CBCGoPublic on Twitter\n"
     ]
    }
   ],
   "source": [
    "testing_chars = remove_special_characters(test2)\n",
    "print(testing_chars)"
   ]
  },
  {
   "cell_type": "code",
   "execution_count": 40,
   "metadata": {},
   "outputs": [],
   "source": [
    "#Defining a function to convert all the text to lowercase\n",
    "def lowercase_text(text):\n",
    "    text_lower = text.lower()\n",
    "    return text_lower\n",
    "\n",
    "def nonums(text):\n",
    "    pattern = '[0-9]'\n",
    "    output = re.sub(pattern,'', text)\n",
    "    return output\n",
    "\n",
    "#The following code removes punctuation and other special charecters\n",
    "def special2(text):\n",
    "    modified_string = re.sub(r'[^a-zA-Z0-9_\\s]+', '', text)\n",
    "    output = modified_string.replace('_', '')\n",
    "    return output"
   ]
  },
  {
   "cell_type": "code",
   "execution_count": 80,
   "metadata": {},
   "outputs": [],
   "source": [
    "#The following function is meant to combine text to clean it\n",
    "def cleantext(text):\n",
    "    #creating all lowercase text\n",
    "    lowered = lowercase_text(text)\n",
    "    \n",
    "    #removing numbers\n",
    "    nums = nonums(lowered)\n",
    "    \n",
    "    #removing special characters\n",
    "    nochars = special2(nums)\n",
    "    \n",
    "    #Returning cleaned text\n",
    "    return nochars"
   ]
  },
  {
   "cell_type": "code",
   "execution_count": 81,
   "metadata": {
    "collapsed": true
   },
   "outputs": [
    {
     "name": "stdout",
     "output_type": "stream",
     "text": [
      "rania khunaysir didnt see it coming when she booked a lastminute caribbean vacation for her young family the toronto parent had no idea the airplane cabin would be fumigated with them on board just before they landed in jamaica despite guidelines that say passengers should be clearly and repeatedly informed of the requirement before they fly  suddenly there was an announcement on the intercom saying that flight attendants will be walking down the aisle spraying a nontoxic insecticide  i thought insecticide doesnt sound nontoxic khunaysir told go public about the familys flight last august khunaysirs husband randy beharry and their threeyearold daughter are both asthmatic the couples son who was seven months old at the time was also on the flight i was worried about my kids beharry said my asthma triggered probably within minutes i had a hard time breathing the experience left the family concerned about potential health impacts of the spray and calling for strict rules that require passengers to be clearly informed before they fly i dont want to be inhaling this pesticide khunaysir said  more than two dozen countries such as jamaica the dominican republic and mexico require airlines to spray insecticides on flights that arrive from canada the process is meant to kill insects that could spread disease the world health organization has said it has found no evidence the sprays used are harmful to human health when they are used as recommended but also says nonchemical methods need to be found   the longstanding practice is raising concerns among some health experts there is no such thing as a nontoxic pesticide said researcher chris van netten a professor emeritus with the university of british columbias school of population and public health he calls the widespread system of spraying pesticides not acceptable and said airline crew members and passengers need to be better informed and protected  especially children older travellers and those with respiratory problems  frequent traveller josie ball from selkirk ont flies to cuba several times a year with sunwing and said she was shocked the first time she was on a flight where the cabin was sprayed  she said people on her flight in april  were coughing and wheezing  i think the public should have been aware  that there is a spraying in these countries  and told a little bit more about the chemical theyre spraying she said she now takes her own mask when shes travelling to hotter countries  harlene hart from newington southeast of ottawa was on her way to cuba on another sunwing flight in february a birthday present from her boyfriend when the cabin was sprayed with pesticide about an hour before they landed  insecticide should be sprayed in a wellventilated area she told go public in an email not a sardine can with partially reused air what upsets her most she said is that she wasnt clearly notified before she purchased her ticket she said she wouldnt have taken the trip if she had known canadian airlines are not obligated to let passengers know before they fly that the cabin will be sprayed with insecticide  despite studies cited by health experts go public spoke with who say the spraying can cause serious asthma attacks skin irritations and longterm problems with the nervous system transport canada said theres nothing it can do but the transportation authority does acknowledge the practice could pose a foreseeable hazard  the video below was posted by youtube user scottthecoffeegeek it is unverified but appears to show a flight attendant on a china eastern flight carrying out the topofdescent disinsection procedure which involves spraying while passengers are on board  go public found an advisory issued in  where the department said passengers with respiratory issues need to be clearly informed before they fly so they can get advice from their own physician  on whether they should travel to those destinations that advisory sets guidelines  not rules  saying airlines should notify passengers  before they purchase their tickets  on the flight ticket itself  before boarding the aircraft none of the four canadian airlines that travel to these destinations informs passengers using all three methods  westjet points out that disinsection is only required on four of the  countries it flies to and two other airlines that fly to these countries  sunwing and air transat  say they are complying with guidelines by putting the information on their websites and telling passengers who ask air canada also requires passengers booking online to click on a box agreeing to the airlines general conditions of carriage halfway through that document there is information about the spraying being carried out on certain routes  the airline also mentions aircraft disinfection on its health tips section of the website and provides a link to that section on the itinerary emailed to passengers who book directly with air canada  however passengers wont see that link if they book through third party websites like khunaysir did when she booked her air canada flight van netten who has studied the effects of repeated exposure to pesticides said the message that insecticide will be used in plane cabins isnt getting through he said airlines and transport canada can do better people have a right to know what they are going to be exposed to  the practice of fumigating an airplanes cabin started decades ago its mandated by governments outside canada and considered necessary to control potentially deadly diseases that can be transmitted via insects  such as malaria and yellow fever  before entering certain tropical countries  twentyseven countries require canadian airlines to spray two methods are used according to the transport canada website spraying aerosol insecticides in the cabin while passengers are onboard and treating the airplanes interior surfaces before passengers board both of them have their problems van netten said  he said the second method leaves toxic residue on surfaces travellers eat and sleep on noting recent studies have drawn a link between both methods of spraying and effects on the nervous system tingling in the fingers for instance  thats how it would start and it can go all the way up to a neurological impairment  but that takes a lot of exposure to get to that stage the spray often contains an insecticide called permethrin a pesticide thats been approved by the world health organization for whats called disinsection on flights  the union representing flight attendants in canada is also worried about the spraying  we get reports of a sore throat sore eyes  lots of skin conditions said troy winters senior health and safety officer for the canadian union of public employees ive got a recent report about skin peeling off of the inside of somebodys hand and we had one fairly serious asthma reaction   hes concerned about the longterm effects of repeated exposure on airline staff saying some can be exposed to the spray more than  times during their career recently ive started to see some reports of potential longerterm results and im concerned about potential longterm neurological effects  there are no industrywide rules on what if any protective gear flight attendants wear while fumigating  all the airlines say they provide training and safety equipment to staff winters would like to see the canadian government put pressure on the destination countries to reduce the use suggesting a review of whether a flight leaving canada in the dead of winter really needs to be fumigated  the us has a law that requires airlines to disclose disinsection on their website and refer travellers to the specific section when they buy a ticket  the federal aviation administrations reauthorization act also recommends the us government work with who to find a safe effective and nontoxic means of preventing the transportation of diseasecarrying mosquitoes and other insects on commercial aircraft there are nonspraying methods being developed like a mechanical air curtain that blows everything out in one direction but they are still in the testing stages  who says the chemicals used pose no risk to human health when used properly but when it reviewed current disinsection practices in  it said there is a need for new nonchemical methods for now travellers have few options  such as choosing to travel to countries that dont require spraying travelling with a mask to put on before the spraying starts and being sure to wipe down all surfaces on the plane when passengers settle in khunaysir and beharry say given the age of their children and asthma issues they would have chosen another destination if they were told ahead of them that theyd be sprayed  im really surprised that they allow this to continue khunaysir said i wouldve had no problem saying lets change our destination lets go somewhere else where they dont require that  submit your story ideas go public is an investigative news segment on cbctv radio and the web we tell your stories and hold the powers that be accountable we want to hear from people across the country with stories you want to make public submit your story ideas to gopubliccbcca follow cbcgopublic on twitter\n"
     ]
    }
   ],
   "source": [
    "b = cleantext(test2)\n",
    "print(b)"
   ]
  },
  {
   "cell_type": "code",
   "execution_count": null,
   "metadata": {},
   "outputs": [],
   "source": []
  },
  {
   "cell_type": "code",
   "execution_count": 89,
   "metadata": {},
   "outputs": [],
   "source": [
    "#Following function will be for removing stopwrods\n",
    "from nltk.corpus import stopwords \n",
    "from nltk.tokenize import word_tokenize\n",
    "\n",
    "def nostopwords(text):\n",
    "    #Using nlkt library to set common english stopwords\n",
    "    stop_words = set(stopwords.words('english'))\n",
    "    #Creating word tokens from body of text\n",
    "    word_tokens = word_tokenize(text)\n",
    "    \n",
    "    #Filitering tokens for stopwords\n",
    "    filtered_tokens = [token for token in word_tokens if token not in stop_words]\n",
    "    #Filtering text\n",
    "    filtered_text = ' '.join(filtered_tokens) \n",
    "    return filtered_text"
   ]
  },
  {
   "cell_type": "code",
   "execution_count": 91,
   "metadata": {
    "collapsed": true
   },
   "outputs": [
    {
     "name": "stderr",
     "output_type": "stream",
     "text": [
      "[nltk_data] Downloading package punkt to /Users/Cylita/nltk_data...\n",
      "[nltk_data]   Unzipping tokenizers/punkt.zip.\n"
     ]
    },
    {
     "data": {
      "text/plain": [
       "True"
      ]
     },
     "execution_count": 91,
     "metadata": {},
     "output_type": "execute_result"
    }
   ],
   "source": []
  },
  {
   "cell_type": "code",
   "execution_count": 92,
   "metadata": {
    "collapsed": true
   },
   "outputs": [
    {
     "name": "stdout",
     "output_type": "stream",
     "text": [
      "rania khunaysir didnt see coming booked lastminute caribbean vacation young family toronto parent idea airplane cabin would fumigated board landed jamaica despite guidelines say passengers clearly repeatedly informed requirement fly suddenly announcement intercom saying flight attendants walking aisle spraying nontoxic insecticide thought insecticide doesnt sound nontoxic khunaysir told go public familys flight last august khunaysirs husband randy beharry threeyearold daughter asthmatic couples son seven months old time also flight worried kids beharry said asthma triggered probably within minutes hard time breathing experience left family concerned potential health impacts spray calling strict rules require passengers clearly informed fly dont want inhaling pesticide khunaysir said two dozen countries jamaica dominican republic mexico require airlines spray insecticides flights arrive canada process meant kill insects could spread disease world health organization said found evidence sprays used harmful human health used recommended also says nonchemical methods need found longstanding practice raising concerns among health experts thing nontoxic pesticide said researcher chris van netten professor emeritus university british columbias school population public health calls widespread system spraying pesticides acceptable said airline crew members passengers need better informed protected especially children older travellers respiratory problems frequent traveller josie ball selkirk ont flies cuba several times year sunwing said shocked first time flight cabin sprayed said people flight april coughing wheezing think public aware spraying countries told little bit chemical theyre spraying said takes mask shes travelling hotter countries harlene hart newington southeast ottawa way cuba another sunwing flight february birthday present boyfriend cabin sprayed pesticide hour landed insecticide sprayed wellventilated area told go public email sardine partially reused air upsets said wasnt clearly notified purchased ticket said wouldnt taken trip known canadian airlines obligated let passengers know fly cabin sprayed insecticide despite studies cited health experts go public spoke say spraying cause serious asthma attacks skin irritations longterm problems nervous system transport canada said theres nothing transportation authority acknowledge practice could pose foreseeable hazard video posted youtube user scottthecoffeegeek unverified appears show flight attendant china eastern flight carrying topofdescent disinsection procedure involves spraying passengers board go public found advisory issued department said passengers respiratory issues need clearly informed fly get advice physician whether travel destinations advisory sets guidelines rules saying airlines notify passengers purchase tickets flight ticket boarding aircraft none four canadian airlines travel destinations informs passengers using three methods westjet points disinsection required four countries flies two airlines fly countries sunwing air transat say complying guidelines putting information websites telling passengers ask air canada also requires passengers booking online click box agreeing airlines general conditions carriage halfway document information spraying carried certain routes airline also mentions aircraft disinfection health tips section website provides link section itinerary emailed passengers book directly air canada however passengers wont see link book third party websites like khunaysir booked air canada flight van netten studied effects repeated exposure pesticides said message insecticide used plane cabins isnt getting said airlines transport canada better people right know going exposed practice fumigating airplanes cabin started decades ago mandated governments outside canada considered necessary control potentially deadly diseases transmitted via insects malaria yellow fever entering certain tropical countries twentyseven countries require canadian airlines spray two methods used according transport canada website spraying aerosol insecticides cabin passengers onboard treating airplanes interior surfaces passengers board problems van netten said said second method leaves toxic residue surfaces travellers eat sleep noting recent studies drawn link methods spraying effects nervous system tingling fingers instance thats would start go way neurological impairment takes lot exposure get stage spray often contains insecticide called permethrin pesticide thats approved world health organization whats called disinsection flights union representing flight attendants canada also worried spraying get reports sore throat sore eyes lots skin conditions said troy winters senior health safety officer canadian union public employees ive got recent report skin peeling inside somebodys hand one fairly serious asthma reaction hes concerned longterm effects repeated exposure airline staff saying exposed spray times career recently ive started see reports potential longerterm results im concerned potential longterm neurological effects industrywide rules protective gear flight attendants wear fumigating airlines say provide training safety equipment staff winters would like see canadian government put pressure destination countries reduce use suggesting review whether flight leaving canada dead winter really needs fumigated us law requires airlines disclose disinsection website refer travellers specific section buy ticket federal aviation administrations reauthorization act also recommends us government work find safe effective nontoxic means preventing transportation diseasecarrying mosquitoes insects commercial aircraft nonspraying methods developed like mechanical air curtain blows everything one direction still testing stages says chemicals used pose risk human health used properly reviewed current disinsection practices said need new nonchemical methods travellers options choosing travel countries dont require spraying travelling mask put spraying starts sure wipe surfaces plane passengers settle khunaysir beharry say given age children asthma issues would chosen another destination told ahead theyd sprayed im really surprised allow continue khunaysir said wouldve problem saying lets change destination lets go somewhere else dont require submit story ideas go public investigative news segment cbctv radio web tell stories hold powers accountable want hear people across country stories want make public submit story ideas gopubliccbcca follow cbcgopublic twitter\n"
     ]
    }
   ],
   "source": [
    "c = nostopwords(b)\n",
    "print(c)"
   ]
  },
  {
   "cell_type": "code",
   "execution_count": null,
   "metadata": {},
   "outputs": [],
   "source": [
    "def remove_accented_chars(text):\n",
    "    text = unicodedata.normalize('NFKD', text).encode('ascii', 'ignore').decode('utf-8', 'ignore')\n",
    "    return text"
   ]
  },
  {
   "cell_type": "code",
   "execution_count": 96,
   "metadata": {},
   "outputs": [],
   "source": [
    "import contractions\n",
    "\n",
    "CONTRACTION_MAP = {\n",
    "\"ain't\": \"is not\",\n",
    "\"aren't\": \"are not\",\n",
    "\"can't\": \"cannot\",\n",
    "\"can't've\": \"cannot have\",\n",
    "\"'cause\": \"because\",\n",
    "\"could've\": \"could have\",\n",
    "\"couldn't\": \"could not\",\n",
    "\"couldn't've\": \"could not have\",\n",
    "\"didn't\": \"did not\",\n",
    "\"doesn't\": \"does not\",\n",
    "\"don't\": \"do not\",\n",
    "\"hadn't\": \"had not\",\n",
    "\"hadn't've\": \"had not have\",\n",
    "\"hasn't\": \"has not\",\n",
    "\"haven't\": \"have not\",\n",
    "\"he'd\": \"he would\",\n",
    "\"he'd've\": \"he would have\",\n",
    "\"he'll\": \"he will\",\n",
    "\"he'll've\": \"he he will have\",\n",
    "\"he's\": \"he is\",\n",
    "\"how'd\": \"how did\",\n",
    "\"how'd'y\": \"how do you\",\n",
    "\"how'll\": \"how will\",\n",
    "\"how's\": \"how is\",\n",
    "\"I'd\": \"I would\",\n",
    "\"I'd've\": \"I would have\",\n",
    "\"I'll\": \"I will\",\n",
    "\"I'll've\": \"I will have\",\n",
    "\"I'm\": \"I am\",\n",
    "\"I've\": \"I have\",\n",
    "\"i'd\": \"i would\",\n",
    "\"i'd've\": \"i would have\",\n",
    "\"i'll\": \"i will\",\n",
    "\"i'll've\": \"i will have\",\n",
    "\"i'm\": \"i am\",\n",
    "\"i've\": \"i have\",\n",
    "\"isn't\": \"is not\",\n",
    "\"it'd\": \"it would\",\n",
    "\"it'd've\": \"it would have\",\n",
    "\"it'll\": \"it will\",\n",
    "\"it'll've\": \"it will have\",\n",
    "\"it's\": \"it is\",\n",
    "\"let's\": \"let us\",\n",
    "\"ma'am\": \"madam\",\n",
    "\"mayn't\": \"may not\",\n",
    "\"might've\": \"might have\",\n",
    "\"mightn't\": \"might not\",\n",
    "\"mightn't've\": \"might not have\",\n",
    "\"must've\": \"must have\",\n",
    "\"mustn't\": \"must not\",\n",
    "\"mustn't've\": \"must not have\",\n",
    "\"needn't\": \"need not\",\n",
    "\"needn't've\": \"need not have\",\n",
    "\"o'clock\": \"of the clock\",\n",
    "\"oughtn't\": \"ought not\",\n",
    "\"oughtn't've\": \"ought not have\",\n",
    "\"shan't\": \"shall not\",\n",
    "\"sha'n't\": \"shall not\",\n",
    "\"shan't've\": \"shall not have\",\n",
    "\"she'd\": \"she would\",\n",
    "\"she'd've\": \"she would have\",\n",
    "\"she'll\": \"she will\",\n",
    "\"she'll've\": \"she will have\",\n",
    "\"she's\": \"she is\",\n",
    "\"should've\": \"should have\",\n",
    "\"shouldn't\": \"should not\",\n",
    "\"shouldn't've\": \"should not have\",\n",
    "\"so've\": \"so have\",\n",
    "\"so's\": \"so as\",\n",
    "\"that'd\": \"that would\",\n",
    "\"that'd've\": \"that would have\",\n",
    "\"that's\": \"that is\",\n",
    "\"there'd\": \"there would\",\n",
    "\"there'd've\": \"there would have\",\n",
    "\"there's\": \"there is\",\n",
    "\"they'd\": \"they would\",\n",
    "\"they'd've\": \"they would have\",\n",
    "\"they'll\": \"they will\",\n",
    "\"they'll've\": \"they will have\",\n",
    "\"they're\": \"they are\",\n",
    "\"they've\": \"they have\",\n",
    "\"to've\": \"to have\",\n",
    "\"wasn't\": \"was not\",\n",
    "\"we'd\": \"we would\",\n",
    "\"we'd've\": \"we would have\",\n",
    "\"we'll\": \"we will\",\n",
    "\"we'll've\": \"we will have\",\n",
    "\"we're\": \"we are\",\n",
    "\"we've\": \"we have\",\n",
    "\"weren't\": \"were not\",\n",
    "\"what'll\": \"what will\",\n",
    "\"what'll've\": \"what will have\",\n",
    "\"what're\": \"what are\",\n",
    "\"what's\": \"what is\",\n",
    "\"what've\": \"what have\",\n",
    "\"when's\": \"when is\",\n",
    "\"when've\": \"when have\",\n",
    "\"where'd\": \"where did\",\n",
    "\"where's\": \"where is\",\n",
    "\"where've\": \"where have\",\n",
    "\"who'll\": \"who will\",\n",
    "\"who'll've\": \"who will have\",\n",
    "\"who's\": \"who is\",\n",
    "\"who've\": \"who have\",\n",
    "\"why's\": \"why is\",\n",
    "\"why've\": \"why have\",\n",
    "\"will've\": \"will have\",\n",
    "\"won't\": \"will not\",\n",
    "\"won't've\": \"will not have\",\n",
    "\"would've\": \"would have\",\n",
    "\"wouldn't\": \"would not\",\n",
    "\"wouldn't've\": \"would not have\",\n",
    "\"y'all\": \"you all\",\n",
    "\"y'all'd\": \"you all would\",\n",
    "\"y'all'd've\": \"you all would have\",\n",
    "\"y'all're\": \"you all are\",\n",
    "\"y'all've\": \"you all have\",\n",
    "\"you'd\": \"you would\",\n",
    "\"you'd've\": \"you would have\",\n",
    "\"you'll\": \"you will\",\n",
    "\"you'll've\": \"you will have\",\n",
    "\"you're\": \"you are\",\n",
    "\"you've\": \"you have\"\n",
    "}"
   ]
  },
  {
   "cell_type": "code",
   "execution_count": 97,
   "metadata": {},
   "outputs": [],
   "source": [
    "def expand_contractions(text, contraction_mapping=CONTRACTION_MAP):\n",
    "    \n",
    "    contractions_pattern = re.compile('({})'.format('|'.join(contraction_mapping.keys())), \n",
    "                                      flags=re.IGNORECASE|re.DOTALL)\n",
    "    def expand_match(contraction):\n",
    "        match = contraction.group(0)\n",
    "        first_char = match[0]\n",
    "        expanded_contraction = contraction_mapping.get(match)\\\n",
    "                                if contraction_mapping.get(match)\\\n",
    "                                else contraction_mapping.get(match.lower())                       \n",
    "        expanded_contraction = first_char+expanded_contraction[1:]\n",
    "        return expanded_contraction\n",
    "        \n",
    "    expanded_text = contractions_pattern.sub(expand_match, text)\n",
    "    expanded_text = re.sub(\"'\", \"\", expanded_text)\n",
    "    return expanded_text\n"
   ]
  },
  {
   "cell_type": "code",
   "execution_count": 101,
   "metadata": {
    "collapsed": true
   },
   "outputs": [
    {
     "name": "stdout",
     "output_type": "stream",
     "text": [
      "rania khunaysir didnt see coming booked lastminute caribbean vacation young family toronto parent idea airplane cabin would fumigated board landed jamaica despite guidelines say passengers clearly repeatedly informed requirement fly suddenly announcement intercom saying flight attendants walking aisle spraying nontoxic insecticide thought insecticide doesnt sound nontoxic khunaysir told go public familys flight last august khunaysirs husband randy beharry threeyearold daughter asthmatic couples son seven months old time also flight worried kids beharry said asthma triggered probably within minutes hard time breathing experience left family concerned potential health impacts spray calling strict rules require passengers clearly informed fly dont want inhaling pesticide khunaysir said two dozen countries jamaica dominican republic mexico require airlines spray insecticides flights arrive canada process meant kill insects could spread disease world health organization said found evidence sprays used harmful human health used recommended also says nonchemical methods need found longstanding practice raising concerns among health experts thing nontoxic pesticide said researcher chris van netten professor emeritus university british columbias school population public health calls widespread system spraying pesticides acceptable said airline crew members passengers need better informed protected especially children older travellers respiratory problems frequent traveller josie ball selkirk ont flies cuba several times year sunwing said shocked first time flight cabin sprayed said people flight april coughing wheezing think public aware spraying countries told little bit chemical theyre spraying said takes mask shes travelling hotter countries harlene hart newington southeast ottawa way cuba another sunwing flight february birthday present boyfriend cabin sprayed pesticide hour landed insecticide sprayed wellventilated area told go public email sardine partially reused air upsets said wasnt clearly notified purchased ticket said wouldnt taken trip known canadian airlines obligated let passengers know fly cabin sprayed insecticide despite studies cited health experts go public spoke say spraying cause serious asthma attacks skin irritations longterm problems nervous system transport canada said theres nothing transportation authority acknowledge practice could pose foreseeable hazard video posted youtube user scottthecoffeegeek unverified appears show flight attendant china eastern flight carrying topofdescent disinsection procedure involves spraying passengers board go public found advisory issued department said passengers respiratory issues need clearly informed fly get advice physician whether travel destinations advisory sets guidelines rules saying airlines notify passengers purchase tickets flight ticket boarding aircraft none four canadian airlines travel destinations informs passengers using three methods westjet points disinsection required four countries flies two airlines fly countries sunwing air transat say complying guidelines putting information websites telling passengers ask air canada also requires passengers booking online click box agreeing airlines general conditions carriage halfway document information spraying carried certain routes airline also mentions aircraft disinfection health tips section website provides link section itinerary emailed passengers book directly air canada however passengers wont see link book third party websites like khunaysir booked air canada flight van netten studied effects repeated exposure pesticides said message insecticide used plane cabins isnt getting said airlines transport canada better people right know going exposed practice fumigating airplanes cabin started decades ago mandated governments outside canada considered necessary control potentially deadly diseases transmitted via insects malaria yellow fever entering certain tropical countries twentyseven countries require canadian airlines spray two methods used according transport canada website spraying aerosol insecticides cabin passengers onboard treating airplanes interior surfaces passengers board problems van netten said said second method leaves toxic residue surfaces travellers eat sleep noting recent studies drawn link methods spraying effects nervous system tingling fingers instance thats would start go way neurological impairment takes lot exposure get stage spray often contains insecticide called permethrin pesticide thats approved world health organization whats called disinsection flights union representing flight attendants canada also worried spraying get reports sore throat sore eyes lots skin conditions said troy winters senior health safety officer canadian union public employees ive got recent report skin peeling inside somebodys hand one fairly serious asthma reaction hes concerned longterm effects repeated exposure airline staff saying exposed spray times career recently ive started see reports potential longerterm results im concerned potential longterm neurological effects industrywide rules protective gear flight attendants wear fumigating airlines say provide training safety equipment staff winters would like see canadian government put pressure destination countries reduce use suggesting review whether flight leaving canada dead winter really needs fumigated us law requires airlines disclose disinsection website refer travellers specific section buy ticket federal aviation administrations reauthorization act also recommends us government work find safe effective nontoxic means preventing transportation diseasecarrying mosquitoes insects commercial aircraft nonspraying methods developed like mechanical air curtain blows everything one direction still testing stages says chemicals used pose risk human health used properly reviewed current disinsection practices said need new nonchemical methods travellers options choosing travel countries dont require spraying travelling mask put spraying starts sure wipe surfaces plane passengers settle khunaysir beharry say given age children asthma issues would chosen another destination told ahead theyd sprayed im really surprised allow continue khunaysir said wouldve problem saying lets change destination lets go somewhere else dont require submit story ideas go public investigative news segment cbctv radio web tell stories hold powers accountable want hear people across country stories want make public submit story ideas gopubliccbcca follow cbcgopublic twitter\n"
     ]
    }
   ],
   "source": [
    "d = expand_contractions(c)\n",
    "print(d)"
   ]
  },
  {
   "cell_type": "code",
   "execution_count": 111,
   "metadata": {},
   "outputs": [],
   "source": [
    "#Following funciton meant to lemmitize text\n",
    "nlp = spacy.load('en')\n",
    "def lemmatize_text(text):\n",
    "    text = nlp(text)\n",
    "    text = ' '.join([word.lemma_ if word.lemma_ != '-PRON-' else word.text for word in text])\n",
    "    return text"
   ]
  },
  {
   "cell_type": "code",
   "execution_count": 112,
   "metadata": {
    "collapsed": true
   },
   "outputs": [
    {
     "name": "stdout",
     "output_type": "stream",
     "text": [
      "rania khunaysir do not see come book lastminute caribbean vacation young family toronto parent idea airplane cabin would fumigate board land jamaica despite guideline say passenger clearly repeatedly inform requirement fly suddenly announcement intercom say flight attendant walk aisle spray nontoxic insecticide think insecticide do not sound nontoxic khunaysir tell go public familys flight last august khunaysirs husband randy beharry threeyearold daughter asthmatic couple son seven month old time also flight worry kid beharry say asthma trigger probably within minute hard time breathe experience leave family concern potential health impact spray call strict rule require passenger clearly inform fly do not want inhale pesticide khunaysir say two dozen country jamaica dominican republic mexico require airlines spray insecticide flight arrive canada process mean kill insect could spread disease world health organization say find evidence spray use harmful human health use recommend also say nonchemical method need find longstanding practice raise concern among health expert thing nontoxic pesticide say researcher chris van netten professor emeritus university british columbias school population public health call widespread system spray pesticide acceptable say airline crew member passenger need better inform protect especially child old traveller respiratory problem frequent traveller josie ball selkirk ont fly cuba several times year sunwing say shocked first time flight cabin spray say people flight april cough wheezing think public aware spray country tell little bit chemical they be spray say take mask she s travel hot countries harlene hart newington southeast ottawa way cuba another sunwe flight february birthday present boyfriend cabin spray pesticide hour land insecticide spray wellventilated area tell go public email sardine partially reuse air upset say be not clearly notify purchase ticket say would not taken trip know canadian airline obligate let passenger know fly cabin spray insecticide despite study cite health expert go public speak say spray cause serious asthma attack skin irritation longterm problem nervous system transport canada say there s nothing transportation authority acknowledge practice could pose foreseeable hazard video post youtube user scottthecoffeegeek unverified appear show flight attendant china eastern flight carry topofdescent disinsection procedure involve spray passenger board go public find advisory issue department say passenger respiratory issue need clearly inform fly get advice physician whether travel destination advisory set guideline rule say airline notify passenger purchase ticket flight ticket boarding aircraft none four canadian airlines travel destination inform passenger use three method westjet point disinsection require four country fly two airline fly country sunwe air transat say comply guideline put information website tell passenger ask air canada also require passenger book online click box agree airline general condition carriage halfway document information spray carry certain route airline also mention aircraft disinfection health tip section website provide link section itinerary email passenger book directly air canada however passenger will not see link book third party website like khunaysir book air canada flight van netten study effect repeat exposure pesticide say message insecticide use plane cabin be not get say airlines transport canada well people right know go expose practice fumigating airplane cabin start decade ago mandate government outside canada consider necessary control potentially deadly disease transmit via insect malaria yellow fever enter certain tropical country twentyseven country require canadian airline spray two method use accord transport canada website spray aerosol insecticides cabin passenger onboard treat airplane interior surface passenger board problems van netten say say second method leave toxic residue surface traveller eat sleep note recent study draw link method spray effect nervous system tingle finger instance that s would start go way neurological impairment take lot exposure get stage spray often contain insecticide call permethrin pesticide that s approve world health organization what s call disinsection flight union represent flight attendant canada also worry spray get report sore throat sore eye lot skin condition say troy winters senior health safety officer canadian union public employee i have get recent report skin peel inside somebodys hand one fairly serious asthma reaction he s concerned longterm effect repeat exposure airline staff say expose spray time career recently i have start see report potential longerterm result i be concern potential longterm neurological effect industrywide rule protective gear flight attendant wear fumigating airline say provide training safety equipment staff winter would like see canadian government put pressure destination country reduce use suggest review whether flight leave canada dead winter really need fumigate us law require airline disclose disinsection website refer traveller specific section buy ticket federal aviation administration reauthorization act also recommend us government work find safe effective nontoxic mean prevent transportation diseasecarrye mosquito insect commercial aircraft nonspraying method develop like mechanical air curtain blow everything one direction still test stage say chemical use pose risk human health use properly review current disinsection practice say need new nonchemical method traveller option choose travel country do not require spray travel mask put spray start sure wipe surface plane passenger settle khunaysir beharry say give age child asthma issue would choose another destination tell ahead they would spray i be really surprised allow continue khunaysir say would have problem say let change destination let go somewhere else do not require submit story idea go public investigative news segment cbctv radio web tell story hold power accountable want hear people across country story want make public submit story idea gopubliccbcca follow cbcgopublic twitter\n"
     ]
    }
   ],
   "source": [
    "e = lemmatize_text(d)\n",
    "print (e)"
   ]
  },
  {
   "cell_type": "code",
   "execution_count": 109,
   "metadata": {},
   "outputs": [],
   "source": [
    "import spacy"
   ]
  },
  {
   "cell_type": "code",
   "execution_count": null,
   "metadata": {},
   "outputs": [],
   "source": [
    "def normalize_NewsText(corpus, contraction_expansion=True,\n",
    "                     accented_char_removal=True, text_lower_case=True, \n",
    "                     text_lemmatization=True, special_char_removal=True, \n",
    "                     stopword_removal=True, remove_digits=True):\n",
    "    \n",
    "    normalized_corpus = []\n",
    "    # normalize each document in the corpus\n",
    "    for doc in corpus:\n",
    "        # strip HTML\n",
    "        if html_stripping:\n",
    "            doc = strip_html_tags(doc)\n",
    "        # remove accented characters\n",
    "        if accented_char_removal:\n",
    "            doc = remove_accented_chars(doc)\n",
    "        # expand contractions    \n",
    "        if contraction_expansion:\n",
    "            doc = expand_contractions(doc)\n",
    "        # lowercase the text    \n",
    "        if text_lower_case:\n",
    "            doc = doc.lower()\n",
    "        # remove extra newlines\n",
    "        doc = re.sub(r'[\\r|\\n|\\r\\n]+', ' ',doc)\n",
    "        # lemmatize text\n",
    "        if text_lemmatization:\n",
    "            doc = lemmatize_text(doc)\n",
    "        # remove special characters and\\or digits    \n",
    "        if special_char_removal:\n",
    "            # insert spaces between special characters to isolate them    \n",
    "            special_char_pattern = re.compile(r'([{.(-)!}])')\n",
    "            doc = special_char_pattern.sub(\" \\\\1 \", doc)\n",
    "            doc = remove_special_characters(doc, remove_digits=remove_digits)  \n",
    "        # remove extra whitespace\n",
    "        doc = re.sub(' +', ' ', doc)\n",
    "        # remove stopwords\n",
    "        if stopword_removal:\n",
    "            doc = remove_stopwords(doc, is_lower_case=text_lower_case)\n",
    "            \n",
    "        normalized_corpus.append(doc)\n",
    "        \n",
    "    return normalized_corpus"
   ]
  }
 ],
 "metadata": {
  "kernelspec": {
   "display_name": "Python 3",
   "language": "python",
   "name": "python3"
  },
  "language_info": {
   "codemirror_mode": {
    "name": "ipython",
    "version": 3
   },
   "file_extension": ".py",
   "mimetype": "text/x-python",
   "name": "python",
   "nbconvert_exporter": "python",
   "pygments_lexer": "ipython3",
   "version": "3.7.4"
  }
 },
 "nbformat": 4,
 "nbformat_minor": 2
}
